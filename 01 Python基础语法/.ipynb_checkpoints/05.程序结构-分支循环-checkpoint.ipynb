{
 "cells": [
  {
   "cell_type": "markdown",
   "metadata": {},
   "source": [
    "# 程序结构\n",
    "- 程序三种结构，可应对所有程序\n",
    "   - 顺序，常用基本，一行一行运行\n",
    "   - 循环\n",
    "   - 分支\n",
    "   - 少用特例，一般不允许使用**goto语句** 时空穿梭"
   ]
  },
  {
   "cell_type": "markdown",
   "metadata": {},
   "source": [
    "# 分支结构\n",
    " - 分支结构基本语法\n",
    "           if 条件表达式：\n",
    "              语句1\n",
    "              语句2\n",
    "              语句3\n",
    "              ......\n",
    " - 条件表达式计算结果必需为布尔值表达式\n",
    " - 表达式后面的冒号不能少\n",
    " - 注意if后面的出现语句，如果属于if语句块，则必须同一个缩进等级\n",
    " - 条件表达式结果为True执行if后面的缩进语句块"
   ]
  },
  {
   "cell_type": "code",
   "execution_count": 16,
   "metadata": {
    "scrolled": true
   },
   "outputs": [
    {
     "name": "stdout",
     "output_type": "stream",
     "text": [
      "我就发财了\n",
      "赢取刘雨霞\n",
      "日子照样过\n",
      "180\n",
      "好奇怪\n"
     ]
    }
   ],
   "source": [
    "# if 语句练习\n",
    "# 如果你们都买我的习题课，我就发财了\n",
    "\n",
    "a = \"认真工作\" \n",
    "# 字符串的真假\n",
    "# 只有空字符串为False,其余全为True\n",
    "if a :\n",
    "    print(\"我就发财了\")\n",
    "    print(\"赢取刘雨霞\")\n",
    "\n",
    "print(\"日子照样过\")\n",
    "\n",
    "a = 80\n",
    "if a < 100:\n",
    "    print(a+100)\n",
    "print('好奇怪')"
   ]
  },
  {
   "cell_type": "code",
   "execution_count": 20,
   "metadata": {},
   "outputs": [
    {
     "name": "stdout",
     "output_type": "stream",
     "text": [
      "55\n",
      "搬砖去吧\n"
     ]
    }
   ],
   "source": [
    "# if练习2\n",
    "# input，输入的是字符串，（）里面可以输入字符串进行输入内容提示，需要进行类型转化\n",
    "s = int(input('请输入你的分数：'))\n",
    "if s < 100 and s >= 90:\n",
    "    print(\"非常棒\")\n",
    "if s < 90 and s >= 80:\n",
    "    print('还不错')\n",
    "if s < 80 and s >= 70:\n",
    "    print('继续加油')\n",
    "if s < 70 and s >= 60:\n",
    "    print('勉强及格')\n",
    "if s < 60:\n",
    "    print('搬砖去吧')"
   ]
  },
  {
   "cell_type": "markdown",
   "metadata": {},
   "source": [
    "# 双向分支\n",
    " - if....else...表达式\n",
    " - 语法结构\n",
    " \n",
    "         if 条件表达式：\n",
    "             语句1\n",
    "             语句2\n",
    "             .....\n",
    "         else:\n",
    "             语句1\n",
    "             语句2\n",
    "             .....\n",
    "           "
   ]
  },
  {
   "cell_type": "code",
   "execution_count": 21,
   "metadata": {},
   "outputs": [
    {
     "name": "stdout",
     "output_type": "stream",
     "text": [
      "每个月工资是多少：99\n",
      "继续吃土\n",
      "日子照样过\n"
     ]
    }
   ],
   "source": [
    "# 简单的双向分支\n",
    "\n",
    "a = int(input('每个月工资是多少：'))\n",
    "\n",
    "if a > 10000:\n",
    "    print(\"我就发财了\")\n",
    "    print(\"赢取刘雨霞\")\n",
    "else:\n",
    "    print(\"继续吃土\")\n",
    "print(\"日子照样过\")"
   ]
  },
  {
   "cell_type": "markdown",
   "metadata": {},
   "source": [
    "# 多路分支\n",
    " - 很多分支的情况，叫做多路分支\n",
    " \n",
    "         if 条件表达式：\n",
    "             语句1\n",
    "             ...\n",
    "         elif 条件表达式：\n",
    "             语句1\n",
    "             ...\n",
    "         else: # 后面没有表达式\n",
    "             语句1\n",
    "             ...\n",
    " - elif可以有好多个，根据实际情况\n",
    " - else可选\n",
    " - 多路分支最多只会执行一种情况\n",
    " \n",
    "# if语句补充\n",
    " - if语句可以嵌套使用，不太推荐\n",
    " - Python没有switch语句"
   ]
  },
  {
   "cell_type": "code",
   "execution_count": 9,
   "metadata": {},
   "outputs": [
    {
     "name": "stdout",
     "output_type": "stream",
     "text": [
      "请输入你的考试成绩55\n",
      "55\n",
      "你这个学渣\n"
     ]
    }
   ],
   "source": [
    "# 课题\n",
    "# 考试成绩判断\n",
    "# 90分以上：输出优秀\n",
    "# 80-90：良\n",
    "# 70-80：中\n",
    "# 60-70： 平\n",
    "# 60以下： 输出你这个学渣\n",
    "\n",
    "guess = input(\"请输入你的考试成绩\")\n",
    "# input 输入的值全部是字符串string类型\n",
    "print(guess)\n",
    "number = int(guess) # int字符串转换为整数类型\n",
    "if number > 90:\n",
    "    print(\"你真优秀\")\n",
    "elif number >= 80: # else if 可简写为elif多路分支\n",
    "    print(\"考试良好，继续加油\")\n",
    "elif number >= 70: # 也可写成 if number >=70 and number < 80\n",
    "    print(\"马马虎虎\")\n",
    "elif number >= 60:\n",
    "    print(\"差点不及格\")\n",
    "else:\n",
    "    print(\"你这个学渣\")"
   ]
  },
  {
   "cell_type": "markdown",
   "metadata": {},
   "source": [
    "# input的作用是\n",
    " - 1.在屏幕上输入括号内的字符串\n",
    " - 2.接受用户输入的内容并返回到程序\n",
    " - 3.input返回的内容一定是字符串类型"
   ]
  },
  {
   "cell_type": "code",
   "execution_count": 3,
   "metadata": {},
   "outputs": [
    {
     "name": "stdout",
     "output_type": "stream",
     "text": [
      "请输入性别男\n",
      "男\n",
      "我也是\n"
     ]
    }
   ],
   "source": [
    "# input负责接受用户输入并把内容返回给变量\n",
    "# input里面加入字符串提示\n",
    "\n",
    "gender = input('请输入性别')\n",
    "print(gender)\n",
    "\n",
    "if gender == '男':\n",
    "    print('我也是')\n",
    "else:\n",
    "    print('不好意思，我是男的')"
   ]
  },
  {
   "cell_type": "markdown",
   "metadata": {},
   "source": [
    "# 循环语句\n",
    " - 重复执行某一个固定的动作或者任务\n",
    " - 循环分类\n",
    "     - for\n",
    "     - while\n",
    "\n",
    "## for 循环\n",
    " - 语法\n",
    "     \n",
    "         for 变量 in 序列：\n",
    "             语句1\n",
    "             语句2\n",
    "             ...."
   ]
  },
  {
   "cell_type": "code",
   "execution_count": 12,
   "metadata": {},
   "outputs": [
    {
     "name": "stdout",
     "output_type": "stream",
     "text": [
      "重复第1次\n",
      "重复第2次\n",
      "重复第3次\n",
      "重复第4次\n",
      "重复第5次\n",
      "1\n",
      "11\n",
      "2\n",
      "12\n",
      "3\n",
      "13\n",
      "4\n",
      "14\n",
      "5\n",
      "15\n",
      "6\n",
      "16\n",
      "7\n",
      "17\n"
     ]
    }
   ],
   "source": [
    "# for 循环案例\n",
    "# 列表用中括号\n",
    "# 比如[1,2,3,4,5,6,7]\n",
    "\n",
    "a = [1,2,3,4,5]\n",
    "\n",
    "for i in a:\n",
    "    print('重复第{}次'.format(i))\n",
    "    \n",
    "list_one = [1,2,3,4,5,6,7] # 列表\n",
    "for a in list_one:\n",
    "    print(a)\n",
    "    print(a + 10)"
   ]
  },
  {
   "cell_type": "code",
   "execution_count": 13,
   "metadata": {},
   "outputs": [
    {
     "name": "stdout",
     "output_type": "stream",
     "text": [
      "这是我老婆\n",
      "这是我儿子\n",
      "这是我自己\n"
     ]
    }
   ],
   "source": [
    "# 打印学生列表姓名\n",
    "\n",
    "stu_list = ['刘雨霞', '朱煜瑄', '朱献福']\n",
    "for stu in stu_list:\n",
    "    if stu == ('刘雨霞'):\n",
    "        print('这是我老婆')\n",
    "    elif stu == ('朱煜瑄'):\n",
    "        print('这是我儿子')\n",
    "    elif stu == ('朱献福'):\n",
    "        print('这是我自己')"
   ]
  },
  {
   "cell_type": "markdown",
   "metadata": {},
   "source": [
    "# for-else语句\n",
    " - for循环结束的时候，有时候需要执行一些收尾工作，此时需要else语句\n",
    " - else语句可选"
   ]
  },
  {
   "cell_type": "code",
   "execution_count": 5,
   "metadata": {},
   "outputs": [
    {
     "name": "stdout",
     "output_type": "stream",
     "text": [
      "这是我老婆\n",
      "看错了\n",
      "看错了\n",
      "不会再爱了\n"
     ]
    }
   ],
   "source": [
    "# for-else 语句\n",
    "# 打印列表\n",
    "\n",
    "stu_list = ['刘雨霞', '朱煜瑄', '朱献福']\n",
    "for stu in stu_list:\n",
    "    if stu == ('刘雨霞'):\n",
    "        print(\"这是我老婆\")\n",
    "    else:\n",
    "        print(\"看错了\")\n",
    "else:\n",
    "    print(\"不会再爱了\")"
   ]
  },
  {
   "cell_type": "markdown",
   "metadata": {},
   "source": [
    "# break,continue,pass\n",
    " - break:打断跳出，无条件结束整个循环，简称循环猝死\n",
    " - continue:继续循环，结束当次循环\n",
    " - pass 只是占位符，代表这句话相当于没有，没有跳过功能\n",
    " - 上面三个适用于其它"
   ]
  },
  {
   "cell_type": "code",
   "execution_count": 16,
   "metadata": {},
   "outputs": [
    {
     "name": "stdout",
     "output_type": "stream",
     "text": [
      "1\n",
      "4\n",
      "3\n",
      "7\n",
      "找到啦\n"
     ]
    }
   ],
   "source": [
    "# 在一个数字队列中，寻找数字7，找到后打印出来，并且立即结束\n",
    "# 确定一个数字队列中是否包含某个数字\n",
    "# 确定是否包含，只要找到一个即可确定，结束循环\n",
    "\n",
    "dig_list = [1,4,3,7,8,9,7,5,11]\n",
    "for dig in dig_list:\n",
    "    if dig == 7:\n",
    "        print(dig)\n",
    "        print('找到啦')\n",
    "        break\n",
    "    else:\n",
    "        print(dig)"
   ]
  },
  {
   "cell_type": "code",
   "execution_count": 20,
   "metadata": {},
   "outputs": [
    {
     "name": "stdout",
     "output_type": "stream",
     "text": [
      "2\n",
      "这是一个偶数\n",
      "4\n",
      "这是一个偶数\n",
      "6\n",
      "这是一个偶数\n",
      "8\n",
      "这是一个偶数\n",
      "10\n",
      "这是一个偶数\n",
      "2\n",
      "这是一个偶数\n",
      "4\n",
      "这是一个偶数\n",
      "6\n",
      "这是一个偶数\n",
      "8\n",
      "这是一个偶数\n",
      "10\n",
      "这是一个偶数\n"
     ]
    }
   ],
   "source": [
    "# continue练习\n",
    "# 在数字中，寻找所以偶数，并打印出来\n",
    "\n",
    "dig_list = [1,2,3,4,5,6,7,8,9,10]\n",
    "for dig in dig_list:\n",
    "    if dig % 2 == 0:\n",
    "        print(dig)\n",
    "        print(\"这是一个偶数\")\n",
    "    else:\n",
    "        continue\n",
    "\n",
    "# 此代码跟上面等价\n",
    "dig_list = [1,2,3,4,5,6,7,8,9,10]\n",
    "for dig in dig_list:\n",
    "    if dig % 2 == 1:\n",
    "        continue\n",
    "        \n",
    "    print(dig)\n",
    "    print(\"这是一个偶数\")"
   ]
  },
  {
   "cell_type": "code",
   "execution_count": 13,
   "metadata": {},
   "outputs": [
    {
     "name": "stdout",
     "output_type": "stream",
     "text": [
      "你还小\n"
     ]
    }
   ],
   "source": [
    "# pas案例 占位符 因为for循环后面必须有缩进\n",
    "\n",
    "age = 19\n",
    "if age > 19:\n",
    "    pass # 占位符\n",
    "else:\n",
    "    print(\"你还小\")"
   ]
  },
  {
   "cell_type": "markdown",
   "metadata": {},
   "source": [
    "# range 函数\n",
    " - 生成有序数列\n",
    " - 生成数字队列可以定制\n",
    " - range的生成序列的两个数字左包括右不包括\n",
    " - range函数在python2和3中有严重区别"
   ]
  },
  {
   "cell_type": "code",
   "execution_count": 20,
   "metadata": {},
   "outputs": [
    {
     "name": "stdout",
     "output_type": "stream",
     "text": [
      "1 |2 |3 |4 |5 |6 |7 |8 |9 |10 |11 |12 |13 |14 |15 |16 |17 |18 |19 |20 |21 |22 |23 |24 |25 |26 |27 |28 |29 |30 |31 |32 |33 |34 |35 |36 |37 |38 |39 |40 |41 |42 |43 |44 |45 |46 |47 |48 |49 |50 |51 |52 |53 |54 |55 |56 |57 |58 |59 |60 |61 |62 |63 |64 |65 |66 |67 |68 |69 |70 |71 |72 |73 |74 |75 |76 |77 |78 |79 |80 |81 |82 |83 |84 |85 |86 |87 |88 |89 |90 |91 |92 |93 |94 |95 |96 |97 |98 |99 |"
     ]
    }
   ],
   "source": [
    "# range 案例1\n",
    "# 生成一个1-100的数字序列\n",
    "dig_list = range(1,100)\n",
    "for dig in dig_list:\n",
    "    print(dig,\"|\",end='') # end=''不换行打印"
   ]
  },
  {
   "cell_type": "code",
   "execution_count": 18,
   "metadata": {},
   "outputs": [
    {
     "name": "stdout",
     "output_type": "stream",
     "text": [
      "1\n",
      "2\n",
      "3\n",
      "4\n",
      "5\n",
      "6\n",
      "7\n",
      "8\n",
      "9\n"
     ]
    }
   ],
   "source": [
    "# range案例2\n",
    "# 打印1到9的数字 ，左包括右不包括\n",
    "for i in range(1,10):\n",
    "    print(i)"
   ]
  },
  {
   "cell_type": "code",
   "execution_count": 30,
   "metadata": {},
   "outputs": [
    {
     "name": "stdout",
     "output_type": "stream",
     "text": [
      "1\n",
      "2\n",
      "3\n",
      "4\n",
      "5\n",
      "6\n",
      "7\n",
      "能被七整除\n"
     ]
    }
   ],
   "source": [
    "for i in range(1,100):\n",
    "    if i % 7 == 0:\n",
    "        print(i)\n",
    "        print('能被七整除啦')\n",
    "        break\n",
    "    else:\n",
    "        print(i)\n",
    "        continue"
   ]
  },
  {
   "cell_type": "code",
   "execution_count": null,
   "metadata": {},
   "outputs": [],
   "source": []
  },
  {
   "cell_type": "markdown",
   "metadata": {},
   "source": [
    "# while循环\n",
    " - 一个循环语句\n",
    " - 无限循环或者条件循环\n",
    " - 表示当条件成立时候，执行循环语句，适应于不知道具体循环次数，但能确定在某个条件成立就循环，否则结束循环\n",
    " - while语法：\n",
    "         \n",
    "         while 条件表达式：\n",
    "             语句块\n",
    "             \n",
    "         # 另外一种表达方式\n",
    "         while 条件表达式：\n",
    "             语句块1\n",
    "         else:\n",
    "             语句块2"
   ]
  },
  {
   "cell_type": "code",
   "execution_count": 35,
   "metadata": {},
   "outputs": [
    {
     "name": "stdout",
     "output_type": "stream",
     "text": [
      "还要奋斗10年\n"
     ]
    }
   ],
   "source": [
    "i = 0\n",
    "while i < 10:\n",
    "    i += 1\n",
    "print('还要奋斗{}年'.format(i))"
   ]
  },
  {
   "cell_type": "code",
   "execution_count": 22,
   "metadata": {},
   "outputs": [
    {
     "name": "stdout",
     "output_type": "stream",
     "text": [
      "11\n"
     ]
    }
   ],
   "source": [
    "# 如果年利率是6.7，本金每年翻滚，多少年后本钱会翻倍\n",
    "\n",
    "benqian = 10000\n",
    "year = 0 # 存放需要翻倍的年数\n",
    "\n",
    "while benqian < 20000:\n",
    "    benqian *= (1 + 0.067)\n",
    "    year += 1 # 运算符缩写\n",
    "print(year)"
   ]
  },
  {
   "cell_type": "code",
   "execution_count": 23,
   "metadata": {},
   "outputs": [
    {
     "name": "stdout",
     "output_type": "stream",
     "text": [
      "11\n"
     ]
    }
   ],
   "source": [
    "# 年利率案例2\n",
    "\n",
    "while benqian < 20000:\n",
    "    benqian *= (1 + 0.067)\n",
    "    year += 1 \n",
    "else:\n",
    "    print(year)"
   ]
  }
 ],
 "metadata": {
  "kernelspec": {
   "display_name": "Python 3",
   "language": "python",
   "name": "python3"
  },
  "language_info": {
   "codemirror_mode": {
    "name": "ipython",
    "version": 3
   },
   "file_extension": ".py",
   "mimetype": "text/x-python",
   "name": "python",
   "nbconvert_exporter": "python",
   "pygments_lexer": "ipython3",
   "version": "3.8.8"
  }
 },
 "nbformat": 4,
 "nbformat_minor": 4
}
