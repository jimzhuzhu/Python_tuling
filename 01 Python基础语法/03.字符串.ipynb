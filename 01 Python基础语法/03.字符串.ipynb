{
 "cells": [
  {
   "cell_type": "markdown",
   "metadata": {},
   "source": [
    "# 主要内容\n",
    " - 坚持写Blog\n",
    " - 学会使用Jupyter notebook的用法\n",
    " - 变量\n",
    " - 跟vi/vm的编辑模式很像"
   ]
  },
  {
   "cell_type": "markdown",
   "metadata": {},
   "source": [
    "## 字符串\n",
    "- 用来表示一串文字信息\n",
    "- 如何表示\n",
    "    - 单引号\n",
    "    - 双引号\n",
    "    - 三引号（三个单引号或者三个双引号）\n",
    "        - 能够扩起多行信息\n",
    "- 单双引号交错使用"
   ]
  },
  {
   "cell_type": "code",
   "execution_count": 4,
   "metadata": {},
   "outputs": [
    {
     "name": "stdout",
     "output_type": "stream",
     "text": [
      "i love liuyuxia\n",
      "我爱刘雨霞\n",
      "\n",
      "i love liuyuxia\n",
      "我爱刘雨霞\n",
      "哈哈哈哈哈\n",
      "\n"
     ]
    }
   ],
   "source": [
    "# 单引号\n",
    "love = 'i love liuyuxia'\n",
    "print(love)\n",
    "\n",
    "# 双引号\n",
    "love = \"我爱刘雨霞\"\n",
    "print(love)\n",
    "\n",
    "# 单双引号交错使用的例子\n",
    "# <a style=\"color:red\"> 哈哈哈</a>\n",
    "# 用引号表示上面字符串\n",
    "html = 'a style=\"color:red\">哈哈哈</a>'\n",
    "\n",
    "\n",
    "htmls =  '''\n",
    "i love liuyuxia\n",
    "我爱刘雨霞\n",
    "哈哈哈哈哈\n",
    "'''\n",
    "\n",
    "print(htmls)"
   ]
  },
  {
   "cell_type": "code",
   "execution_count": 10,
   "metadata": {
    "scrolled": true
   },
   "outputs": [
    {
     "name": "stdout",
     "output_type": "stream",
     "text": [
      "我爱刘雨霞\n",
      "我爱儿子溜溜\n",
      "l love liuyuxia 我爱儿子溜溜 我也爱自己\n"
     ]
    }
   ],
   "source": [
    "# 声明的三种格式\n",
    "# 格式1\n",
    "s1 = \"我爱刘雨霞\"\n",
    "print(s1)\n",
    "\n",
    "#格式2\n",
    "s1 = s2 = \"我爱儿子溜溜\"\n",
    "print(s1)\n",
    "\n",
    "#格式3\n",
    "s1, s2, s3 = \"l love liuyuxia\", \"我爱儿子溜溜\", \"我也爱自己\"\n",
    "print(s1,s2,s3)"
   ]
  },
  {
   "cell_type": "code",
   "execution_count": 22,
   "metadata": {},
   "outputs": [
    {
     "name": "stdout",
     "output_type": "stream",
     "text": [
      "l love Liu Yu Xia\n",
      "l love liuliu\n",
      "\n",
      "床前明月光，\n",
      "疑是地上霜，\n",
      "举头望明月，\n",
      "低头思故乡。\n",
      "\n"
     ]
    }
   ],
   "source": [
    "# 字符串案例\n",
    "\n",
    "love = \"l love Liu Yu Xia\"\n",
    "print(love)\n",
    "\n",
    "love2 = 'l love liuliu'\n",
    "print(love2)\n",
    "\n",
    "# 三引号可以表示多行\n",
    "love3 = '''\n",
    "床前明月光，\n",
    "疑是地上霜，\n",
    "举头望明月，\n",
    "低头思故乡。\n",
    "'''\n",
    "print(love3)\n",
    "\n",
    "# 以下案例说明单双引号只能引号单行\n",
    "# love3 = '\n",
    "# 床前明月光，\n",
    "# 疑是地上霜，\n",
    "# 举头望明月，\n",
    "# 低头思故乡。\n",
    "#'\n",
    "# print(love3)"
   ]
  },
  {
   "cell_type": "code",
   "execution_count": 6,
   "metadata": {},
   "outputs": [
    {
     "name": "stdout",
     "output_type": "stream",
     "text": [
      "let's go\n",
      "let\"s go\n"
     ]
    }
   ],
   "source": [
    "# 单引号和双引号共用\n",
    "print(\"let's go\")\n",
    "print('let\"s go')"
   ]
  },
  {
   "cell_type": "code",
   "execution_count": 10,
   "metadata": {},
   "outputs": [
    {
     "name": "stdout",
     "output_type": "stream",
     "text": [
      "let's go\n",
      "c:\\user\\jimzhuzhu\n",
      "c:\\\\user\\\\jimzhuzhu\n"
     ]
    }
   ],
   "source": [
    "# 转义换行字符\n",
    "# windows: \\r\\n\n",
    "# linux: \\n\n",
    "# \\反斜杠转义字符\n",
    "s = 'let\\'s go'\n",
    "print(s)\n",
    "ss = \"c:\\\\user\\\\jimzhuzhu\"\n",
    "# 前面加r\n",
    "user = r\"c:\\\\user\\\\jimzhuzhu\"\n",
    "print(ss)\n",
    "print(user)"
   ]
  },
  {
   "cell_type": "markdown",
   "metadata": {},
   "source": [
    "# 字符串的格式化\n",
    "- %\n",
    "- format\n",
    "- f-format"
   ]
  },
  {
   "cell_type": "code",
   "execution_count": 22,
   "metadata": {},
   "outputs": [
    {
     "name": "stdout",
     "output_type": "stream",
     "text": [
      "我爱%s %d\n",
      "我爱刘雨霞 100000\n",
      "我叫zhu xianfu\n"
     ]
    }
   ],
   "source": [
    "s = \"我爱%s %d\"\n",
    "b = '我叫%s %s'\n",
    "print(s)\n",
    "print(s%('刘雨霞', 100000))\n",
    "print(b%('zhu','xianfu'))"
   ]
  },
  {
   "cell_type": "code",
   "execution_count": 25,
   "metadata": {},
   "outputs": [
    {
     "name": "stdout",
     "output_type": "stream",
     "text": [
      "我爱刘雨霞 100000 年\n",
      "我爱你100000年刘雨霞\n"
     ]
    }
   ],
   "source": [
    "# format\n",
    "s = '我爱{} {} 年'.format('刘雨霞', '100000')\n",
    "print(s)\n",
    "s1 = '我爱{2}{1}年{0}'.format('刘雨霞', '100000', '你')\n",
    "print(s1)"
   ]
  },
  {
   "cell_type": "code",
   "execution_count": 32,
   "metadata": {},
   "outputs": [
    {
     "name": "stdout",
     "output_type": "stream",
     "text": [
      "我叫zhuxianfu, 今年28岁了，身高是175\n"
     ]
    }
   ],
   "source": [
    "# f- 字符串格式化\n",
    "name = 'zhuxianfu'\n",
    "age = '28'\n",
    "height = 175\n",
    "\n",
    "s = f'我叫{name}, 今年{age}岁了，身高是{height}'\n",
    "print(s)"
   ]
  },
  {
   "cell_type": "code",
   "execution_count": null,
   "metadata": {},
   "outputs": [],
   "source": []
  }
 ],
 "metadata": {
  "kernelspec": {
   "display_name": "Python 3",
   "language": "python",
   "name": "python3"
  },
  "language_info": {
   "codemirror_mode": {
    "name": "ipython",
    "version": 3
   },
   "file_extension": ".py",
   "mimetype": "text/x-python",
   "name": "python",
   "nbconvert_exporter": "python",
   "pygments_lexer": "ipython3",
   "version": "3.8.8"
  }
 },
 "nbformat": 4,
 "nbformat_minor": 4
}
