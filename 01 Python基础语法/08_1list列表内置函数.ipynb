{
 "cells": [
  {
   "cell_type": "code",
   "execution_count": 21,
   "id": "a4c33685",
   "metadata": {},
   "outputs": [
    {
     "name": "stdout",
     "output_type": "stream",
     "text": [
      "Help on class list in module builtins:\n",
      "\n",
      "class list(object)\n",
      " |  list(iterable=(), /)\n",
      " |  \n",
      " |  Built-in mutable sequence.\n",
      " |  \n",
      " |  If no argument is given, the constructor creates a new empty list.\n",
      " |  The argument must be an iterable if specified.\n",
      " |  \n",
      " |  Methods defined here:\n",
      " |  \n",
      " |  __add__(self, value, /)\n",
      " |      Return self+value.\n",
      " |  \n",
      " |  __contains__(self, key, /)\n",
      " |      Return key in self.\n",
      " |  \n",
      " |  __delitem__(self, key, /)\n",
      " |      Delete self[key].\n",
      " |  \n",
      " |  __eq__(self, value, /)\n",
      " |      Return self==value.\n",
      " |  \n",
      " |  __ge__(self, value, /)\n",
      " |      Return self>=value.\n",
      " |  \n",
      " |  __getattribute__(self, name, /)\n",
      " |      Return getattr(self, name).\n",
      " |  \n",
      " |  __getitem__(...)\n",
      " |      x.__getitem__(y) <==> x[y]\n",
      " |  \n",
      " |  __gt__(self, value, /)\n",
      " |      Return self>value.\n",
      " |  \n",
      " |  __iadd__(self, value, /)\n",
      " |      Implement self+=value.\n",
      " |  \n",
      " |  __imul__(self, value, /)\n",
      " |      Implement self*=value.\n",
      " |  \n",
      " |  __init__(self, /, *args, **kwargs)\n",
      " |      Initialize self.  See help(type(self)) for accurate signature.\n",
      " |  \n",
      " |  __iter__(self, /)\n",
      " |      Implement iter(self).\n",
      " |  \n",
      " |  __le__(self, value, /)\n",
      " |      Return self<=value.\n",
      " |  \n",
      " |  __len__(self, /)\n",
      " |      Return len(self).\n",
      " |  \n",
      " |  __lt__(self, value, /)\n",
      " |      Return self<value.\n",
      " |  \n",
      " |  __mul__(self, value, /)\n",
      " |      Return self*value.\n",
      " |  \n",
      " |  __ne__(self, value, /)\n",
      " |      Return self!=value.\n",
      " |  \n",
      " |  __repr__(self, /)\n",
      " |      Return repr(self).\n",
      " |  \n",
      " |  __reversed__(self, /)\n",
      " |      Return a reverse iterator over the list.\n",
      " |  \n",
      " |  __rmul__(self, value, /)\n",
      " |      Return value*self.\n",
      " |  \n",
      " |  __setitem__(self, key, value, /)\n",
      " |      Set self[key] to value.\n",
      " |  \n",
      " |  __sizeof__(self, /)\n",
      " |      Return the size of the list in memory, in bytes.\n",
      " |  \n",
      " |  append(self, object, /)\n",
      " |      Append object to the end of the list.\n",
      " |  \n",
      " |  clear(self, /)\n",
      " |      Remove all items from list.\n",
      " |  \n",
      " |  copy(self, /)\n",
      " |      Return a shallow copy of the list.\n",
      " |  \n",
      " |  count(self, value, /)\n",
      " |      Return number of occurrences of value.\n",
      " |  \n",
      " |  extend(self, iterable, /)\n",
      " |      Extend list by appending elements from the iterable.\n",
      " |  \n",
      " |  index(self, value, start=0, stop=9223372036854775807, /)\n",
      " |      Return first index of value.\n",
      " |      \n",
      " |      Raises ValueError if the value is not present.\n",
      " |  \n",
      " |  insert(self, index, object, /)\n",
      " |      Insert object before index.\n",
      " |  \n",
      " |  pop(self, index=-1, /)\n",
      " |      Remove and return item at index (default last).\n",
      " |      \n",
      " |      Raises IndexError if list is empty or index is out of range.\n",
      " |  \n",
      " |  remove(self, value, /)\n",
      " |      Remove first occurrence of value.\n",
      " |      \n",
      " |      Raises ValueError if the value is not present.\n",
      " |  \n",
      " |  reverse(self, /)\n",
      " |      Reverse *IN PLACE*.\n",
      " |  \n",
      " |  sort(self, /, *, key=None, reverse=False)\n",
      " |      Sort the list in ascending order and return None.\n",
      " |      \n",
      " |      The sort is in-place (i.e. the list itself is modified) and stable (i.e. the\n",
      " |      order of two equal elements is maintained).\n",
      " |      \n",
      " |      If a key function is given, apply it once to each list item and sort them,\n",
      " |      ascending or descending, according to their function values.\n",
      " |      \n",
      " |      The reverse flag can be set to sort in descending order.\n",
      " |  \n",
      " |  ----------------------------------------------------------------------\n",
      " |  Static methods defined here:\n",
      " |  \n",
      " |  __new__(*args, **kwargs) from builtins.type\n",
      " |      Create and return a new object.  See help(type) for accurate signature.\n",
      " |  \n",
      " |  ----------------------------------------------------------------------\n",
      " |  Data and other attributes defined here:\n",
      " |  \n",
      " |  __hash__ = None\n",
      "\n"
     ]
    }
   ],
   "source": [
    "help(list)"
   ]
  },
  {
   "cell_type": "code",
   "execution_count": 11,
   "id": "86d5197e",
   "metadata": {},
   "outputs": [
    {
     "name": "stdout",
     "output_type": "stream",
     "text": [
      "[1, 2, 3, 4, 5, 6]\n",
      "None\n"
     ]
    }
   ],
   "source": [
    "# append() 向列表末尾添加新元素，返回None\n",
    "# 只能添加一个参数，任何数据类型都可以,id 一样\n",
    "\n",
    "ls = [1,2,3,4,5]\n",
    "ls.append(6)\n",
    "print(ls)\n",
    "print(ls.append(6))"
   ]
  },
  {
   "cell_type": "code",
   "execution_count": 12,
   "id": "8a96fb27",
   "metadata": {},
   "outputs": [
    {
     "name": "stdout",
     "output_type": "stream",
     "text": [
      "[1, 2, 3, 4]\n",
      "140318820515392\n",
      "140318820970240\n"
     ]
    }
   ],
   "source": [
    "# copy 复制列表 产生了新的id\n",
    "\n",
    "ls = [1,2,3,4]\n",
    "ls1 = ls.copy()\n",
    "print(ls1)\n",
    "print(id(ls))\n",
    "print(id(ls1))"
   ]
  },
  {
   "cell_type": "code",
   "execution_count": 13,
   "id": "77c3eb29",
   "metadata": {},
   "outputs": [
    {
     "name": "stdout",
     "output_type": "stream",
     "text": [
      "7\n"
     ]
    }
   ],
   "source": [
    "# count 计算元素在列表中出现的次数\n",
    "\n",
    "ls = [1,2,3,4,1,2,1,6,1,3,1,6,1,7,3,1]\n",
    "ls1 = ls.count(1)\n",
    "print(ls1)"
   ]
  },
  {
   "cell_type": "code",
   "execution_count": 17,
   "id": "7c7e7437",
   "metadata": {},
   "outputs": [
    {
     "name": "stdout",
     "output_type": "stream",
     "text": [
      "[1, 2, 3, 4, 5]\n",
      "[6, 7, 8, 9]\n",
      "[1, 2, 3, 4, 5, 6, 7, 8, 9]\n",
      "None\n",
      "[1, 2, 3, 4, 5, 6, 7, 8, 9, 6, 7, 8, 9, 6, 7, 8, 9]\n"
     ]
    }
   ],
   "source": [
    "# extend() 将一个列表继承到另一个列表,返回None\n",
    "# 只能一个参数，不能是number数字类型\n",
    "\n",
    "ls1 = [1,2,3,4,5]\n",
    "print(ls1)\n",
    "ls2 = [6,7,8,9]\n",
    "print(ls2)\n",
    "ls1.extend(ls2)\n",
    "print(ls1)\n",
    "ls3 = ls1.extend(ls2) # 扩展后不能赋值，返回None\n",
    "print(ls3)\n",
    "print(ls1+ls2)"
   ]
  },
  {
   "cell_type": "code",
   "execution_count": 20,
   "id": "1c89d613",
   "metadata": {},
   "outputs": [
    {
     "name": "stdout",
     "output_type": "stream",
     "text": [
      "2\n",
      "5\n"
     ]
    }
   ],
   "source": [
    "# index 获取值在列表中的索引，返回第一个找到的下标，也可以进行设置区间\n",
    "# index(value值,[start起始位置，end结束位置])\n",
    "ls = [1,2,3,4,5,3,2,3]\n",
    "print(ls.index(3))\n",
    "print(ls.index(3,3,9))"
   ]
  },
  {
   "cell_type": "code",
   "execution_count": 24,
   "id": "225f0ea4",
   "metadata": {},
   "outputs": [
    {
     "name": "stdout",
     "output_type": "stream",
     "text": [
      "[1, 'hah', 2, 3, 4, 5]\n",
      "[1, 'hah', 2, 3, 4, 'hah', 5]\n"
     ]
    }
   ],
   "source": [
    "# insert 通过下标在指定位置前插入元素，有两个参数，返回None\n",
    "ls = [1,2,3,4,5]\n",
    "ls.insert(1,'hah')\n",
    "print(ls)\n",
    "ls.insert(-1,'hah')\n",
    "print(ls)"
   ]
  },
  {
   "cell_type": "code",
   "execution_count": 27,
   "id": "39353aa9",
   "metadata": {},
   "outputs": [
    {
     "name": "stdout",
     "output_type": "stream",
     "text": [
      "[1, 2, 3, 4]\n",
      "[2, 3, 4]\n",
      "1\n"
     ]
    }
   ],
   "source": [
    "# pop() 根据索引移除列表内一个元素，不给索引默认移除最后一个，返回移除的那个数\n",
    "# 空列表会报错\n",
    "\n",
    "ls = [1,2,3,4,5]\n",
    "ls.pop()\n",
    "print(ls)\n",
    "ls1 = ls.pop(0)\n",
    "print(ls)\n",
    "print(ls1)"
   ]
  },
  {
   "cell_type": "code",
   "execution_count": 29,
   "id": "5c232491",
   "metadata": {},
   "outputs": [
    {
     "name": "stdout",
     "output_type": "stream",
     "text": [
      "None\n",
      "[1, 2, 3, 4]\n"
     ]
    }
   ],
   "source": [
    "# remove 移除列表中指定的值，返回None\n",
    "\n",
    "ls = [1,2,3,4,5]\n",
    "ls1 = ls.remove(5)\n",
    "print(ls1)\n",
    "print(ls)"
   ]
  },
  {
   "cell_type": "code",
   "execution_count": 31,
   "id": "628f0aa8",
   "metadata": {},
   "outputs": [
    {
     "name": "stdout",
     "output_type": "stream",
     "text": [
      "None\n",
      "[5, 4, 3, 2, 1]\n"
     ]
    }
   ],
   "source": [
    "# reverse() 列表反转，返回None\n",
    "ls = [1,2,3,4,5]\n",
    "ls1 = ls.reverse()  # 新的变量赋值返回None\n",
    "print(ls1)\n",
    "print(ls)"
   ]
  },
  {
   "cell_type": "code",
   "execution_count": 34,
   "id": "3480be26",
   "metadata": {},
   "outputs": [
    {
     "name": "stdout",
     "output_type": "stream",
     "text": [
      "None\n",
      "[0, 1, 2, 3, 4, 5, 6, 7, 8, 9]\n",
      "[9, 8, 7, 6, 5, 4, 3, 2, 1, 0]\n"
     ]
    }
   ],
   "source": [
    "# sort() 排序，默认从小到大 ,返回None\n",
    "\n",
    "ls =  [2,5,1,7,3,8,9,0,4,6]\n",
    "ls1 = ls.sort()\n",
    "print(ls1)\n",
    "print(ls)\n",
    "\n",
    "# 从大到小\n",
    "ls.sort(reverse=True)\n",
    "print(ls)"
   ]
  },
  {
   "cell_type": "code",
   "execution_count": 35,
   "id": "ea3ea22a",
   "metadata": {},
   "outputs": [
    {
     "name": "stdout",
     "output_type": "stream",
     "text": [
      "[1]\n"
     ]
    }
   ],
   "source": [
    "# clear() 清空列表\n",
    "ls = [1,2,3,4,5]\n",
    "ls.clear()\n",
    "ls.append(1)\n",
    "print(ls)"
   ]
  }
 ],
 "metadata": {
  "kernelspec": {
   "display_name": "Python 3",
   "language": "python",
   "name": "python3"
  },
  "language_info": {
   "codemirror_mode": {
    "name": "ipython",
    "version": 3
   },
   "file_extension": ".py",
   "mimetype": "text/x-python",
   "name": "python",
   "nbconvert_exporter": "python",
   "pygments_lexer": "ipython3",
   "version": "3.8.8"
  }
 },
 "nbformat": 4,
 "nbformat_minor": 5
}
