{
 "cells": [
  {
   "cell_type": "markdown",
   "metadata": {},
   "source": [
    "# 递归函数\n",
    " - 递归： 函数间接或者直接调用自己\n",
    " - 递归分为两个过程\n",
    "     - 往下调用，分解的过程\n",
    "     - 往上回溯，综合的过程\n",
    " - 递归需要注意\n",
    "     - 一定要有结束条件\n",
    " - 是以计算机的资源换取编写速度的算法，递归次数太多会栈会爆炸"
   ]
  },
  {
   "cell_type": "code",
   "execution_count": 2,
   "metadata": {
    "scrolled": true
   },
   "outputs": [
    {
     "name": "stdout",
     "output_type": "stream",
     "text": [
      "l am zhu xian fu\n",
      "l am liu yu xia\n"
     ]
    }
   ],
   "source": [
    "# 递归函数\n",
    "\n",
    "def funa(n):\n",
    "    print(\"l am zhu xian fu\")\n",
    "    \n",
    "def func(n):\n",
    "    funa(100)\n",
    "    print(\"l am liu yu xia\")\n",
    "    \n",
    "func(100)"
   ]
  },
  {
   "cell_type": "markdown",
   "metadata": {},
   "source": [
    "### 阶乘 10！ = 10 *9 * 8 ....\n",
    "### f(n) = n * f(n - 1), n >= 2"
   ]
  },
  {
   "cell_type": "code",
   "execution_count": 9,
   "metadata": {},
   "outputs": [
    {
     "name": "stdout",
     "output_type": "stream",
     "text": [
      "10\n",
      "f(10) =  None\n"
     ]
    }
   ],
   "source": [
    "# func_a 表示计算阶乘\n",
    "# 利用数学公式\n",
    "def func_a(n):\n",
    "    print(n)\n",
    "    # 递归一定要有结束条件\n",
    "    if n == 1:\n",
    "        return 1\n",
    "    return n * func_a(n - 1)\n",
    "rst = func_a(10)\n",
    "print(\"f(10) = \", rst)"
   ]
  },
  {
   "cell_type": "code",
   "execution_count": 11,
   "metadata": {},
   "outputs": [],
   "source": [
    "# 递归必须有结束条件，否则会死掉\n",
    "# 递归次数越多，栈会爆炸\n",
    "def fun_b(n):\n",
    "    print(n)\n",
    "    return n * fun_b(n - 1)\n",
    "\n",
    "# fun_b(100)"
   ]
  },
  {
   "cell_type": "code",
   "execution_count": 13,
   "metadata": {},
   "outputs": [
    {
     "name": "stdout",
     "output_type": "stream",
     "text": [
      "rst = 55\n"
     ]
    }
   ],
   "source": [
    "# 斐波那契数列\n",
    "# 又称黄金分割数列，以数学家命名\n",
    "# 又称为“兔子数列”\n",
    "# 数学定义：指的是类似（1，1，3，5，8，13，21，34.。。）\n",
    "# 这个数列从第三项开始，每一项都等于前两项之和\n",
    "# 公式： f(n) = f(n-1) + f(n-2)  n>= 3 ,f(n) = 1, n={1,2}\n",
    "\n",
    "def fib(n):\n",
    "    if n == 1 or n == 2:\n",
    "        return 1\n",
    "    return fib(n-1) + fib(n-2)\n",
    "rst = fib(10)\n",
    "print(\"rst =\", rst)"
   ]
  },
  {
   "cell_type": "code",
   "execution_count": 3,
   "metadata": {},
   "outputs": [],
   "source": [
    "# 汉诺塔\n",
    "# 在小圆盘上不能放大圆盘\n",
    "# 在三根柱子之间一回只能移动一个圆盘\n",
    "# 只能移动最顶端的圆盘\n",
    "a = [1,2,3,4,5]\n",
    "b = \"B\"\n",
    "c = \"C\"\n",
    "def hano(a,b,c,n):\n",
    "    if n == 1:\n",
    "        print(\"{}-->{}\".format(a,c))\n",
    "        return None\n",
    "    if n == 2:\n",
    "        print(\"{}-->{}\".format(a,b))\n",
    "        print(\"{}-->{}\".format(a,c))\n",
    "        print(\"{}-->{}\".format(b,c))\n",
    "        return None\n",
    "    hano(a,c,b,n-1)\n",
    "    print(\"{}-->{}\".format(a,c))\n",
    "    hano(b,a,c,n-1)"
   ]
  },
  {
   "cell_type": "code",
   "execution_count": 11,
   "metadata": {},
   "outputs": [
    {
     "name": "stdout",
     "output_type": "stream",
     "text": [
      "A-->C\n"
     ]
    }
   ],
   "source": [
    "# 只有一个盘子\n",
    "hano(a,b,c,1)"
   ]
  },
  {
   "cell_type": "code",
   "execution_count": 4,
   "metadata": {},
   "outputs": [
    {
     "name": "stdout",
     "output_type": "stream",
     "text": [
      "A-->B\n",
      "A-->C\n",
      "B-->C\n"
     ]
    }
   ],
   "source": [
    "# 只有两个盘子\n",
    "hano(a,b,c,2)"
   ]
  },
  {
   "cell_type": "code",
   "execution_count": 9,
   "metadata": {},
   "outputs": [
    {
     "name": "stdout",
     "output_type": "stream",
     "text": [
      "A-->B\n",
      "A-->C\n",
      "B-->C\n",
      "A-->B\n",
      "C-->A\n",
      "C-->B\n",
      "A-->B\n",
      "A-->C\n",
      "B-->C\n",
      "B-->A\n",
      "C-->A\n",
      "B-->C\n",
      "A-->B\n",
      "A-->C\n",
      "B-->C\n"
     ]
    }
   ],
   "source": [
    "# 有4个盘子\n",
    "hano(a,b,c,4)"
   ]
  },
  {
   "cell_type": "code",
   "execution_count": 5,
   "metadata": {},
   "outputs": [
    {
     "data": {
      "text/plain": [
       "-1"
      ]
     },
     "execution_count": 5,
     "metadata": {},
     "output_type": "execute_result"
    }
   ],
   "source": [
    "s = \"Hello World\"\n",
    "s.find(\"o\",8) # 负1代表没有找到"
   ]
  },
  {
   "cell_type": "code",
   "execution_count": 3,
   "metadata": {},
   "outputs": [
    {
     "name": "stdout",
     "output_type": "stream",
     "text": [
      "Help on method_descriptor:\n",
      "\n",
      "find(...)\n",
      "    S.find(sub[, start[, end]]) -> int\n",
      "    \n",
      "    Return the lowest index in S where substring sub is found,\n",
      "    such that sub is contained within S[start:end].  Optional\n",
      "    arguments start and end are interpreted as in slice notation.\n",
      "    \n",
      "    Return -1 on failure.\n",
      "\n"
     ]
    }
   ],
   "source": [
    "help(str.find)"
   ]
  },
  {
   "cell_type": "code",
   "execution_count": null,
   "metadata": {},
   "outputs": [],
   "source": []
  }
 ],
 "metadata": {
  "kernelspec": {
   "display_name": "Python 3",
   "language": "python",
   "name": "python3"
  },
  "language_info": {
   "codemirror_mode": {
    "name": "ipython",
    "version": 3
   },
   "file_extension": ".py",
   "mimetype": "text/x-python",
   "name": "python",
   "nbconvert_exporter": "python",
   "pygments_lexer": "ipython3",
   "version": "3.7.6"
  }
 },
 "nbformat": 4,
 "nbformat_minor": 4
}
