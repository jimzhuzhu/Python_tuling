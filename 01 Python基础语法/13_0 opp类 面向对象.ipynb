{
 "cells": [
  {
   "cell_type": "markdown",
   "metadata": {},
   "source": [
    "# OOP\n",
    " - 思想\n",
    "     - 以模块化思想解决工程问题\n",
    "     - 面向过程 vs 面向对象\n",
    "     - 由面向过程转向面向对象\n",
    "     - 例子，我要开一个学校，。。。。。\n",
    "         - 老师\n",
    "             - 变量信息\n",
    "             - 功能函数\n",
    "         - 学生\n",
    "         - 班主任\n",
    "         - 教室\n",
    "         - 房间\n",
    " - 常用名词\n",
    "     - OO: 面向对象\n",
    "     - OOA: 面向对象分析\n",
    "     - OOD: 设计\n",
    "     - OOP: 编程\n",
    "     - OOI: 实现\n",
    "     - OOA -> OOD -> OOI\n",
    " - 类和对象\n",
    "     - class,类： 抽象，描述的是一种集合，侧重于共性\n",
    "     - self,对象： 具体的形象，描述的是个体\n",
    " - 类的内容\n",
    "     - 一个世界有什么构成：\n",
    "     - 名词由相应的属性和功能组成\n",
    "     - 老师\n",
    "         - 姓名，年龄，性别 == 属性：变量\n",
    "         - 上课，批作业 == 动作功能：函\n",
    " - is-a 子类父类\n",
    " - 定义类： class 关键字\n",
    " - 类命名：\n",
    "     - 遵循大驼峰\n",
    "     - 第一个字母大写"
   ]
  },
  {
   "cell_type": "code",
   "execution_count": 3,
   "metadata": {},
   "outputs": [],
   "source": [
    "# 定义类--\n",
    "class FengHuang:\n",
    "    pass\n",
    "class FengHuang1():\n",
    "    pass\n",
    "class FengHuang2(object):\n",
    "    pass"
   ]
  },
  {
   "cell_type": "code",
   "execution_count": 5,
   "metadata": {},
   "outputs": [],
   "source": [
    "## 定义学生类，和对象几个学生\n",
    "# () 里面放父类，或者(object)\n",
    "class Student():\n",
    "    # 此处定义一个空类\n",
    "    # pass 是关键字，表示占位用的，无意义,否则会报错\n",
    "    pass\n",
    "    # 实例化定义一个对象\n",
    "    # xiaobai = Student()"
   ]
  },
  {
   "cell_type": "code",
   "execution_count": 40,
   "metadata": {},
   "outputs": [
    {
     "name": "stdout",
     "output_type": "stream",
     "text": [
      "None\n",
      "18\n",
      "Python\n",
      "show me love\n"
     ]
    }
   ],
   "source": [
    "# \n",
    "class PythonStudent():\n",
    "    name = \"None\"\n",
    "    age = 18\n",
    "    coursw = \"Python\"\n",
    "    '''\n",
    "    定义类中的函数\n",
    "    一般需要有self，在Python中不作为关键字，\n",
    "    换成其他名字也可以，在实例化调用时把自己作为第一个参数传进去\n",
    "    其余跟普通函数基本相同'''\n",
    "    def givelove(self):\n",
    "        print(\"show me love\")\n",
    "        return None\n",
    "xiaobai = PythonStudent()\n",
    "print(xiaobai.name)\n",
    "print(xiaobai.age)\n",
    "print(xiaobai.coursw)\n",
    "xiaobai.givelove()"
   ]
  },
  {
   "cell_type": "markdown",
   "metadata": {},
   "source": [
    "# 类的属性"
   ]
  },
  {
   "cell_type": "code",
   "execution_count": 2,
   "metadata": {},
   "outputs": [
    {
     "name": "stdout",
     "output_type": "stream",
     "text": [
      "liuliu\n",
      "5\n",
      "l love you 刘雨霞\n"
     ]
    }
   ],
   "source": [
    "# 类的例子\n",
    "# 注意类的定义        \n",
    "class Baby():\n",
    "    name = \"liuliu\"\n",
    "    age = 5\n",
    "    \n",
    "    def sayHi(self):\n",
    "        print(\"l love 你 妈妈\")\n",
    "        # 如果没有return，则返回什么\n",
    "        return None\n",
    "    # self可以更换名字\n",
    "    def sayHi(zhuzhu):\n",
    "        print(\"l love you 刘雨霞\")\n",
    "baby = Baby()\n",
    "print(baby.name)\n",
    "print(baby.age)\n",
    "baby.sayHi()"
   ]
  },
  {
   "cell_type": "code",
   "execution_count": 3,
   "metadata": {},
   "outputs": [
    {
     "name": "stdout",
     "output_type": "stream",
     "text": [
      "liuliu\n"
     ]
    }
   ],
   "source": [
    "# 实例给一个对象\n",
    "# 中文不能当作不能变量名、\n",
    "baby = Baby()\n",
    "print(baby.name)"
   ]
  },
  {
   "cell_type": "markdown",
   "metadata": {},
   "source": [
    "# self\n",
    " - self 可以用别的名称代替\n",
    " - self不是关键字\n",
    " - 作用是指代本身"
   ]
  },
  {
   "cell_type": "code",
   "execution_count": 6,
   "metadata": {},
   "outputs": [
    {
     "name": "stdout",
     "output_type": "stream",
     "text": [
      "l love you 刘雨霞\n"
     ]
    },
    {
     "ename": "TypeError",
     "evalue": "sayHi() takes 1 positional argument but 2 were given",
     "output_type": "error",
     "traceback": [
      "\u001b[0;31m---------------------------------------------------------------------------\u001b[0m",
      "\u001b[0;31mTypeError\u001b[0m                                 Traceback (most recent call last)",
      "\u001b[0;32m<ipython-input-6-93fbadb23755>\u001b[0m in \u001b[0;36m<module>\u001b[0;34m\u001b[0m\n\u001b[1;32m      9\u001b[0m \u001b[0;31m# 错误案例\u001b[0m\u001b[0;34m\u001b[0m\u001b[0;34m\u001b[0m\u001b[0;34m\u001b[0m\u001b[0m\n\u001b[1;32m     10\u001b[0m \u001b[0ma\u001b[0m \u001b[0;34m=\u001b[0m \u001b[0;34m\"baba\"\u001b[0m\u001b[0;34m\u001b[0m\u001b[0;34m\u001b[0m\u001b[0m\n\u001b[0;32m---> 11\u001b[0;31m \u001b[0mliuliu\u001b[0m\u001b[0;34m.\u001b[0m\u001b[0msayHi\u001b[0m\u001b[0;34m(\u001b[0m\u001b[0ma\u001b[0m\u001b[0;34m)\u001b[0m\u001b[0;34m\u001b[0m\u001b[0;34m\u001b[0m\u001b[0m\n\u001b[0m",
      "\u001b[0;31mTypeError\u001b[0m: sayHi() takes 1 positional argument but 2 were given"
     ]
    }
   ],
   "source": [
    "# self举例\n",
    "\n",
    "liuliu = Baby()\n",
    "# 让liuliu调用类的函数跟我打招呼\n",
    "# liuliu调用没有输入参数\n",
    "# 因为默认实例作为第一个参数传入\n",
    "liuliu.sayHi()\n",
    "\n",
    "# 错误案例\n",
    "a = \"baba\"\n",
    "# liuliu.sayHi(a)"
   ]
  },
  {
   "cell_type": "code",
   "execution_count": 7,
   "metadata": {},
   "outputs": [
    {
     "name": "stdout",
     "output_type": "stream",
     "text": [
      "l love you 刘雨霞\n"
     ]
    }
   ],
   "source": [
    "# 参考self的定义,说明self的名称可以更改，不是关键字\n",
    "liuliu.sayHi()"
   ]
  },
  {
   "cell_type": "markdown",
   "metadata": {},
   "source": [
    "# 类的变量作用域的问题\n",
    " - 类变量： 属于自己的变量\n",
    " - 实例变量： 属于实例的变量\n",
    " - 访问实例的属性，如果实例没有定义属性，自动使用类的属性"
   ]
  },
  {
   "cell_type": "code",
   "execution_count": 16,
   "metadata": {},
   "outputs": [
    {
     "name": "stdout",
     "output_type": "stream",
     "text": [
      "My name is liuliu, i am 3 years old\n",
      "My name is zhu yu xuan, i am 5 years old\n"
     ]
    }
   ],
   "source": [
    "# 类的例子\n",
    "# 注意类的定义\n",
    "class Baby():\n",
    "    # name,age是类的变量\n",
    "    # 注意类的变量的定义位置和方法\n",
    "    # 不需要前缀\n",
    "    name = \"liuliu\"\n",
    "    age = 3\n",
    "    \n",
    "    def sayHi(self):\n",
    "        print(\"My name is {}, i am {} years old\".format(self.name, self.age))     \n",
    "        return None\n",
    "    \n",
    "# 以下案例说明，实例变量可以借用类的变量\n",
    "baby = Baby()\n",
    "baby.sayHi()\n",
    "# 如果实例单独定义变量就和类的默认脱钩\n",
    "baby.name = 'zhu yu xuan'\n",
    "baby.age = 5\n",
    "baby.sayHi()\n"
   ]
  },
  {
   "cell_type": "markdown",
   "metadata": {},
   "source": [
    "# 访问类的属性\n",
    " - 在类里面如果强制访问类的属性，则需要使用__ class __,(前后两个下划线）\n",
    " - 类方法：\n",
    "     - 定义类的方法的时候，没有self参数\n",
    "     - 类的方法中只允许使用类的内容\n",
    "     - 两种方法\n",
    "         - 类的名称 ClassName\n",
    "         - __ class __"
   ]
  },
  {
   "cell_type": "code",
   "execution_count": 26,
   "metadata": {},
   "outputs": [
    {
     "name": "stdout",
     "output_type": "stream",
     "text": [
      "My name is zhu yuxuan, i am 5 years old\n",
      "My name is zhu yuxuan, i am 5 years old\n",
      "My name is liuliu, i am 2 years old\n"
     ]
    }
   ],
   "source": [
    "# 类的例子\n",
    "# 注意类的定义\n",
    "class Baby():\n",
    "    # name,age是类的变量\n",
    "    # 注意类的变量的定义位置和方法\n",
    "    # 不需要前缀\n",
    "    name = \"liuliu\"\n",
    "    age = 2\n",
    "    \n",
    "    def sayHi(self):\n",
    "        print(\"My name is {}, i am {} years old\".format(self.name, self.age))     \n",
    "        return None\n",
    "    # sos类的方法\n",
    "    # 如何访问类的变量\n",
    "    def sos():\n",
    "        # 类方法中不允许访问实例的任何内容\n",
    "        # 如果访问类的内容，注意两种用法\n",
    "        print(\"My name is {}, i am {} years old\".format(Baby.name, __class__.age))     \n",
    "        return None\n",
    "    \n",
    "# 体验类的方法\n",
    "s = Baby()\n",
    "s.name = 'zhu yuxuan'\n",
    "s.age = 5\n",
    "s.sayHi()\n",
    "# 调用类方法的例子\n",
    "# -> 会报错 Baby.sayHi()\n",
    "Baby.sayHi(s)\n",
    "# 用类调用函数和类变量,有特殊操作 __class__\n",
    "Baby.sos()"
   ]
  },
  {
   "cell_type": "markdown",
   "metadata": {},
   "source": [
    "# 构造函数\n",
    " - 类在实例化的时候，执行一些基础性的初始化工作\n",
    " - 使用特殊的名称和写法\n",
    " - 在实例化的时候自动执行\n",
    " - 是在实例化的时候“第一个”被执行的函数"
   ]
  },
  {
   "cell_type": "code",
   "execution_count": 35,
   "metadata": {},
   "outputs": [
    {
     "name": "stdout",
     "output_type": "stream",
     "text": [
      "My name is zhu xianfu\n",
      "My age is 26\n",
      "My name is liu yuxia\n",
      "My age is 26\n"
     ]
    }
   ],
   "source": [
    "class Teacher(object):\n",
    "    name = '凤凰机器人'\n",
    "    age = 0\n",
    "    \n",
    "    def intro(self):\n",
    "        print('My name is {}'.format(self.name))\n",
    "        print('My age is {}'.format(self.age))\n",
    "\n",
    "jim = Teacher()\n",
    "jim.name = 'zhu xianfu'\n",
    "jim.age = 26\n",
    "jim.intro()\n",
    "\n",
    "# 使用构造函数\n",
    "class Teacher(object):\n",
    "    name = '凤凰机器人'\n",
    "    age = 0\n",
    "    \n",
    "    def intro(self):\n",
    "        print('My name is {}'.format(self.name))\n",
    "        print('My age is {}'.format(self.age))\n",
    "        \n",
    "    def __init__(self,name,age):\n",
    "        self.name = name\n",
    "        self.age = age\n",
    "liu = Teacher('liu yuxia', 26)\n",
    "liu.intro()"
   ]
  },
  {
   "cell_type": "code",
   "execution_count": 11,
   "metadata": {},
   "outputs": [
    {
     "name": "stdout",
     "output_type": "stream",
     "text": [
      "我是构造函数\n",
      "-----------\n",
      "NoName\n",
      "0\n"
     ]
    }
   ],
   "source": [
    "# 类\n",
    "class Student():\n",
    "    name = \"NoName\"\n",
    "    age = 0\n",
    "    \n",
    "    # 构造函数名称固定，写法固定\n",
    "    def __init__(self):\n",
    "        print(\"我是构造函数\")\n",
    "\n",
    "zhuzhu = Student()\n",
    "print(\"-----------\")\n",
    "print(zhuzhu.name)\n",
    "print(zhuzhu.age)"
   ]
  }
 ],
 "metadata": {
  "kernelspec": {
   "display_name": "Python 3",
   "language": "python",
   "name": "python3"
  },
  "language_info": {
   "codemirror_mode": {
    "name": "ipython",
    "version": 3
   },
   "file_extension": ".py",
   "mimetype": "text/x-python",
   "name": "python",
   "nbconvert_exporter": "python",
   "pygments_lexer": "ipython3",
   "version": "3.8.8"
  }
 },
 "nbformat": 4,
 "nbformat_minor": 4
}
