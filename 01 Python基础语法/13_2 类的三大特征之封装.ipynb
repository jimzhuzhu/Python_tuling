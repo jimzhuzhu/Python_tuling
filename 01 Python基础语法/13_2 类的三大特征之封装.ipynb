{
 "cells": [
  {
   "cell_type": "markdown",
   "id": "63d025c3",
   "metadata": {},
   "source": [
    "# 面向对象的三大特征\n",
    " - 继承\n",
    " - 封装\n",
    " - 多态"
   ]
  },
  {
   "cell_type": "markdown",
   "id": "da999b93",
   "metadata": {},
   "source": [
    "### 封装\n",
    "### public, protected,private"
   ]
  },
  {
   "cell_type": "code",
   "execution_count": 20,
   "id": "0f4bb8e8",
   "metadata": {},
   "outputs": [
    {
     "name": "stdout",
     "output_type": "stream",
     "text": [
      "zhu xianfu\n"
     ]
    }
   ],
   "source": [
    "class Student():\n",
    "    name = \"zhu xianfu\"\n",
    "    age = 18\n",
    "    \n",
    "Student.__dict__\n",
    "\n",
    "# 实例化\n",
    "yueyue = Student()\n",
    "yueyue.__dict__\n",
    "print(yueyue.name)"
   ]
  },
  {
   "cell_type": "code",
   "execution_count": 22,
   "id": "28535e0a",
   "metadata": {},
   "outputs": [
    {
     "name": "stdout",
     "output_type": "stream",
     "text": [
      "liuying\n",
      "18\n"
     ]
    }
   ],
   "source": [
    "# 私有变量案例\n",
    "\n",
    "class Person():\n",
    "    # name是共有的成员 \n",
    "    name = \"liuying\"\n",
    "    # __age就是私有成员\n",
    "    __age = 18\n",
    "            \n",
    "p = Person()\n",
    "# name是公有变量\n",
    "print(p.name)\n",
    "# __age是私有变量\n",
    "print(p._Person__age)"
   ]
  },
  {
   "cell_type": "code",
   "execution_count": 27,
   "id": "5db02b1c",
   "metadata": {},
   "outputs": [
    {
     "name": "stdout",
     "output_type": "stream",
     "text": [
      "{'__module__': '__main__', 'name': 'liuying', '_Person__age': 18, '__dict__': <attribute '__dict__' of 'Person' objects>, '__weakref__': <attribute '__weakref__' of 'Person' objects>, '__doc__': None}\n",
      "19\n"
     ]
    }
   ],
   "source": [
    "# name mangling技术\n",
    "print(Person.__dict__)\n",
    "\n",
    "p._Person__age = 19\n",
    "print(p._Person__age)"
   ]
  },
  {
   "cell_type": "code",
   "execution_count": 26,
   "id": "e98edf69",
   "metadata": {},
   "outputs": [
    {
     "name": "stdout",
     "output_type": "stream",
     "text": [
      "18\n"
     ]
    }
   ],
   "source": [
    "class Teacher():\n",
    "    name = '凤凰机器人'\n",
    "    __age = 18 # 前面加两个下划线，是私有变量\n",
    "    \n",
    "    def __init__(self, name='zhuxianfu', age=18):\n",
    "        self.name = name\n",
    "        self.age = age\n",
    "    \n",
    "    def print_info(self):\n",
    "        print('内部名称：', self.name)\n",
    "        print('内部年龄：', self.age)\n",
    "        \n",
    "z = Teacher()\n",
    "# print(zhuxianfu.__age) 会报错，实例不能直接用类的私有变量\n",
    "# name mangling:  __age  --> _Teacher__age 将私有换名称技术\n",
    "print(z._Teacher__age)"
   ]
  },
  {
   "cell_type": "code",
   "execution_count": null,
   "id": "84467021",
   "metadata": {},
   "outputs": [],
   "source": []
  },
  {
   "cell_type": "code",
   "execution_count": null,
   "id": "077c8137",
   "metadata": {},
   "outputs": [],
   "source": []
  },
  {
   "cell_type": "code",
   "execution_count": null,
   "id": "5cc6bb71",
   "metadata": {},
   "outputs": [],
   "source": []
  },
  {
   "cell_type": "code",
   "execution_count": null,
   "id": "9c3fd4ba",
   "metadata": {},
   "outputs": [],
   "source": []
  },
  {
   "cell_type": "code",
   "execution_count": null,
   "id": "30b8f9a2",
   "metadata": {},
   "outputs": [],
   "source": []
  }
 ],
 "metadata": {
  "kernelspec": {
   "display_name": "Python 3",
   "language": "python",
   "name": "python3"
  },
  "language_info": {
   "codemirror_mode": {
    "name": "ipython",
    "version": 3
   },
   "file_extension": ".py",
   "mimetype": "text/x-python",
   "name": "python",
   "nbconvert_exporter": "python",
   "pygments_lexer": "ipython3",
   "version": "3.8.8"
  }
 },
 "nbformat": 4,
 "nbformat_minor": 5
}
