{
 "cells": [
  {
   "cell_type": "markdown",
   "metadata": {},
   "source": [
    "# 异常\n",
    "- 广义上的错误分为错误和异常\n",
    "- 错误指的是可以人为避免\n",
    "- 异常是指在语法逻辑正确的前提下，出现的问题\n",
    "- 在python里，异常是一个类，可以处理和使用"
   ]
  },
  {
   "cell_type": "markdown",
   "metadata": {},
   "source": [
    "# 异常分类\n",
    "\n",
    "        AssertError 断言语句（assert）失败\n",
    "        AttributeError 尝试访问未知的对象属性\n",
    "        EOFError 用户输入文件末尾标志EOF（Ctrl+d）\n",
    "        FloatingPointError 浮点计算错误\n",
    "        GeneratorExit generator.close()方法被调用的时候\n",
    "        ImportError 导入模块失败的时候\n",
    "        IndexError 索引超出序列的范围\n",
    "        KeyError 字典中查找一个不存在的关键字\n",
    "        KeyboardInterrupt 用户输入中断键（Ctrl+c）\n",
    "        MemoryError 内存溢出（可通过删除对象释放内存）\n",
    "        NameError 尝试访问一个不存在的变量\n",
    "        NotImplementedError 尚未实现的方法\n",
    "        OSError 操作系统产生的异常（例如打开一个不存在的文件）\n",
    "        OverflowError 数值运算超出最大限制\n",
    "        ReferenceError 弱引用（weak reference）试图访问一个已经被垃圾回收机制回收了的对象\n",
    "        RuntimeError 一般的运行时错误\n",
    "        StopIteration 迭代器没有更多的值\n",
    "        SyntaxError Python的语法错误\n",
    "        IndentationError 缩进错误\n",
    "        TabError Tab和空格混合使用\n",
    "        SystemError Python编译器系统错误\n",
    "        SystemExit Python编译器进程被关闭\n",
    "        TypeError 不同类型间的无效操作\n",
    "        UnboundLocalError 访问一个未初始化的本地变量（NameError的子类）\n",
    "        UnicodeError Unicode相关的错误（ValueError的子类）\n",
    "        UnicodeEncodeError Unicode编码时的错误（UnicodeError的子类）\n",
    "        UnicodeDecodeError Unicode解码时的错误（UnicodeError的子类）\n",
    "        UnicodeTranslateError Unicode转换时的错误（UnicodeError的子类）\n",
    "        ValueError 传入无效的参数\n",
    "        ZeroDivisionError 除数为零"
   ]
  },
  {
   "cell_type": "code",
   "execution_count": 3,
   "metadata": {},
   "outputs": [
    {
     "name": "stdout",
     "output_type": "stream",
     "text": [
      "Plz input your num:0\n"
     ]
    },
    {
     "ename": "ZeroDivisionError",
     "evalue": "division by zero",
     "output_type": "error",
     "traceback": [
      "\u001b[1;31m---------------------------------------------------------------------------\u001b[0m",
      "\u001b[1;31mZeroDivisionError\u001b[0m                         Traceback (most recent call last)",
      "\u001b[1;32m<ipython-input-3-a497527fe42b>\u001b[0m in \u001b[0;36m<module>\u001b[1;34m\u001b[0m\n\u001b[0;32m      2\u001b[0m \u001b[1;33m\u001b[0m\u001b[0m\n\u001b[0;32m      3\u001b[0m \u001b[0mnum\u001b[0m \u001b[1;33m=\u001b[0m \u001b[0mint\u001b[0m\u001b[1;33m(\u001b[0m\u001b[0minput\u001b[0m\u001b[1;33m(\u001b[0m\u001b[1;34m\"Plz input your num:\"\u001b[0m\u001b[1;33m)\u001b[0m\u001b[1;33m)\u001b[0m\u001b[1;33m\u001b[0m\u001b[1;33m\u001b[0m\u001b[0m\n\u001b[1;32m----> 4\u001b[1;33m \u001b[0mprint\u001b[0m\u001b[1;33m(\u001b[0m\u001b[1;36m100\u001b[0m\u001b[1;33m/\u001b[0m\u001b[0mnum\u001b[0m\u001b[1;33m)\u001b[0m\u001b[1;33m\u001b[0m\u001b[1;33m\u001b[0m\u001b[0m\n\u001b[0m\u001b[0;32m      5\u001b[0m \u001b[1;33m\u001b[0m\u001b[0m\n\u001b[0;32m      6\u001b[0m \u001b[1;31m# AttributeError 尝试访问未知的对象属性\u001b[0m\u001b[1;33m\u001b[0m\u001b[1;33m\u001b[0m\u001b[1;33m\u001b[0m\u001b[0m\n",
      "\u001b[1;31mZeroDivisionError\u001b[0m: division by zero"
     ]
    }
   ],
   "source": [
    "# 常犯除零错误 ，输入0会报错\n",
    "\n",
    "num = int(input(\"Plz input your num:\"))\n",
    "print(100/num)\n",
    "\n"
   ]
  },
  {
   "cell_type": "code",
   "execution_count": 1,
   "metadata": {},
   "outputs": [
    {
     "ename": "AttributeError",
     "evalue": "'list' object has no attribute 'zhuxianfu'",
     "output_type": "error",
     "traceback": [
      "\u001b[1;31m---------------------------------------------------------------------------\u001b[0m",
      "\u001b[1;31mAttributeError\u001b[0m                            Traceback (most recent call last)",
      "\u001b[1;32m<ipython-input-1-3be77c59402d>\u001b[0m in \u001b[0;36m<module>\u001b[1;34m\u001b[0m\n\u001b[0;32m      1\u001b[0m \u001b[1;31m# AttributeError 尝试访问未知的对象属性\u001b[0m\u001b[1;33m\u001b[0m\u001b[1;33m\u001b[0m\u001b[1;33m\u001b[0m\u001b[0m\n\u001b[0;32m      2\u001b[0m \u001b[0ml\u001b[0m \u001b[1;33m=\u001b[0m \u001b[1;33m[\u001b[0m\u001b[1;36m1\u001b[0m\u001b[1;33m,\u001b[0m\u001b[1;36m2\u001b[0m\u001b[1;33m,\u001b[0m\u001b[1;36m3\u001b[0m\u001b[1;33m,\u001b[0m\u001b[1;36m4\u001b[0m\u001b[1;33m,\u001b[0m\u001b[1;36m5\u001b[0m\u001b[1;33m]\u001b[0m\u001b[1;33m\u001b[0m\u001b[1;33m\u001b[0m\u001b[0m\n\u001b[1;32m----> 3\u001b[1;33m \u001b[0mprint\u001b[0m\u001b[1;33m(\u001b[0m\u001b[0ml\u001b[0m\u001b[1;33m.\u001b[0m\u001b[0mzhuxianfu\u001b[0m\u001b[1;33m)\u001b[0m\u001b[1;33m\u001b[0m\u001b[1;33m\u001b[0m\u001b[0m\n\u001b[0m",
      "\u001b[1;31mAttributeError\u001b[0m: 'list' object has no attribute 'zhuxianfu'"
     ]
    }
   ],
   "source": [
    "# AttributeError 尝试访问未知的对象属性\n",
    "l = [1,2,3,4,5]\n",
    "print(l.zhuxianfu)"
   ]
  },
  {
   "cell_type": "markdown",
   "metadata": {},
   "source": [
    "# 异常处理\n",
    " - 不能保证程序永远正确运行\n",
    " - 但是，必须保证程序在最坏的情况下得到的问题被妥善处理\n",
    " - python的异常处理模块全部语法为：\n",
    " \n",
    "        try:\n",
    "            尝试实现某个葱操作\n",
    "            如果没出现异常，任务就可以完成\n",
    "            如果出现异常，将异常从当前代码块扔出去尝试解决异常\n",
    "            \n",
    "        excpet 异常类型1:\n",
    "            解决方案1：用于尝试在此处处理异常解决问题\n",
    "            \n",
    "        except 异常类型2：\n",
    "            解决方案2：用于尝试在此处处理异常解决问题\n",
    "            \n",
    "        except (异常类型1，异常类型2。。。）：\n",
    "            解决方案：用于尝试在此处处理异常解决问题针对多个异常使用相同的处理方式\n",
    "        \n",
    "        except：\n",
    "            解决方案：所有异常的解决方案\n",
    "            \n",
    "        else:\n",
    "            如果没有出现任何异常，将会执行此处代码\n",
    "            \n",
    "        finally:\n",
    "            管你有没有异常都要执行的代码\n",
    "           \n",
    " -  流程\n",
    "    1.执行try下面的语句\n",
    "    2.如果出现异常，则在except语句里查找异常\n",
    "    3.如果没有出现异常，则执行else语句内容\n",
    "    4.最后，不管是否出现异常，都要执行finally语句\n",
    " - 除except（最少一个）以外，else和finally可选\n",
    " - 简单异常案例 p02\n",
    " - 给出提示信息 p03\n",
    " - 具体多个异常案例分析 p04\n",
    " - exception 是最后父类 能拦截所有异常"
   ]
  },
  {
   "cell_type": "code",
   "execution_count": 1,
   "metadata": {},
   "outputs": [
    {
     "name": "stdout",
     "output_type": "stream",
     "text": [
      "Plz input your number:0\n",
      "你输入的什么玩意，0不能作为分母\n",
      "无论有没有异常我都会执行！\n"
     ]
    }
   ],
   "source": [
    "# 简单异常案例\n",
    "try:\n",
    "    num = int(input(\"Plz input your number:\"))\n",
    "    rst = 100/num\n",
    "    print(\"计算结果是： {0}\".format(rst))\n",
    "except:\n",
    "    print(\"你输入的什么玩意，0不能作为分母\")\n",
    "    # exit是退出程序的意思\n",
    "else:\n",
    "    print('没有异常呀：')\n",
    "finally:\n",
    "    print('无论有没有异常我都会执行！')\n",
    "    exit()"
   ]
  },
  {
   "cell_type": "code",
   "execution_count": 2,
   "metadata": {},
   "outputs": [
    {
     "name": "stdout",
     "output_type": "stream",
     "text": [
      "Plz input your number:0\n",
      "你输入的什么玩意，0不能作为分母\n",
      "division by zero\n"
     ]
    }
   ],
   "source": [
    "# 简单异常案例\n",
    "# 给出提示信息\n",
    "try:\n",
    "    num = int(input(\"Plz input your number:\"))\n",
    "    rst = 100/num\n",
    "    print(\"计算结果是： {0}\".format(rst))\n",
    "# 捕获异常后，把异常实例化，出错信息就会在实例里\n",
    "# 注意以下写法\n",
    "# 以下语句是捕获ZeroDivisonError异常并实例化实例e\n",
    "except ZeroDivisionError as e:\n",
    "    print(\"你输入的什么玩意，0不能作为分母\")\n",
    "    print(e)\n",
    "    # exit是退出程序的意思\n",
    "    exit()\n",
    "\n",
    "# 思考： 为什么可以直接打印实例e,此刻实例e应该实现了哪个函数"
   ]
  },
  {
   "cell_type": "code",
   "execution_count": 1,
   "metadata": {},
   "outputs": [
    {
     "name": "stdout",
     "output_type": "stream",
     "text": [
      "Plz input a number:000.2\n",
      "好像属性有问题\n",
      "invalid literal for int() with base 10: '000.2'\n",
      "hahahahaha\n"
     ]
    }
   ],
   "source": [
    "# 给出提示信息\n",
    "\n",
    "num = input('Plz input a number:')\n",
    "\n",
    "try:\n",
    "    num = int(num)\n",
    "    print('成功转换成整数啦')\n",
    "    a = 100 / num\n",
    "    print(a)\n",
    "    print(b)\n",
    "# 如果是多个error的情况\n",
    "# 需要把越具体的错误，放在前面\n",
    "# 在异常类继承关系中，越是子类的异常，越要往前放\n",
    "# 越是父类的异常，越往后放\n",
    "\n",
    "# 在处理异常的时候，一旦拦截到某一个异常，就不会继续往下查看，直接进入下一个\n",
    "# 代码，即有finally则执行这个语句块，否则执行下一个大的语句\n",
    "except ZeroDivisionError as ze:\n",
    "    print(\"你输入的什么玩意，0不能作为分母\")\n",
    "    print(ze)\n",
    "    # exit是退出程序的意思\n",
    "    exit()\n",
    "except NameError as ne:\n",
    "    print(\"名字起错了\")\n",
    "    print(ne)\n",
    "    exit()\n",
    "except ValueError as ve:\n",
    "    print(\"好像属性有问题\")\n",
    "    print(ve)\n",
    "    exit()\n",
    "# 所有异常都是继承自Exception\n",
    "# 如果写上下面的这句话，任何异常都会拦截住\n",
    "# 而且，下面这句话一定是最后一个exception\n",
    "except Exception as e:\n",
    "    print(\"我也不知道哪里错啦\")\n",
    "    print(e)\n",
    "    exit()\n",
    "print(\"hahahahaha\")\n"
   ]
  },
  {
   "cell_type": "code",
   "execution_count": 8,
   "metadata": {},
   "outputs": [
    {
     "name": "stdout",
     "output_type": "stream",
     "text": [
      "Plz input your number:aaa\n",
      "任何异常我都会拦截\n",
      "无论如何我都会被执行\n"
     ]
    }
   ],
   "source": [
    "# else 语句案例\n",
    "\n",
    "try:\n",
    "    num = int(input(\"Plz input your number:\"))\n",
    "    rst = 100/num\n",
    "    print(\"计算结果是： {0}\".format(rst))\n",
    "except Exception as e:\n",
    "    print(\"任何异常我都会拦截\")\n",
    "else:\n",
    "    print(\"没有异常我就会执行\")\n",
    "finally:\n",
    "    print(\"无论如何我都会被执行\")"
   ]
  },
  {
   "cell_type": "markdown",
   "metadata": {},
   "source": [
    "# 用户手动引发异常\n",
    " - 当某些情况，用户希望自己引发一个异常的时候，可以使用\n",
    " - raise 关键字来引发异常\n",
    " - rais 案例 p05\n",
    " - 也可以自己定义异常名\n",
    "    - 需要注意：自定义异常必须是系统异常的子类，继承\n",
    "    \n",
    "            class ZhuError(ValueError):\n",
    "                pass\n"
   ]
  },
  {
   "cell_type": "code",
   "execution_count": 18,
   "metadata": {},
   "outputs": [
    {
     "name": "stdout",
     "output_type": "stream",
     "text": [
      "Help on class ValueError in module builtins:\n",
      "\n",
      "class ValueError(Exception)\n",
      " |  Inappropriate argument value (of correct type).\n",
      " |  \n",
      " |  Method resolution order:\n",
      " |      ValueError\n",
      " |      Exception\n",
      " |      BaseException\n",
      " |      object\n",
      " |  \n",
      " |  Methods defined here:\n",
      " |  \n",
      " |  __init__(self, /, *args, **kwargs)\n",
      " |      Initialize self.  See help(type(self)) for accurate signature.\n",
      " |  \n",
      " |  ----------------------------------------------------------------------\n",
      " |  Static methods defined here:\n",
      " |  \n",
      " |  __new__(*args, **kwargs) from builtins.type\n",
      " |      Create and return a new object.  See help(type) for accurate signature.\n",
      " |  \n",
      " |  ----------------------------------------------------------------------\n",
      " |  Methods inherited from BaseException:\n",
      " |  \n",
      " |  __delattr__(self, name, /)\n",
      " |      Implement delattr(self, name).\n",
      " |  \n",
      " |  __getattribute__(self, name, /)\n",
      " |      Return getattr(self, name).\n",
      " |  \n",
      " |  __reduce__(...)\n",
      " |      Helper for pickle.\n",
      " |  \n",
      " |  __repr__(self, /)\n",
      " |      Return repr(self).\n",
      " |  \n",
      " |  __setattr__(self, name, value, /)\n",
      " |      Implement setattr(self, name, value).\n",
      " |  \n",
      " |  __setstate__(...)\n",
      " |  \n",
      " |  __str__(self, /)\n",
      " |      Return str(self).\n",
      " |  \n",
      " |  with_traceback(...)\n",
      " |      Exception.with_traceback(tb) --\n",
      " |      set self.__traceback__ to tb and return self.\n",
      " |  \n",
      " |  ----------------------------------------------------------------------\n",
      " |  Data descriptors inherited from BaseException:\n",
      " |  \n",
      " |  __cause__\n",
      " |      exception cause\n",
      " |  \n",
      " |  __context__\n",
      " |      exception context\n",
      " |  \n",
      " |  __dict__\n",
      " |  \n",
      " |  __suppress_context__\n",
      " |  \n",
      " |  __traceback__\n",
      " |  \n",
      " |  args\n",
      "\n"
     ]
    }
   ],
   "source": [
    "help(ValueError)"
   ]
  },
  {
   "cell_type": "code",
   "execution_count": 20,
   "metadata": {},
   "outputs": [
    {
     "name": "stdout",
     "output_type": "stream",
     "text": [
      "我爱刘雨霞\n",
      "真的哦\n",
      "ZhuValueError\n",
      "\n",
      "无论怎么样，我肯定会被执行的\n"
     ]
    }
   ],
   "source": [
    "# raise 案例\n",
    "# 也可以自己定义异常名\n",
    "# 需要注意:自定义异常必须是系统异常的子类.继承\n",
    "\n",
    "class ZhuValueError(ValueError):\n",
    "    pass\n",
    "try:\n",
    "    print(\"我爱刘雨霞\")\n",
    "    print(\"真的哦\")\n",
    "    # 手动引发一个异常\n",
    "    # 注意语法： raise ErrorClassName (异常类）\n",
    "    raise ZhuValueError\n",
    "    print(\"手动异常后面不执行啦!\")\n",
    "except NameError as e:\n",
    "    print(\"NameError\")\n",
    "except ZhuValueError as e:\n",
    "    print(\"ZhuValueError\")\n",
    "    print(e) # 实例化错误\n",
    "except Exception as e:\n",
    "    print(\"有异常\")\n",
    "finally:\n",
    "    print(\"无论怎么样，我肯定会被执行的\")"
   ]
  },
  {
   "cell_type": "code",
   "execution_count": 25,
   "metadata": {},
   "outputs": [
    {
     "name": "stdout",
     "output_type": "stream",
     "text": [
      "请输入数字：11\n",
      "输入数字太大啦\n"
     ]
    },
    {
     "ename": "ZhuError",
     "evalue": "",
     "output_type": "error",
     "traceback": [
      "\u001b[1;31m---------------------------------------------------------------------------\u001b[0m",
      "\u001b[1;31mZhuError\u001b[0m                                  Traceback (most recent call last)",
      "\u001b[1;32m<ipython-input-25-3fcfe8f8fc7c>\u001b[0m in \u001b[0;36m<module>\u001b[1;34m\u001b[0m\n\u001b[0;32m      8\u001b[0m \u001b[1;32mif\u001b[0m \u001b[0ma\u001b[0m \u001b[1;33m>\u001b[0m \u001b[1;36m10\u001b[0m\u001b[1;33m:\u001b[0m\u001b[1;33m\u001b[0m\u001b[1;33m\u001b[0m\u001b[0m\n\u001b[0;32m      9\u001b[0m     \u001b[0mprint\u001b[0m\u001b[1;33m(\u001b[0m\u001b[1;34m'输入数字太大啦'\u001b[0m\u001b[1;33m)\u001b[0m\u001b[1;33m\u001b[0m\u001b[1;33m\u001b[0m\u001b[0m\n\u001b[1;32m---> 10\u001b[1;33m     \u001b[1;32mraise\u001b[0m \u001b[0mZhuError\u001b[0m\u001b[1;33m\u001b[0m\u001b[1;33m\u001b[0m\u001b[0m\n\u001b[0m\u001b[0;32m     11\u001b[0m \u001b[1;33m\u001b[0m\u001b[0m\n\u001b[0;32m     12\u001b[0m \u001b[0mprint\u001b[0m\u001b[1;33m(\u001b[0m\u001b[1;34m'lalalal'\u001b[0m\u001b[1;33m)\u001b[0m\u001b[1;33m\u001b[0m\u001b[1;33m\u001b[0m\u001b[0m\n",
      "\u001b[1;31mZhuError\u001b[0m: "
     ]
    }
   ],
   "source": [
    "# 自定义异常\n",
    "class ZhuError(Exception):\n",
    "    pass\n",
    "\n",
    "a = input('请输入数字：')\n",
    "a = int(a)\n",
    "\n",
    "if a > 10:\n",
    "    print('输入数字太大啦')\n",
    "    raise ZhuError\n",
    "    \n",
    "print('lalalal')"
   ]
  },
  {
   "cell_type": "markdown",
   "metadata": {},
   "source": [
    "# 关于自定义异常\n",
    " - 只要是raise异常，则推荐自定义异常，可以任意扩展更改\n",
    " - 在自定义异常的时候，一般包含以下内容：\n",
    "    - 自定义发生异常后的异常代码\n",
    "    - 自定义发生异常后的问题提示\n",
    "    - 自定义发生异常的行数\n",
    " - 最终目的是，一旦发生异常，方便程序员快速定位错误现场"
   ]
  },
  {
   "cell_type": "code",
   "execution_count": null,
   "metadata": {},
   "outputs": [],
   "source": []
  },
  {
   "cell_type": "code",
   "execution_count": null,
   "metadata": {},
   "outputs": [],
   "source": []
  },
  {
   "cell_type": "code",
   "execution_count": null,
   "metadata": {},
   "outputs": [],
   "source": []
  },
  {
   "cell_type": "code",
   "execution_count": null,
   "metadata": {},
   "outputs": [],
   "source": []
  },
  {
   "cell_type": "code",
   "execution_count": null,
   "metadata": {},
   "outputs": [],
   "source": []
  }
 ],
 "metadata": {
  "kernelspec": {
   "display_name": "Python 3",
   "language": "python",
   "name": "python3"
  },
  "language_info": {
   "codemirror_mode": {
    "name": "ipython",
    "version": 3
   },
   "file_extension": ".py",
   "mimetype": "text/x-python",
   "name": "python",
   "nbconvert_exporter": "python",
   "pygments_lexer": "ipython3",
   "version": "3.7.6"
  }
 },
 "nbformat": 4,
 "nbformat_minor": 4
}
