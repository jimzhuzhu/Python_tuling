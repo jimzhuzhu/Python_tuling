{
 "cells": [
  {
   "cell_type": "markdown",
   "metadata": {},
   "source": [
    "# str内置函数\n",
    " - 很多语言字符串使用string表示，但是python中使用str\n",
    " - 可以使用help(str)函数帮助文档了解str内建函数\n",
    " - 内置函数分类\n",
    " - 字符串查找类\n",
    "         - find 查找字符串中是否包含一个子串\n",
    "         - index 跟find唯一区别是如果没有找到子串会报错异常\n",
    "         - rfind,lfind: 从左开始查找或者从右开始查找\n",
    "         - islower # 判断返回布尔值"
   ]
  },
  {
   "cell_type": "code",
   "execution_count": null,
   "metadata": {},
   "outputs": [],
   "source": [
    "# 拼接操作\n",
    "s1 = 'i love'\n",
    "s2 = 'liu yu xia'\n",
    "s = s1 + ' ' + s2\n",
    "print(s)\n",
    "print('i love ' + 'liu yu xia')"
   ]
  },
  {
   "cell_type": "code",
   "execution_count": null,
   "metadata": {},
   "outputs": [],
   "source": [
    "# 字符串的乘法\n",
    "s = 'i love liu yu xia '\n",
    "print(s*2)"
   ]
  },
  {
   "cell_type": "code",
   "execution_count": null,
   "metadata": {},
   "outputs": [],
   "source": [
    "# 字符串当成列表\n",
    "s = 'i love liu yu xia'\n",
    "print(s[0])\n",
    "print(s[-3])\n",
    "print(s[2:6]) # 返回的id不一样，是一个全新的字符串\n",
    "print(s[:]) # 完整切片，id一样,不是全新的，但是列表切片是新的列表\n",
    "s1 = s[:]\n",
    "# s[1] = 'A' 会报错，str不能直接更改，用切换成列表\n",
    "ls = list(s)\n",
    "ls[1] = 'A'\n",
    "print(ls)"
   ]
  },
  {
   "cell_type": "code",
   "execution_count": null,
   "metadata": {},
   "outputs": [],
   "source": [
    "# help(str)\n",
    "# help(str.find)"
   ]
  },
  {
   "cell_type": "code",
   "execution_count": 24,
   "metadata": {},
   "outputs": [
    {
     "name": "stdout",
     "output_type": "stream",
     "text": [
      "I love liu yu xia\n"
     ]
    }
   ],
   "source": [
    "# capitalize 首字母大写，其余小写，返回字符串\n",
    "s = 'I lOvE Liu yu xiA'\n",
    "print(s.capitalize())"
   ]
  },
  {
   "cell_type": "code",
   "execution_count": null,
   "metadata": {},
   "outputs": [],
   "source": [
    "# casefold 返回一个无大小写区分的字符串\n",
    "print(s.casefold())"
   ]
  },
  {
   "cell_type": "code",
   "execution_count": null,
   "metadata": {},
   "outputs": [],
   "source": [
    "# title() 将每个单词的首字母变为大写，返回的是字符串\n",
    "print(s.title())"
   ]
  },
  {
   "cell_type": "code",
   "execution_count": null,
   "metadata": {},
   "outputs": [],
   "source": [
    "# upper() 将所有字母变成大写字母，返回字符串\n",
    "print(s.upper())"
   ]
  },
  {
   "cell_type": "code",
   "execution_count": null,
   "metadata": {},
   "outputs": [],
   "source": [
    "# lower() 将所有字母变成小写字母，返回字符串\n",
    "print(s.lower())"
   ]
  },
  {
   "cell_type": "code",
   "execution_count": null,
   "metadata": {},
   "outputs": [],
   "source": [
    "# swapcase() 大小写互换\n",
    "print(s.swapcase())"
   ]
  },
  {
   "cell_type": "code",
   "execution_count": null,
   "metadata": {},
   "outputs": [],
   "source": [
    "# len() 计算字符串长度，不属于字符串的内建函数\n",
    "# len 统计长度是按照字符个数统计，一个汉字长度为一\n",
    "s = 'i love liu yu xia'\n",
    "s1 = 'i love me'\n",
    "print(len(s))\n",
    "print(len(s1))"
   ]
  },
  {
   "cell_type": "code",
   "execution_count": null,
   "metadata": {},
   "outputs": [],
   "source": [
    "# find() 查找字符串，找不大返回-1，第一次找到返回第一次索引值\n",
    "# index() 查找指定字符串，找不到会报错\n",
    "s = 'my name is zhu xianfu'\n",
    "s1 = s.find('a')\n",
    "print(s1)\n",
    "s1 = s.find('a',10) # 使用区间，从下标10开始查找\n",
    "print(s1)\n",
    "s1 = s.find('b')\n",
    "print(s1) # 找不到返回-1\n",
    "# s2 = s.index('b') 会报错\n",
    "# print(s2)"
   ]
  },
  {
   "cell_type": "code",
   "execution_count": 3,
   "metadata": {},
   "outputs": [
    {
     "data": {
      "text/plain": [
       "17"
      ]
     },
     "execution_count": 3,
     "metadata": {},
     "output_type": "execute_result"
    }
   ],
   "source": [
    "s = \"Zhu Xian Fu love Liu Yu Xia and Zhu Yu Xuan\"\n",
    "s1 = \"Liu Yu Xia\"\n",
    "# 返回第一次发现这个字符串的位置\n",
    "s.find(s1)\n",
    "\n",
    "s2 = \"wawa\"\n",
    "s.find(s2)\n",
    "# 返回-1表示没有找到子串，不会报错\n",
    "\n",
    "# s.index(s2) # 没有找到会报错引发异常"
   ]
  },
  {
   "cell_type": "code",
   "execution_count": 5,
   "metadata": {},
   "outputs": [
    {
     "data": {
      "text/plain": [
       "17"
      ]
     },
     "execution_count": 5,
     "metadata": {},
     "output_type": "execute_result"
    }
   ],
   "source": [
    "# 使用的时候可以使用区间\n",
    "s = \"Zhu Xian Fu love Liu Yu Xia and Zhu Yu Xuan\"\n",
    "s1 = \"Liu Yu Xia\"\n",
    "# 从下表15开始查找，看能否找到\n",
    "s.find(s1,15)"
   ]
  },
  {
   "cell_type": "markdown",
   "metadata": {},
   "source": [
    "\n",
    "### 判断类函数\n",
    " - 此类函数的特点是一般都用is开头，比如islower\n",
    " - isalpha:判断是否是字母，需要注意的是两点\n",
    "     - 此函数默认的前提是字符串至少包含一个字符，如果没有，同样返回False\n",
    "     - 汉字被认为是alpha,所以，此函数不能作为区分英语字母还是汉字的标识，区分中英文需要用unicode码\n",
    "     - 注意使用区别，防止陷阱\n",
    " - isdigit,isnumeric, isdecimal 三个判断数字的函数\n",
    " - 此函数不建议使用，后期爬虫中，判断是否是数字建议采用正则表达式的方式\n",
    "         \n",
    "         \n",
    "         对着三个函数的总结是：\n",
    "         digit:\n",
    "             True:Unicode数字，byte数字（单字节），全角数字（双字节），罗马数字\n",
    "             False: 汉字数字\n",
    "             Error: 无\n",
    "             \n",
    "         isdecimal()\n",
    "             True:Unicode数字，全角数字（双字节）\n",
    "             False: 罗马数字，汉字数字\n",
    "             Error: 无\n",
    "             \n",
    "         isnumeric()\n",
    "             True:Unicode数字，byte数字（单字节），全角数字（双字节），罗马数字\n",
    "             False:无\n",
    "             Error:byte数字（单字节）\n",
    " - islower 判断是否是小写\n",
    " - islower 判断是否是大写\n",
    " - isspace 判断字符串是否是空字符串\n",
    " - istitle 判断每个单词首字母是否大写"
   ]
  },
  {
   "cell_type": "code",
   "execution_count": 5,
   "metadata": {},
   "outputs": [
    {
     "name": "stdout",
     "output_type": "stream",
     "text": [
      "False\n",
      "False\n",
      "False\n",
      "False\n"
     ]
    }
   ],
   "source": [
    "# isalpha 判断是否全部是字母，汉字也是alpha\n",
    "# 以下三个都不是的，因为有除了字母以外的空格等\n",
    "s1 = \"我们对着天发誓，朱献福永远爱着刘雨霞\"\n",
    "s2 = \"bengberba is friend if baberbeng\"\n",
    "s3 = \"China number One\"\n",
    "s = 'woailiuyuxia'\n",
    "\n",
    "print(s1.isalpha())\n",
    "print(s2.isalpha())\n",
    "print(s3.isalpha())\n",
    "print(s.isalpha())"
   ]
  },
  {
   "cell_type": "code",
   "execution_count": 8,
   "metadata": {},
   "outputs": [
    {
     "name": "stdout",
     "output_type": "stream",
     "text": [
      "False\n",
      "True\n",
      "False\n"
     ]
    }
   ],
   "source": [
    "# 需要注意的是，因为输入法的问题，输入罗马数字可能得不到我们想要的结果\n",
    "chin_num = \"一二三四\"\n",
    "print(chin_num.isdigit())\n",
    "print(chin_num.isnumeric())\n",
    "print(chin_num.isdecimal())"
   ]
  },
  {
   "cell_type": "markdown",
   "metadata": {},
   "source": [
    "### 内容判断类\n",
    " - srartswith/endswith : 是否以xxx开头或者结尾\n",
    "     - 检测某个字符串是否以某个子串开头，常用三个参数\n",
    "     - suffix： 被检查的字符串，必须有\n",
    "     - start: 检查范围的开始范围\n",
    "     - end: 检查范围的结束范围\n",
    " - islower/ isupper: 判断字符串是否大写还是小写"
   ]
  },
  {
   "cell_type": "code",
   "execution_count": null,
   "metadata": {},
   "outputs": [],
   "source": [
    "# count() 计算字符串出现次数，返回整值,也可以进行区间索引操作\n",
    "# count()\n",
    "s = 'hahalalahahalala'\n",
    "print(s.count('a'))"
   ]
  },
  {
   "cell_type": "code",
   "execution_count": null,
   "metadata": {},
   "outputs": [],
   "source": [
    "# startswith 检测是否以指定字母开头，返回布尔值\n",
    "# endswhith 检测是否以指定字母结尾\n",
    "\n",
    "s = 'i love liu yu xia'\n",
    "print(s.startswith('i'))\n",
    "print(s.startswith('l'))\n",
    "print('='*10)\n",
    "print(s.endswith('a'))\n",
    "print(s.endswith('A'))"
   ]
  },
  {
   "cell_type": "code",
   "execution_count": 11,
   "metadata": {},
   "outputs": [
    {
     "name": "stdout",
     "output_type": "stream",
     "text": [
      "True\n",
      "True\n"
     ]
    }
   ],
   "source": [
    "zhuzhu = \"zhu xian fu\"\n",
    "yuxia = \"liu yu xia\"\n",
    "s = \"zhu xian fu love liu yu xia\"\n",
    "\n",
    "print(s.startswith(zhuzhu))\n",
    "print(s.endswith(yuxia))"
   ]
  },
  {
   "cell_type": "code",
   "execution_count": 3,
   "metadata": {},
   "outputs": [
    {
     "name": "stdout",
     "output_type": "stream",
     "text": [
      "False\n",
      "True\n",
      "True\n",
      "False\n",
      "False\n",
      "True\n"
     ]
    }
   ],
   "source": [
    "# islower判断小写\n",
    "\n",
    "s1 = \"I LOVE LIU YU XIA\"\n",
    "s2 = \"i love liu yu xia\"\n",
    "print(s1.islower())\n",
    "print(s2.islower())\n",
    "\n",
    "# isupper()判断大写\n",
    "print(s1.isupper())\n",
    "print(s2.isupper())\n",
    "\n",
    "# isspace 判断是否是空字符串\n",
    "s = ''\n",
    "s1 = ' '\n",
    "print(s.isspace())\n",
    "print(s1.isspace()) # 至少有一个空格"
   ]
  },
  {
   "cell_type": "code",
   "execution_count": 13,
   "metadata": {},
   "outputs": [
    {
     "name": "stdout",
     "output_type": "stream",
     "text": [
      "False\n",
      "False\n",
      "True\n",
      "True\n",
      "False\n"
     ]
    }
   ],
   "source": [
    "# islower/ isupeer判断大小写\n",
    "\n",
    "s1 = \"Zhu love yu xia\"\n",
    "s2 = \"Zhuloveyuxia\"\n",
    "s3 = \"zhuloveyuxia\"\n",
    "# 空格不影响判断结果，\n",
    "s4 = \"zhu love yu xia\"\n",
    "# 汉字字符串没有大小概念\n",
    "s5 = \"朱爱雨霞\"\n",
    "\n",
    "print(s1.islower())\n",
    "print(s2.islower())\n",
    "print(s3.islower())\n",
    "print(s4.islower())\n",
    "print(s5.islower())"
   ]
  },
  {
   "cell_type": "markdown",
   "metadata": {},
   "source": [
    "### 操作类函数\n",
    " - format: 格式化用的\n",
    " - strip: 主要作用是删除字符串两边的空格\n",
    "     - 也可以定义删除字符串两边的哪一个字符\n",
    "     - 默认是空格\n",
    "     - lstrip 表示左边删除左边字符，rstrip表示删除右边字符\n",
    "     - 不仅删除一个，指删除开始符合条件的连续字符。\n",
    " - join: 主要对字符串进行拼接，需要一个可以迭代的内容作为参数，功能是把可迭代的字符串拼接在一起，中间使用调用字符串作为分隔符。"
   ]
  },
  {
   "cell_type": "code",
   "execution_count": 8,
   "metadata": {},
   "outputs": [
    {
     "name": "stdout",
     "output_type": "stream",
     "text": [
      "['窗前明月光', '疑是地上霜', '举头望明月', '低头思故乡']\n"
     ]
    }
   ],
   "source": [
    "# split() 用指定字符切割字符串，返回由字符串组成的列表\n",
    "s = '窗前明月光+疑是地上霜+举头望明月+低头思故乡'\n",
    "print(s.split('+'))"
   ]
  },
  {
   "cell_type": "code",
   "execution_count": 10,
   "metadata": {},
   "outputs": [
    {
     "name": "stdout",
     "output_type": "stream",
     "text": [
      "['窗前明月光', '疑是地上霜', '举头望明月', '低头思故乡']\n"
     ]
    }
   ],
   "source": [
    "# splitlines() 以换行\\n切割字符串，返回由字符串组成列表\n",
    "s = '窗前明月光\\n疑是地上霜\\n举头望明月\\n低头思故乡'\n",
    "print(s.splitlines())"
   ]
  },
  {
   "cell_type": "code",
   "execution_count": 19,
   "metadata": {},
   "outputs": [
    {
     "name": "stdout",
     "output_type": "stream",
     "text": [
      "ZhuZhuZhu love liu yu xia Zhu\n",
      "\n",
      "ZhuZhuZhu love liu yu xia Zhu---\n",
      " love liu yu xia \n",
      " love liu yu xia Zhu\n",
      "ZhuZhuZhu love liu yu xia \n"
     ]
    }
   ],
   "source": [
    "# strip() 去掉左边两边指定字母，默认去掉空格\n",
    "# lstrip() 去掉左侧指定字母，默认空格\n",
    "# rstrip() 去掉右侧指定字母，默认空格\n",
    "c = \"ZhuZhuZhu love liu yu xia Zhu\"\n",
    "# 是否成功删除两边空格不能很好观察出来\n",
    "print(c.strip())\n",
    "print() # 打印空行\n",
    "print(c.strip(), end=\"---\",)\n",
    "# 也可以删除其它字符串\n",
    "print()\n",
    "print(c.strip(\"Zhu\"))\n",
    "print(c.lstrip(\"Zhu\")) # 只删除左边的定义字符\n",
    "print(c.rstrip(\"Zhu\")) # 只删除右边的定义字符"
   ]
  },
  {
   "cell_type": "code",
   "execution_count": 39,
   "metadata": {},
   "outputs": [
    {
     "name": "stdout",
     "output_type": "stream",
     "text": [
      "Zhu Xian Fu$love$Liu$Yu Xia\n",
      "Zhu Xian Fu-love-Liu-Yu Xia\n",
      "Zhu Xian Fu love Liu Yu Xia\n"
     ]
    }
   ],
   "source": [
    "# join案例 使用分隔符把内容拼接\n",
    "s1 = \"$\"\n",
    "s2 = \"-\"\n",
    "s3 = \" \"\n",
    "ss = [\"Zhu Xian Fu\", \"love\", \"Liu\", \"Yu Xia\"] # 字符串组成的列表\n",
    "print(s1.join(ss))\n",
    "print(s2.join(ss))\n",
    "print(s3.join(ss))"
   ]
  },
  {
   "cell_type": "code",
   "execution_count": 18,
   "metadata": {},
   "outputs": [
    {
     "name": "stdout",
     "output_type": "stream",
     "text": [
      "3\n",
      "abc    a\n",
      "abclllla\n",
      "  abc  \n",
      "00abc00\n",
      "    abca\n",
      "llllabca\n"
     ]
    }
   ],
   "source": [
    "# ljust() 指定字符串的长度，内容拿左边，不足的位置用指定字符串填充，默认空格，返回字符串\n",
    "# ljust(指定长度，填充内容)\n",
    "s = 'abc'\n",
    "print(len(s))\n",
    "print(s.ljust(7)+'a')\n",
    "print(s.ljust(7,'l')+'a')\n",
    "\n",
    "# center() 指定字符串长度，内容居中，不足的位置用指定字符串填充，默认空格，返回字符串\n",
    "print(s.center(7))\n",
    "print(s.center(7,'0'))\n",
    "\n",
    "# rjust() 指定字符串的长度，内容拿右边，不足的位置用指定字符串填充，默认空格，返回字符串\n",
    "print(s.rjust(7)+'a')\n",
    "print(s.rjust(7,'l')+'a')"
   ]
  },
  {
   "cell_type": "code",
   "execution_count": 20,
   "metadata": {},
   "outputs": [
    {
     "name": "stdout",
     "output_type": "stream",
     "text": [
      "0000000abc\n"
     ]
    }
   ],
   "source": [
    "# zfill() 指定字符串长度，内容拿右，不足位置用0填充\n",
    "s = 'abc'\n",
    "print(s.zfill(10))"
   ]
  },
  {
   "cell_type": "code",
   "execution_count": 22,
   "metadata": {},
   "outputs": [
    {
     "name": "stdout",
     "output_type": "stream",
     "text": [
      "今天晚上我要吃火锅，可好吃了\n",
      "{28779: 28900, 38149: 32905}\n",
      "今天晚上我要吃烤肉，可好吃了\n"
     ]
    }
   ],
   "source": [
    "# maketrans() 生成用于字符串替换的映射标,两者替换长度要一样，否则报错\n",
    "# translate() 进行字符串替换\n",
    "s  = '今天晚上我要吃火锅，可好吃了'\n",
    "s1 = s.maketrans('火锅', '烤肉')\n",
    "print(s)\n",
    "print(s1)\n",
    "print(s.translate(s1))"
   ]
  }
 ],
 "metadata": {
  "kernelspec": {
   "display_name": "Python 3",
   "language": "python",
   "name": "python3"
  },
  "language_info": {
   "codemirror_mode": {
    "name": "ipython",
    "version": 3
   },
   "file_extension": ".py",
   "mimetype": "text/x-python",
   "name": "python",
   "nbconvert_exporter": "python",
   "pygments_lexer": "ipython3",
   "version": "3.8.8"
  }
 },
 "nbformat": 4,
 "nbformat_minor": 4
}
