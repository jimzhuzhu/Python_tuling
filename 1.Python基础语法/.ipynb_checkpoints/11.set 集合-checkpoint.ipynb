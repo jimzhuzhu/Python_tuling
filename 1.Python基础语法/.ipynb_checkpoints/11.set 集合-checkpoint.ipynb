{
 "cells": [
  {
   "cell_type": "markdown",
   "metadata": {},
   "source": [
    "# 集合\n",
    " - 跟数学中的集合概念一致\n",
    " - 内容没有顺序 + 内容不重复\n",
    " - 集合如何定义\n",
    "     - 1.通过set()关键字\n",
    "     - 2.使用大括号"
   ]
  },
  {
   "cell_type": "code",
   "execution_count": 8,
   "metadata": {},
   "outputs": [
    {
     "name": "stdout",
     "output_type": "stream",
     "text": [
      "set()\n",
      "<class 'set'>\n",
      "{1, 2, 3, 4, 5, 6}\n",
      "{1, 2, 3, 4, 6, 7, 8}\n"
     ]
    }
   ],
   "source": [
    "# 1.set关键字\n",
    "s = set()\n",
    "print(s)\n",
    "print(type(s))\n",
    "\n",
    "# 列表和集合转化\n",
    "li = [1,2,3,4,5,6,5,4,3,2,1]\n",
    "s = set(li)\n",
    "print(s)\n",
    "\n",
    "# 2.使用大括号\n",
    "s = {1,2,3,4,1,2,3,4,6,7,8}\n",
    "print(s)"
   ]
  },
  {
   "cell_type": "code",
   "execution_count": 9,
   "metadata": {},
   "outputs": [
    {
     "name": "stdout",
     "output_type": "stream",
     "text": [
      "2222\n",
      "444\n",
      "1\n",
      "2\n",
      "3\n",
      "4\n",
      "6\n",
      "7\n",
      "8\n"
     ]
    }
   ],
   "source": [
    "# in 操作\n",
    "if 2 in s:\n",
    "    print(2222)\n",
    "    \n",
    "if 8 in s:\n",
    "    print(444)\n",
    "    \n",
    "for i in s:\n",
    "    print(i)"
   ]
  },
  {
   "cell_type": "code",
   "execution_count": 10,
   "metadata": {},
   "outputs": [
    {
     "name": "stdout",
     "output_type": "stream",
     "text": [
      "i love liu yu xia\n",
      "4 5 6\n",
      "1 2 3\n"
     ]
    }
   ],
   "source": [
    "# 集合的另一种遍历\n",
    "\n",
    "sa = {(1,2,3), (4,5,6), (\"i\", \"love\", \"liu yu xia\")}\n",
    "\n",
    "for i,j,k in sa:\n",
    "    print(i,j,k)"
   ]
  },
  {
   "cell_type": "code",
   "execution_count": 13,
   "metadata": {},
   "outputs": [
    {
     "name": "stdout",
     "output_type": "stream",
     "text": [
      "{1, 2, 3, 4, 5, 6, 7, 8, 9, 10}\n",
      "{2, 4, 6, 8, 10}\n",
      "{64, 1, 4, 36, 100, 9, 16, 49, 81, 25}\n",
      "{1, 2, 3, 4, 5, 6, 7, 8, 9, 10, 12, 14, 15, 16, 18, 20, 21, 24, 25, 27, 28, 30, 32, 35, 36, 40, 42, 45, 48, 49, 50, 54, 56, 60, 63, 64, 70, 72, 80, 81, 90, 100}\n",
      "42\n"
     ]
    }
   ],
   "source": [
    "# 集合的生成式\n",
    "sa = {1,2,3,4,5,6,7,8,9,10}\n",
    "# 利用sa生成一个sb\n",
    "sb = {i for i in sa}\n",
    "print(sb)\n",
    "\n",
    "sc = {i for i in sa if i % 2 == 0}\n",
    "print(sc)\n",
    "\n",
    "# 双重for 循环\n",
    "# 把sa中的每一个元素的平方生成一个新的集合\n",
    "# 1.用一个for\n",
    "\n",
    "sd = {i **2 for i in sa}\n",
    "print(sd)\n",
    "# 2.使用两个for\n",
    "# 仔细思考，se的长度是多少\n",
    "se = {m*n for m in sa for n in sa}\n",
    "print(se)\n",
    "print(len(se))"
   ]
  },
  {
   "cell_type": "code",
   "execution_count": 18,
   "metadata": {},
   "outputs": [
    {
     "name": "stdout",
     "output_type": "stream",
     "text": [
      "42\n",
      "{1, 2, 3, 4, 5, 6}\n",
      "None\n",
      "{1, 2, 3, 4, 5, 6, 7}\n"
     ]
    }
   ],
   "source": [
    "# 集合的内置函数\n",
    "#len: 长度\n",
    "print(len(se))\n",
    "# max/min: 最值\n",
    "# add: 向集合中添加元素\n",
    "sa = {1,2,3,4,5,6,5,4,3,2,1}\n",
    "print(sa)\n",
    "# 打印结果不是sa，为什么\n",
    "print(sa.add(7))\n",
    "print(sa)\n",
    "# clear: 清空"
   ]
  },
  {
   "cell_type": "code",
   "execution_count": 16,
   "metadata": {},
   "outputs": [
    {
     "name": "stdout",
     "output_type": "stream",
     "text": [
      "{1, 2, 3, 4, 5, 6, 7}\n",
      "{1, 2, 3, 4, 6, 7}\n",
      "{1, 2, 3, 6, 7}\n",
      "{1, 2, 3, 6, 7}\n"
     ]
    }
   ],
   "source": [
    "# 删除操作\n",
    "# remove 和discard 的区别\n",
    "sa = {1,2,3,4,5,6,7}\n",
    "print(sa)\n",
    "sa.remove(5)\n",
    "print(sa)\n",
    "# remove删除的值如果不在集合中，会报错\n",
    "# sa.remove(5)\n",
    "\n",
    "sa.discard(4)\n",
    "print(sa)\n",
    "sa.discard(4)\n",
    "# discard 删除的值不在集合中也不会报错\n",
    "print(sa)"
   ]
  },
  {
   "cell_type": "code",
   "execution_count": 24,
   "metadata": {},
   "outputs": [
    {
     "name": "stdout",
     "output_type": "stream",
     "text": [
      "{1, 2, 3, 4, 5, 6, 7}\n",
      "{2, 3, 4, 5, 6, 7}\n"
     ]
    }
   ],
   "source": [
    "# pop 弹出集合的一个内容\n",
    "# 删除的内容是随机的\n",
    "# 删除的内容没有规律，是随机的\n",
    "sa = {1,2,3,4,5,6,7}\n",
    "print(sa)\n",
    "sa.pop()\n",
    "print(sa)"
   ]
  },
  {
   "cell_type": "code",
   "execution_count": 30,
   "metadata": {},
   "outputs": [
    {
     "name": "stdout",
     "output_type": "stream",
     "text": [
      "{4, 5, 6}\n",
      "{1, 2, 3}\n",
      "{1, 2, 3}\n",
      "{1, 2, 3, 4, 5, 6, 7, 8, 9}\n"
     ]
    }
   ],
   "source": [
    "# 集合的数学操作\n",
    "# intersection: 交集\n",
    "sa = {1,2,3,4,5,6}\n",
    "sb = {4,5,6,7,8,9}\n",
    "# sa 和 sb 的交集\n",
    "print(sa.intersection(sb))\n",
    "\n",
    "# difference: 差集\n",
    "print(sa.difference(sb))\n",
    "# 差集的另一种表示\n",
    "print(sa - sb)\n",
    "\n",
    "# union: 并集\n",
    "print(sa.union(sb))\n",
    "# 并集用+ 计算\n",
    "# print(sa + sb) # 集合间不能进行相加操作\n",
    "# help(set)"
   ]
  },
  {
   "cell_type": "markdown",
   "metadata": {},
   "source": [
    "# frozenset 冰冻集合/固定集合\n",
    " - 不允许修改的集合"
   ]
  },
  {
   "cell_type": "code",
   "execution_count": 32,
   "metadata": {},
   "outputs": [
    {
     "name": "stdout",
     "output_type": "stream",
     "text": [
      "{1, 2, 3, 4, 5, 6}\n",
      "frozenset({1, 2, 3, 4, 5, 6})\n"
     ]
    }
   ],
   "source": [
    "# 案例\n",
    "print(sa)\n",
    "sb = frozenset(sa)\n",
    "print(sb)"
   ]
  },
  {
   "cell_type": "code",
   "execution_count": null,
   "metadata": {},
   "outputs": [],
   "source": []
  }
 ],
 "metadata": {
  "kernelspec": {
   "display_name": "Python 3",
   "language": "python",
   "name": "python3"
  },
  "language_info": {
   "codemirror_mode": {
    "name": "ipython",
    "version": 3
   },
   "file_extension": ".py",
   "mimetype": "text/x-python",
   "name": "python",
   "nbconvert_exporter": "python",
   "pygments_lexer": "ipython3",
   "version": "3.8.8"
  }
 },
 "nbformat": 4,
 "nbformat_minor": 4
}
