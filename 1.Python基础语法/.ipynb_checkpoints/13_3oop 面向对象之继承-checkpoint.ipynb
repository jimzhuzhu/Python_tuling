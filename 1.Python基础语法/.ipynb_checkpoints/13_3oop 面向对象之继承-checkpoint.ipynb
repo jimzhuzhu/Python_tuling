{
 "cells": [
  {
   "cell_type": "markdown",
   "metadata": {},
   "source": [
    "# 面向对象的三大特征\n",
    " - 继承\n",
    " - 封装\n",
    " - 多态\n",
    " \n",
    "# 继承\n",
    " - 子类可以使用父类定义的内容或者行为等\n",
    " - 继承的实现\n",
    "     - 父类，基类，超类：被继承的类， Base Class, Super Class\n",
    "     - 子类：有继承的类\n",
    "     - 所有子类必须有一个父类\n",
    "         - 如果没有，则默认是object的子类\n",
    "         - Python的子类可以有多个父类"
   ]
  },
  {
   "cell_type": "code",
   "execution_count": null,
   "metadata": {},
   "outputs": [],
   "source": [
    "# 所有类必须有父类\n",
    "# 默认是object\n",
    "class Person():\n",
    "    pass\n",
    "class Person2(object):\n",
    "    pass"
   ]
  },
  {
   "cell_type": "code",
   "execution_count": 1,
   "metadata": {},
   "outputs": [
    {
     "name": "stdout",
     "output_type": "stream",
     "text": [
      "NoName\n",
      "0\n"
     ]
    }
   ],
   "source": [
    "class Person():\n",
    "    name = \"NoName\"\n",
    "    age = 0\n",
    "\n",
    "# 父类写在类定义的时候的括号里\n",
    "class Teacher(Person):\n",
    "    pass\n",
    "t = Teacher()\n",
    "print(t.name)\n",
    "print(t.age)"
   ]
  },
  {
   "cell_type": "code",
   "execution_count": 16,
   "metadata": {},
   "outputs": [
    {
     "name": "stdout",
     "output_type": "stream",
     "text": [
      "math teaching......\n",
      "english teaching......\n"
     ]
    }
   ],
   "source": [
    "# 一个类可以有多个父类，继承父类的变量和函数\n",
    "class Teacher(object):\n",
    "    def __init__(self, name='lala', age=25):\n",
    "        self.name = name\n",
    "        self.age = age\n",
    "    \n",
    "    def get_salary(self):\n",
    "        print('发工资啦')\n",
    "    \n",
    "    def teaching(self):\n",
    "        print('teaching......')\n",
    "        \n",
    "class MathTeacher(Teacher):\n",
    "    def teaching(self):\n",
    "        print('math teaching......')\n",
    "        \n",
    "class ChinaTeacher(Teacher):\n",
    "    def teaching(self):\n",
    "        print('chinese teaching......')\n",
    "        \n",
    "class EnglishTeacher(Teacher):\n",
    "    def teaching(self):\n",
    "        print('english teaching......')\n",
    "        \n",
    "class PythonTeacher(Teacher):\n",
    "    def teaching(self):\n",
    "        print('python teaching......')\n",
    "        \n",
    "zhuxianfu = MathTeacher()\n",
    "zhuxianfu.teaching()\n",
    "liuyuxia = EnglishTeacher()\n",
    "liuyuxia.teaching()"
   ]
  },
  {
   "cell_type": "markdown",
   "metadata": {},
   "source": [
    "### 继承的语法\n",
    "### 在python中，任何类都有一个共同的父类叫object\n",
    "### 如何调用父类中的属性和功能"
   ]
  },
  {
   "cell_type": "code",
   "execution_count": 17,
   "metadata": {},
   "outputs": [
    {
     "name": "stdout",
     "output_type": "stream",
     "text": [
      "liu liu\n",
      "溜溜\n",
      "Sleeping ... ...\n",
      "9527\n",
      "attention\n"
     ]
    }
   ],
   "source": [
    "class Person():\n",
    "    name = \"NoName\"\n",
    "    age = 18\n",
    "    __score = 0 # 双下划线表示是私有，只能自己用，子类也不能用 \n",
    "    _petname = \"sec\" #单下划线表示是保护的，子类可以用，但不能公用\n",
    "    def sleep(self):\n",
    "        print(\"Sleeping ... ...\")\n",
    "        \n",
    "#父类写在括号内\n",
    "class Teacher(Person):\n",
    "    teacher_id = \"9527\"\n",
    "    def make_test(self):\n",
    "        print(\"attention\")\n",
    "    \n",
    "t = Teacher()\n",
    "print(t.name) # 优先使用子类属性\n",
    "# 受保护不能外部访问，为啥这里可以\n",
    "print(t._petname)\n",
    "\n",
    "# 私有访问问题\n",
    "# 公开访问私有变量，报错\n",
    "#print(t.__score)\n",
    "\n",
    "t.sleep()\n",
    "print(t.teacher_id)\n",
    "t.make_test()\n"
   ]
  },
  {
   "cell_type": "markdown",
   "metadata": {},
   "source": [
    "#### 子类和父类定义同一个名称变量，则优先使用子类本身"
   ]
  },
  {
   "cell_type": "code",
   "execution_count": 19,
   "metadata": {},
   "outputs": [
    {
     "name": "stdout",
     "output_type": "stream",
     "text": [
      "liu liu\n"
     ]
    }
   ],
   "source": [
    "class Person():\n",
    "    name = \"NoName\"\n",
    "    age = 18\n",
    "    __score = 0 # 考试成绩是秘密，只要自己知道\n",
    "    _petname = \"sec\" #小名，是保护的，子类可以用，但不能公用\n",
    "    def sleep(self):\n",
    "        print(\"Sleeping ... ...\")\n",
    " \n",
    "        \n",
    "#父类写在括号内\n",
    "class Teacher(Person):\n",
    "    teacher_id = \"9527\"\n",
    "    name = 'liu liu'\n",
    "    def make_test(self):\n",
    "        print(\"attention\")\n",
    "        \n",
    "t = Teacher()\n",
    "print(t.name)"
   ]
  },
  {
   "cell_type": "markdown",
   "metadata": {},
   "source": [
    "#### 子类扩充父类功能的案例\n",
    "- 人由工作的函数， 老师也由工作的函数，但老师的工作需要讲课\n",
    "- 扩充父类的功能只需要调用父类相应的函数\n",
    "- super代表得到父类"
   ]
  },
  {
   "cell_type": "code",
   "execution_count": 20,
   "metadata": {},
   "outputs": [
    {
     "name": "stdout",
     "output_type": "stream",
     "text": [
      "make some money\n",
      "attention\n"
     ]
    }
   ],
   "source": [
    "\n",
    "class Person():\n",
    "    name = \"NoName\"\n",
    "    age = 18\n",
    "    __score = 0 # 考试成绩是秘密，只要自己知道\n",
    "    _petname = \"sec\" #小名，是保护的，子类可以用，但不能公用\n",
    "    def sleep(self):\n",
    "        print(\"Sleeping ... ...\")\n",
    "    def work(self):\n",
    "        print(\"make some money\")\n",
    "        \n",
    "#父类写在括号内\n",
    "class Teacher(Person):\n",
    "    teacher_id = \"9527\"\n",
    "    name = \"liu liu\"\n",
    "    def make_test(self):\n",
    "        print(\"attention\")\n",
    "        \n",
    "    def work(self):\n",
    "        # 扩充父类的功能只需要调用父类相应的函数\n",
    "        #Person.work(self)\n",
    "        # 扩充父类的另一种方法\n",
    "        # super代表得到父类\n",
    "        super().work()\n",
    "        self.make_test()\n",
    "        \n",
    "t = Teacher()\n",
    "t.work()"
   ]
  },
  {
   "cell_type": "markdown",
   "metadata": {},
   "source": [
    "### issubclass检测是否是子类\n",
    " - 可以用来检测两个类的父子关系"
   ]
  },
  {
   "cell_type": "code",
   "execution_count": null,
   "metadata": {},
   "outputs": [],
   "source": [
    "# 检查刚才定义的Bird, BirdMan, Person, Teacher,检测父子关系\n",
    "help(issubclass)"
   ]
  },
  {
   "cell_type": "markdown",
   "metadata": {},
   "source": [
    "## 构造函数\n",
    " - 在函数实例化的时候调用的一个函数\n",
    " - 自动调用\n",
    " - 要求，第一个参数必须有，一般推荐self\n",
    " - 构造函数的调用时间： 一般认为在实例化的时候第一个被调用\n",
    " - 一般不手动调用，实例化的时候自动调用，参数需写入类名称后面的括号中\n",
    "### 构造函数的继承\n",
    " - 构造函数默认继承"
   ]
  },
  {
   "cell_type": "code",
   "execution_count": 13,
   "metadata": {},
   "outputs": [
    {
     "name": "stdout",
     "output_type": "stream",
     "text": [
      "zhu xiao fu 24\n"
     ]
    }
   ],
   "source": [
    "# 构造函数\n",
    "class Person():\n",
    "    def __init__(self, name, age):\n",
    "        print(name, age)\n",
    "p = Person(\"zhu xiao fu\", 24)"
   ]
  },
  {
   "cell_type": "code",
   "execution_count": 15,
   "metadata": {},
   "outputs": [
    {
     "name": "stdout",
     "output_type": "stream",
     "text": [
      "Person = (朱献福, 24)\n"
     ]
    }
   ],
   "source": [
    "# 案例\n",
    "class Person():\n",
    "    def __init__(self, name, age):\n",
    "        print(\"Person = ({}, {})\".format(name, age))\n",
    "class Teacher(Person):\n",
    "    pass\n",
    "t = Teacher(\"朱献福\", 24)\n",
    "# 构造函数默认被继承\n",
    "# t = Teacher() ，需要有父类的函数中的参数"
   ]
  },
  {
   "cell_type": "code",
   "execution_count": 15,
   "metadata": {},
   "outputs": [
    {
     "name": "stdout",
     "output_type": "stream",
     "text": [
      "I am init in dog\n"
     ]
    }
   ],
   "source": [
    "# 构造函数的概念\n",
    "\n",
    "class Dog():\n",
    "    # __init__就是构造函数\n",
    "    # 每次实例化的时候，第一个被自动的调用\n",
    "    # 因为主要工作是进行初始化，所以得名\n",
    "    def __init__(self):\n",
    "        print(\"I am init in dog\")\n",
    "\n",
    "# 实例话的时候，括号内的参数需要跟构造函数括号里参数匹配\n",
    "kaka = Dog()"
   ]
  },
  {
   "cell_type": "markdown",
   "metadata": {},
   "source": [
    "### 继承中的构造函数 - 1"
   ]
  },
  {
   "cell_type": "code",
   "execution_count": 22,
   "metadata": {},
   "outputs": [
    {
     "name": "stdout",
     "output_type": "stream",
     "text": [
      "I am init in dog huan huan\n"
     ]
    }
   ],
   "source": [
    "class Animal():\n",
    "    pass\n",
    "\n",
    "class PaxingAni(Animal):\n",
    "    pass\n",
    "\n",
    "class Dog(PaxingAni):\n",
    "    # __init__就是构造函数\n",
    "    # 每次实例化的时候，第一个被自动的调用\n",
    "    # 因为主要工作是进行初始化，所以得名\n",
    "    def __init__(self, name):\n",
    "        print(\"I am init in dog\", name)\n",
    "# 实例话的时候，自动调用了Dog的构造函数\n",
    "kaka = Dog('huan huan')"
   ]
  },
  {
   "cell_type": "markdown",
   "metadata": {},
   "source": [
    "### 继承中的构造函数 - 2"
   ]
  },
  {
   "cell_type": "code",
   "execution_count": 21,
   "metadata": {},
   "outputs": [
    {
     "name": "stdout",
     "output_type": "stream",
     "text": [
      "I am init in dog\n",
      " Paxing Dongwu\n"
     ]
    }
   ],
   "source": [
    "class Animal():\n",
    "    def __init__(self):\n",
    "        print(\"Animal\")\n",
    "\n",
    "class PaxingAni(Animal):\n",
    "    def __init__(self):\n",
    "        print(\" Paxing Dongwu\")\n",
    "\n",
    "class Dog(PaxingAni):\n",
    "    # __init__就是构造函数\n",
    "    # 每次实例化的时候，第一个被自动的调用\n",
    "    # 因为主要工作是进行初始化，所以得名\n",
    "    def __init__(self):\n",
    "        print(\"I am init in dog\")\n",
    "        \n",
    "# 实例话的时候，自动调用了Dog的构造函数\n",
    "# 因为找到了构造函数，则不在查找父类的构造函数\n",
    "kaka = Dog()\n",
    "\n",
    "# 猫没有写构造函数\n",
    "class Cat(PaxingAni):\n",
    "    pass\n",
    "\n",
    "# 此时应该自动调用构造函数，因为Cat没有构造函数，所以查找父类构造函数\n",
    "# 在PaxingAni中查找到了构造函数，则停止向上查找\n",
    "c = Cat()"
   ]
  },
  {
   "cell_type": "markdown",
   "metadata": {},
   "source": [
    "### 继承中的构造函数 - 3"
   ]
  },
  {
   "cell_type": "code",
   "execution_count": 24,
   "metadata": {},
   "outputs": [
    {
     "name": "stdout",
     "output_type": "stream",
     "text": [
      "I am init in dog\n"
     ]
    },
    {
     "ename": "TypeError",
     "evalue": "__init__() missing 1 required positional argument: 'name'",
     "output_type": "error",
     "traceback": [
      "\u001b[0;31m---------------------------------------------------------------------------\u001b[0m",
      "\u001b[0;31mTypeError\u001b[0m                                 Traceback (most recent call last)",
      "\u001b[0;32m<ipython-input-24-7f3e596ea297>\u001b[0m in \u001b[0;36m<module>\u001b[0;34m\u001b[0m\n\u001b[1;32m     22\u001b[0m \u001b[0;31m# 此时，由于Cat没有构造函数，则向上查找\u001b[0m\u001b[0;34m\u001b[0m\u001b[0;34m\u001b[0m\u001b[0;34m\u001b[0m\u001b[0m\n\u001b[1;32m     23\u001b[0m \u001b[0;31m#  因为PaxingAni的构造函数需要两个参数，实例化的时候给了一个，报错\u001b[0m\u001b[0;34m\u001b[0m\u001b[0;34m\u001b[0m\u001b[0;34m\u001b[0m\u001b[0m\n\u001b[0;32m---> 24\u001b[0;31m \u001b[0mc\u001b[0m \u001b[0;34m=\u001b[0m \u001b[0mCat\u001b[0m\u001b[0;34m(\u001b[0m\u001b[0;34m)\u001b[0m\u001b[0;34m\u001b[0m\u001b[0;34m\u001b[0m\u001b[0m\n\u001b[0m",
      "\u001b[0;31mTypeError\u001b[0m: __init__() missing 1 required positional argument: 'name'"
     ]
    }
   ],
   "source": [
    "\n",
    "class Animal():\n",
    "    def __init__(self):\n",
    "        print(\"Animal\")\n",
    "\n",
    "class PaxingAni(Animal):\n",
    "    def __init__(self, name):\n",
    "        print(\" Paxing Dongwu {0}\".format(name))\n",
    "\n",
    "class Dog(PaxingAni):\n",
    "    # __init__就是构造函数\n",
    "    # 每次实例化的时候，第一个被自动的调用\n",
    "    # 因为主要工作是进行初始化，所以得名\n",
    "    def __init__(self):\n",
    "        print(\"I am init in dog\")\n",
    "        \n",
    "# 实例化Dog时，查找到Dog的构造函数，参数匹配，不报错      \n",
    "d = Dog()\n",
    "\n",
    "class Cat(PaxingAni):\n",
    "    pass\n",
    "\n",
    "# 此时，由于Cat没有构造函数，则向上查找\n",
    "#  因为PaxingAni的构造函数需要两个参数，实例化的时候给了一个，报错\n",
    "c = Cat()\n",
    "# c = Cat('miaomiao') 加入参数就不会报错"
   ]
  },
  {
   "cell_type": "markdown",
   "metadata": {},
   "source": [
    "### 继承中的构造函数 - 4\n",
    "- 在子类添加父类的构造函数"
   ]
  },
  {
   "cell_type": "code",
   "execution_count": 31,
   "metadata": {},
   "outputs": [
    {
     "name": "stdout",
     "output_type": "stream",
     "text": [
      "Animel miao miao\n",
      "我是一直猫\n",
      "Animel huan huan\n"
     ]
    }
   ],
   "source": [
    "class Animal():\n",
    "    def __init__(self, name):\n",
    "        print(\"Animal\", name)\n",
    "\n",
    "class PaxingAni(Animal):\n",
    "    pass\n",
    "\n",
    "class Dog(PaxingAni):\n",
    "    pass\n",
    "\n",
    "class Cat(PaxingAni):\n",
    "    def __init__(self):\n",
    "        Animal.__init__(self, 'miao miao')\n",
    "        print('我是一直猫')\n",
    "\n",
    "# Dog 和 Cat没有构造函数，一直往上寻找到Animal\n",
    "c = Cat()\n",
    "\n",
    "d = Dog('huan huan')"
   ]
  },
  {
   "cell_type": "code",
   "execution_count": 27,
   "metadata": {},
   "outputs": [
    {
     "name": "stdout",
     "output_type": "stream",
     "text": [
      "<class 'type'>\n",
      "Help on class super in module builtins:\n",
      "\n",
      "class super(object)\n",
      " |  super() -> same as super(__class__, <first argument>)\n",
      " |  super(type) -> unbound super object\n",
      " |  super(type, obj) -> bound super object; requires isinstance(obj, type)\n",
      " |  super(type, type2) -> bound super object; requires issubclass(type2, type)\n",
      " |  Typical use to call a cooperative superclass method:\n",
      " |  class C(B):\n",
      " |      def meth(self, arg):\n",
      " |          super().meth(arg)\n",
      " |  This works for class methods too:\n",
      " |  class C(B):\n",
      " |      @classmethod\n",
      " |      def cmeth(cls, arg):\n",
      " |          super().cmeth(arg)\n",
      " |  \n",
      " |  Methods defined here:\n",
      " |  \n",
      " |  __get__(self, instance, owner, /)\n",
      " |      Return an attribute of instance, which is of type owner.\n",
      " |  \n",
      " |  __getattribute__(self, name, /)\n",
      " |      Return getattr(self, name).\n",
      " |  \n",
      " |  __init__(self, /, *args, **kwargs)\n",
      " |      Initialize self.  See help(type(self)) for accurate signature.\n",
      " |  \n",
      " |  __new__(*args, **kwargs) from builtins.type\n",
      " |      Create and return a new object.  See help(type) for accurate signature.\n",
      " |  \n",
      " |  __repr__(self, /)\n",
      " |      Return repr(self).\n",
      " |  \n",
      " |  ----------------------------------------------------------------------\n",
      " |  Data descriptors defined here:\n",
      " |  \n",
      " |  __self__\n",
      " |      the instance invoking super(); may be None\n",
      " |  \n",
      " |  __self_class__\n",
      " |      the type of the instance invoking super(); may be None\n",
      " |  \n",
      " |  __thisclass__\n",
      " |      the class invoking super()\n",
      "\n"
     ]
    }
   ],
   "source": [
    "print(type(super))\n",
    "help(super)"
   ]
  }
 ],
 "metadata": {
  "kernelspec": {
   "display_name": "Python 3",
   "language": "python",
   "name": "python3"
  },
  "language_info": {
   "codemirror_mode": {
    "name": "ipython",
    "version": 3
   },
   "file_extension": ".py",
   "mimetype": "text/x-python",
   "name": "python",
   "nbconvert_exporter": "python",
   "pygments_lexer": "ipython3",
   "version": "3.8.8"
  }
 },
 "nbformat": 4,
 "nbformat_minor": 2
}
