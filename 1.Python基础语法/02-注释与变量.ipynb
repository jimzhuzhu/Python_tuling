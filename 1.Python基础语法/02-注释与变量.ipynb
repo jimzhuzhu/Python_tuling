{
 "cells": [
  {
   "cell_type": "markdown",
   "metadata": {},
   "source": [
    "# 环境安装\n",
    "- 推荐Virtualbox + Ubuntu\n",
    "- 套件推荐 Anaconda3+pycharm\n",
    "- 如果机器内存大于4G，推荐虚拟机下启动系统\n",
    "- 小于4G的话，推荐用Windows下的 Anaconda+pycharm\n",
    "\n"
   ]
  },
  {
   "cell_type": "code",
   "execution_count": 7,
   "metadata": {},
   "outputs": [
    {
     "name": "stdout",
     "output_type": "stream",
     "text": [
      "Hello world\n",
      "Help on built-in function print in module builtins:\n",
      "\n",
      "print(...)\n",
      "    print(value, ..., sep=' ', end='\\n', file=sys.stdout, flush=False)\n",
      "    \n",
      "    Prints the values to a stream, or to sys.stdout by default.\n",
      "    Optional keyword arguments:\n",
      "    file:  a file-like object (stream); defaults to the current sys.stdout.\n",
      "    sep:   string inserted between values, default a space.\n",
      "    end:   string appended after the last value, default a newline.\n",
      "    flush: whether to forcibly flush the stream.\n",
      "\n"
     ]
    }
   ],
   "source": [
    "# 代码的作用\n",
    "# 1. 给人看\n",
    "# 2. 给机器看\n",
    "# 注释是纯给人看的内容\n",
    "print(\"Hello world\") \n",
    "#打印hellow world出来\n",
    "'''\n",
    "这里边任何内容机器都不管了\n",
    "我可以写好多\n",
    "好多\n",
    "'''\n",
    "# 自带电池\n",
    "help(print)"
   ]
  },
  {
   "cell_type": "code",
   "execution_count": null,
   "metadata": {},
   "outputs": [],
   "source": []
  },
  {
   "cell_type": "markdown",
   "metadata": {},
   "source": [
    "# 注释\n",
    "- 机器不去执行注释内容\n",
    "- 注释一般用自然语言书写\n",
    "- 注释的写法：\n",
    "    - 行注释： 以井号开头，建议单独行，也可以在某行代码后边\n",
    "    - 块注释： 好几行代码或者内容，以三个连续单引号或双引号开始和结束，中间任何内容机器都忽略\n",
    "- 选中按快捷键 coomand /"
   ]
  },
  {
   "cell_type": "markdown",
   "metadata": {},
   "source": [
    "# 变量\n",
    "- 什么是变量，盛放数据的一个内存容器\n",
    "- 变量就是可以重复使用的一个量，或者叫一个代号\n",
    "- 程序=数据结构+算法\n",
    "- 变量名+值+类型\n",
    "- 先定义变量再使用"
   ]
  },
  {
   "cell_type": "markdown",
   "metadata": {},
   "source": [
    "##　变量声明\n",
    "- var_name = var_value\n",
    "- var1 = var2 = var3 = var_value\n",
    "- var1, var2, var3 = v1, v2, v3"
   ]
  },
  {
   "cell_type": "code",
   "execution_count": 9,
   "metadata": {},
   "outputs": [
    {
     "name": "stdout",
     "output_type": "stream",
     "text": [
      "18\n",
      "18\n",
      "18\n",
      "18\n",
      "18\n",
      "12\n",
      "21\n",
      "45\n",
      "(1, 2, 3)\n"
     ]
    }
   ],
   "source": [
    "# 定义变量ａｇｅ，把１８放入变量ａｇｅ中\n",
    "age = 18\n",
    "print(age)\n",
    "\n",
    "# 给age1， age2， age3 放入同样一个内容或值\n",
    "age1 = age2 = age3 = 18\n",
    "print(age1)\n",
    "print(age2)\n",
    "print(age3)\n",
    "\n",
    "# 一行内给多个变量赋值,左右变量和值必须一致\n",
    "age4, age5, age6 = 12, 21, 45\n",
    "print(age4)\n",
    "print(age5)\n",
    "print(age6)\n",
    "\n",
    "# 左边一个变量右边多个数值，则变成元组\n",
    "a = 1,2,3\n",
    "print(a)"
   ]
  },
  {
   "cell_type": "code",
   "execution_count": 11,
   "metadata": {},
   "outputs": [
    {
     "name": "stdout",
     "output_type": "stream",
     "text": [
      "1 2\n",
      "2 1\n"
     ]
    }
   ],
   "source": [
    "# 变量的交换方法\n",
    "a = 1\n",
    "b = 2\n",
    "print(a, b)\n",
    "\n",
    "a, b = b, a\n",
    "print(a, b)"
   ]
  },
  {
   "cell_type": "markdown",
   "metadata": {},
   "source": [
    "# 变量的命名\n",
    "- 语法+约定俗成\n",
    "- 大小写敏感，a, A\n",
    "- 建议：大小写英文字母+数字+下划线，不推荐除了前三种内容之外的符号\n",
    "- 语法：数字不可以打头\n",
    "    - 4man, 5for 是不可以的\n",
    "    - man4, for5是可以的\n",
    "- 一般在python中，以下划线开头的内容具有特殊含义，不建议使用\n",
    "    - 比如 _age, _name，理论可以，但强烈不推荐，包括但不限于一个下划线开头和两个连续下划线开头\n",
    "\n",
    "- 推荐：\n",
    "    - 大驼峰命名，名称以单词自动连接，且每个单词首字母大写\n",
    "        - 给类命名使用此法\n",
    "        - MyFirstLove, IntOne\n",
    "    - 小驼峰，类似大驼峰，但第一个字母小写\n",
    "        - 一般给普通变量或者函数命名\n",
    "        - myFirstLove, intOne\n",
    "    - posix写法\n",
    "        - 多个单词用下划线链接\n",
    "        - 单词全部小写\n",
    "        - my_first_love, int_one\n",
    "- 保留字和关键字\n",
    "    - 变量命名必须避开，不能跟关键字和保留字重复\n",
    "    - class， def， break，for"
   ]
  },
  {
   "cell_type": "code",
   "execution_count": 14,
   "metadata": {},
   "outputs": [
    {
     "name": "stdout",
     "output_type": "stream",
     "text": [
      "1 2\n",
      "朱献福\n"
     ]
    }
   ],
   "source": [
    "# 变量大小写敏感\n",
    "A = 1\n",
    "a = 2\n",
    "print(A, a)\n",
    "\n",
    "# 不推荐中文或拼音命名\n",
    "老师 = '朱献福'\n",
    "print(老师)"
   ]
  },
  {
   "cell_type": "code",
   "execution_count": 8,
   "metadata": {},
   "outputs": [
    {
     "name": "stdout",
     "output_type": "stream",
     "text": [
      "['False', 'None', 'True', 'and', 'as', 'assert', 'async', 'await', 'break', 'class', 'continue', 'def', 'del', 'elif', 'else', 'except', 'finally', 'for', 'from', 'global', 'if', 'import', 'in', 'is', 'lambda', 'nonlocal', 'not', 'or', 'pass', 'raise', 'return', 'try', 'while', 'with', 'yield']\n"
     ]
    }
   ],
   "source": [
    "# 查看关键字的方法\n",
    "import keyword\n",
    "#引入关键字模块\n",
    "# 打印出系统全部关键字\n",
    "print(keyword.kwlist)\n"
   ]
  },
  {
   "cell_type": "markdown",
   "metadata": {},
   "source": [
    "## 变量类型\n",
    "- 严格意义上讲，python只有一个类型\n",
    "- 标准数据一共六种 数据结构\n",
    "    - 数字类型 Number\n",
    "    - 字符串类型 str\n",
    "    - 列表 list\n",
    "    - 元组 tuple\n",
    "    - 字典 Dictionary\n",
    "    - 集合 set\n",
    "    - None类型\n",
    "        - 表示上面都没有\n",
    "        - 如果函数没有返回值，默认返回这个\n",
    "        - 占位\n",
    "        - 接触变量绑定"
   ]
  },
  {
   "cell_type": "code",
   "execution_count": 1,
   "metadata": {},
   "outputs": [
    {
     "name": "stdout",
     "output_type": "stream",
     "text": [
      "None\n"
     ]
    }
   ],
   "source": [
    "# 接触变量绑定\n",
    "a = 100\n",
    "a = None\n",
    "print(a)"
   ]
  },
  {
   "cell_type": "code",
   "execution_count": 4,
   "metadata": {},
   "outputs": [
    {
     "data": {
      "text/plain": [
       "str"
      ]
     },
     "execution_count": 4,
     "metadata": {},
     "output_type": "execute_result"
    }
   ],
   "source": [
    "# type查看类型\n",
    "a = 100\n",
    "b = 'haha'\n",
    "type(a)"
   ]
  },
  {
   "cell_type": "code",
   "execution_count": 5,
   "metadata": {},
   "outputs": [
    {
     "data": {
      "text/plain": [
       "True"
      ]
     },
     "execution_count": 5,
     "metadata": {},
     "output_type": "execute_result"
    }
   ],
   "source": [
    "# 判断类型正确\n",
    "isinstance(a, int)"
   ]
  },
  {
   "cell_type": "markdown",
   "metadata": {},
   "source": [
    "## Number数字类型\n",
    "- 数字类型没有大小限制\n",
    "### 整数 int\n",
    "- 没有小数部分，表示个数的数字\n",
    "- 自然数，0，负自然数\n",
    "- 整数分进制\n",
    "    - 二进制\n",
    "        - 计算机常用\n",
    "        - 是计算机唯一能直接理解的数字\n",
    "        - 表示为0b开头的0,1代码\n",
    "        - 例如 0b01101, 0b10001\n",
    "    - 八进制\n",
    "        - 不常用\n",
    "        - 以0o开头的包含0-7的数字\n",
    "    - 十六进制\n",
    "        - 缝16进1\n",
    "        - 其实是每四位二进制表示一位十六进制数\n",
    "        - 包含0-9， a-f\n",
    "        - 数字上以0x开头表示\n",
    "    - 十进制\n",
    "        - 18， 89， 178\n",
    " "
   ]
  },
  {
   "cell_type": "code",
   "execution_count": 6,
   "metadata": {},
   "outputs": [
    {
     "name": "stdout",
     "output_type": "stream",
     "text": [
      "18\n",
      "18\n",
      "66\n",
      "255\n"
     ]
    }
   ],
   "source": [
    "age = 18\n",
    "print(age)\n",
    "\n",
    "age = 0b10010\n",
    "print(age)\n",
    "\n",
    "age = 0o102\n",
    "print(age)\n",
    "\n",
    "age = 0xff #十六进制ff表示二进制的1111 1111\n",
    "print(age)\n"
   ]
  },
  {
   "cell_type": "code",
   "execution_count": 10,
   "metadata": {},
   "outputs": [
    {
     "name": "stdout",
     "output_type": "stream",
     "text": [
      "4 64\n",
      "0b1100100\n",
      "0o144\n",
      "0x64\n"
     ]
    }
   ],
   "source": [
    "# 进制转换\n",
    "# int10进制，bin二进制，oct八进制，hex16进制转换\n",
    "a = 100\n",
    "b = 0b100\n",
    "c = 0o100\n",
    "d = 0x100\n",
    "print(int(b), int(c))\n",
    "print(bin(a))\n",
    "print(oct(a))\n",
    "print(hex(a))"
   ]
  },
  {
   "cell_type": "markdown",
   "metadata": {},
   "source": [
    "### 浮点数\n",
    "- 小数\n",
    "- 计算机里边表示浮点数可以有条件省略\n",
    "- 3.1415\n",
    "- 3.\n",
    "- 0.5\n",
    "- .5\n",
    "- 科学计数法\n",
    "    - 定义跟数学定义\n",
    "    - 写法是用e/E后面跟整数表示10的指数\n",
    "    - 176.23 == 1.7634e2\n",
    "    - 0.876 == 8.76e-1"
   ]
  },
  {
   "cell_type": "code",
   "execution_count": 24,
   "metadata": {},
   "outputs": [
    {
     "name": "stdout",
     "output_type": "stream",
     "text": [
      "184\n",
      "184.0\n",
      "0.2\n"
     ]
    }
   ],
   "source": [
    "# 科学计数法\n",
    "height = 184\n",
    "print(184)\n",
    "\n",
    "height = 1.84e2\n",
    "print(height)\n",
    "\n",
    "#浮点数\n",
    "a = .2\n",
    "print(a)"
   ]
  },
  {
   "cell_type": "code",
   "execution_count": 11,
   "metadata": {},
   "outputs": [
    {
     "name": "stdout",
     "output_type": "stream",
     "text": [
      "30000.0\n"
     ]
    }
   ],
   "source": [
    "a = 3e4\n",
    "print(a)"
   ]
  },
  {
   "cell_type": "markdown",
   "metadata": {},
   "source": [
    "### 复数complex\n",
    "- 定义同数学定义一致\n",
    "- 一个由实部和虚部构成的数字\n",
    "- 虚部用j/J表示\n",
    "- 5+3j\n",
    "- 3j\n",
    "- （3j）\n"
   ]
  },
  {
   "cell_type": "code",
   "execution_count": 15,
   "metadata": {},
   "outputs": [
    {
     "name": "stdout",
     "output_type": "stream",
     "text": [
      "(3+5j)\n",
      "(3+20j)\n"
     ]
    },
    {
     "data": {
      "text/plain": [
       "complex"
      ]
     },
     "execution_count": 15,
     "metadata": {},
     "output_type": "execute_result"
    }
   ],
   "source": [
    "a = 3 + 5j\n",
    "b = 15j\n",
    "print(a)\n",
    "print(a+b)\n",
    "type(a)"
   ]
  },
  {
   "cell_type": "markdown",
   "metadata": {},
   "source": [
    "### 布尔值 bool\n",
    "- 表示真假的值\n",
    "- 只有两个值， True/False 1/0\n",
    "- 布尔值可以跟数字直接操作\n",
    "    - 布尔值如果当数字使用，True=1,False=0\n",
    "    - 如果数字用来当作布尔值使用，0-False,其余当作True"
   ]
  },
  {
   "cell_type": "code",
   "execution_count": 18,
   "metadata": {},
   "outputs": [
    {
     "name": "stdout",
     "output_type": "stream",
     "text": [
      "True\n",
      "19\n",
      "0\n"
     ]
    }
   ],
   "source": [
    "#布尔值操作\n",
    "a = True\n",
    "print(a)\n",
    "age = 18 + a\n",
    "print(age)\n",
    "b = 10 * False\n",
    "print(b)"
   ]
  },
  {
   "cell_type": "code",
   "execution_count": null,
   "metadata": {},
   "outputs": [],
   "source": [
    "# 布尔值当作数字使用\n",
    "\n",
    "age = 18 + True\n",
    "print(age)\n",
    "\n",
    "age = 18 + False\n",
    "print(age)\n",
    "\n",
    "# 判断语句\n",
    "a = -1\n",
    "if a:\n",
    "    print(\"负数是True\")\n",
    "else:\n",
    "    print(\"负数是False\")"
   ]
  },
  {
   "cell_type": "code",
   "execution_count": 19,
   "metadata": {},
   "outputs": [
    {
     "name": "stdout",
     "output_type": "stream",
     "text": [
      "True\n",
      "False\n"
     ]
    }
   ],
   "source": [
    "a = bool(0.1)\n",
    "b = bool(0)\n",
    "print(a)\n",
    "print(b)"
   ]
  },
  {
   "cell_type": "code",
   "execution_count": null,
   "metadata": {},
   "outputs": [],
   "source": [
    "# 数字转换 bool->int->float->complex\n",
    "# 从低度自动往高度"
   ]
  },
  {
   "cell_type": "code",
   "execution_count": 23,
   "metadata": {},
   "outputs": [
    {
     "name": "stdout",
     "output_type": "stream",
     "text": [
      "100\n",
      "9\n",
      "10.0\n",
      "False\n"
     ]
    }
   ],
   "source": [
    "# str\n",
    "# int\n",
    "# float\n",
    "# bool\n",
    "print(str('100'))\n",
    "print(int(9.9))\n",
    "print(float(10))\n",
    "print(bool(0))"
   ]
  }
 ],
 "metadata": {
  "kernelspec": {
   "display_name": "Python 3",
   "language": "python",
   "name": "python3"
  },
  "language_info": {
   "codemirror_mode": {
    "name": "ipython",
    "version": 3
   },
   "file_extension": ".py",
   "mimetype": "text/x-python",
   "name": "python",
   "nbconvert_exporter": "python",
   "pygments_lexer": "ipython3",
   "version": "3.8.8"
  }
 },
 "nbformat": 4,
 "nbformat_minor": 2
}
