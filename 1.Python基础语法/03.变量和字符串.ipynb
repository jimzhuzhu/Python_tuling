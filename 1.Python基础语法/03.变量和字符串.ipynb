{
 "cells": [
  {
   "cell_type": "markdown",
   "metadata": {},
   "source": [
    "# 主要内容\n",
    " - 坚持写Blog\n",
    " - 学会使用Jupyter notebook的用法\n",
    " - 变量\n",
    " - 跟vi/vm的编辑模式很像"
   ]
  },
  {
   "cell_type": "code",
   "execution_count": 2,
   "metadata": {},
   "outputs": [
    {
     "name": "stdout",
     "output_type": "stream",
     "text": [
      "l love liuyuxia\n"
     ]
    }
   ],
   "source": [
    "print(\"l love liuyuxia\")"
   ]
  },
  {
   "cell_type": "code",
   "execution_count": 10,
   "metadata": {
    "scrolled": true
   },
   "outputs": [
    {
     "name": "stdout",
     "output_type": "stream",
     "text": [
      "我爱刘雨霞\n",
      "我爱儿子溜溜\n",
      "l love liuyuxia 我爱儿子溜溜 我也爱自己\n"
     ]
    }
   ],
   "source": [
    "# 声明的三种格式\n",
    "# 格式1\n",
    "s1 = \"我爱刘雨霞\"\n",
    "print(s1)\n",
    "\n",
    "#格式2\n",
    "s1 = s2 = \"我爱儿子溜溜\"\n",
    "print(s1)\n",
    "\n",
    "#格式3\n",
    "s1, s2, s3 = \"l love liuyuxia\", \"我爱儿子溜溜\", \"我也爱自己\"\n",
    "print(s1,s2,s3)"
   ]
  },
  {
   "cell_type": "markdown",
   "metadata": {},
   "source": [
    "# 变量类型\n",
    " - 严格意义上讲，python只有一个类型\n",
    " - 标准数据类型六种\n",
    "    - 数字 Number\n",
    "    - 字符串类型 str\n",
    "    - 列表 list\n",
    "    - 元组 tumple\n",
    "    - 字典 dict\n",
    "    - 集合 set"
   ]
  },
  {
   "cell_type": "markdown",
   "metadata": {},
   "source": [
    "# 数字类型 Number\n",
    " - python中的数字没有大小限制\n",
    "# 常见数字分类\n",
    " - 整数\n",
    "    - 没有小数部分\n",
    "    - 包含正数，负数，0\n",
    "    - 二进制\n",
    "       - 只有0，1\n",
    "       - 以0b开头的01串\n",
    "       - 例如：\n",
    "          - 0b110\n",
    "          - 0b11110\n",
    "    - 八进制\n",
    "       - 以0o开头的 0到7之间的数字串\n",
    "       - 例如：\n",
    "          - 0o71\n",
    "    - 十六进制\n",
    "       - 以0x组成的由 0-9， a-f构成的串\n",
    "       \n",
    "       \n",
    " - 浮点数\n",
    " - 科学计数法\n",
    " - 复数"
   ]
  },
  {
   "cell_type": "code",
   "execution_count": 11,
   "metadata": {},
   "outputs": [
    {
     "name": "stdout",
     "output_type": "stream",
     "text": [
      "6\n",
      "14\n"
     ]
    }
   ],
   "source": [
    "# 二进制定义\n",
    "a1 = 0b110\n",
    "print(a1)\n",
    "\n",
    "a2 = 0b1110\n",
    "print(a2)"
   ]
  },
  {
   "cell_type": "code",
   "execution_count": 12,
   "metadata": {},
   "outputs": [
    {
     "name": "stdout",
     "output_type": "stream",
     "text": [
      "57\n"
     ]
    }
   ],
   "source": [
    "# 八进制的案例\n",
    "a3 = 0o71\n",
    "print(a3)"
   ]
  },
  {
   "cell_type": "code",
   "execution_count": 14,
   "metadata": {},
   "outputs": [
    {
     "name": "stdout",
     "output_type": "stream",
     "text": [
      "65535\n",
      "21490\n"
     ]
    }
   ],
   "source": [
    "# 十六进制案例\n",
    "a4 = 0xffff\n",
    "print(a4)\n",
    "\n",
    "a5 = 0x53f2\n",
    "print(a5)"
   ]
  },
  {
   "cell_type": "markdown",
   "metadata": {},
   "source": [
    "## 浮点数\n",
    " - 就是通俗演义上的小数\n",
    " - 常见的案例格式\n",
    "   - 3.14159\n",
    "   - 3.\n",
    "   - .4\n",
    " - 科学计数法\n",
    "   - 定义跟数学定义一致\n",
    "   - 写法就是e后面跟整数用来表示10的指数"
   ]
  },
  {
   "cell_type": "code",
   "execution_count": 16,
   "metadata": {},
   "outputs": [
    {
     "name": "stdout",
     "output_type": "stream",
     "text": [
      "184\n",
      "184.0\n",
      "0.2\n"
     ]
    }
   ],
   "source": [
    "# 科学计数法\n",
    "height = 184\n",
    "print(184)\n",
    "\n",
    "height = 1.84e2\n",
    "print(height)\n",
    "\n",
    "#浮点数\n",
    "a = .2\n",
    "print(a)"
   ]
  },
  {
   "cell_type": "markdown",
   "metadata": {},
   "source": [
    "# 复数 complex\n",
    " - 与数学定义一致\n",
    " - 复数的虚部用j/J表示\n",
    " - 例如：\n",
    "   - 5+4j\n",
    "   - 4j\n",
    "   - (4j)"
   ]
  },
  {
   "cell_type": "code",
   "execution_count": 17,
   "metadata": {},
   "outputs": [
    {
     "name": "stdout",
     "output_type": "stream",
     "text": [
      "4j\n"
     ]
    }
   ],
   "source": [
    "a =4j\n",
    "print(a)"
   ]
  },
  {
   "cell_type": "markdown",
   "metadata": {},
   "source": [
    "# 布尔值\n",
    " - 布尔值就是用来表示真假的值\n",
    " - 只有两个值： True/False\n",
    " - 在python中，布尔值可以当数字使用\n",
    "   - 布尔值如果当数字使用，True=1,False=0\n",
    "   - 如果数字用来当作布尔值使用，0-False,其余当作True"
   ]
  },
  {
   "cell_type": "code",
   "execution_count": 18,
   "metadata": {},
   "outputs": [
    {
     "name": "stdout",
     "output_type": "stream",
     "text": [
      "19\n",
      "18\n",
      "负数是True\n"
     ]
    }
   ],
   "source": [
    "# 布尔值当作数字使用\n",
    "\n",
    "age = 18 + True\n",
    "print(age)\n",
    "\n",
    "age = 18 + False\n",
    "print(age)\n",
    "\n",
    "# 判断语句\n",
    "a = -1\n",
    "if a:\n",
    "    print(\"负数是True\")\n",
    "else:\n",
    "    print(\"负数是False\")"
   ]
  },
  {
   "cell_type": "markdown",
   "metadata": {},
   "source": [
    "# 字符串\n",
    " - 表达文字信息的内容，比如\"我爱刘雨霞\"\n",
    " - 形式上是引号引起来的一段内容\n",
    " - 引号包括\n",
    "    - 单引号\n",
    "    - 双引号\n",
    "    - 三引号，可以用来表示多行信息\n",
    " - 单双引号含义是一致的"
   ]
  },
  {
   "cell_type": "code",
   "execution_count": 22,
   "metadata": {},
   "outputs": [
    {
     "name": "stdout",
     "output_type": "stream",
     "text": [
      "l love Liu Yu Xia\n",
      "l love liuliu\n",
      "\n",
      "床前明月光，\n",
      "疑是地上霜，\n",
      "举头望明月，\n",
      "低头思故乡。\n",
      "\n"
     ]
    }
   ],
   "source": [
    "# 字符串案例\n",
    "\n",
    "love = \"l love Liu Yu Xia\"\n",
    "print(love)\n",
    "\n",
    "love2 = 'l love liuliu'\n",
    "print(love2)\n",
    "\n",
    "# 三引号可以表示多行\n",
    "love3 = '''\n",
    "床前明月光，\n",
    "疑是地上霜，\n",
    "举头望明月，\n",
    "低头思故乡。\n",
    "'''\n",
    "print(love3)\n",
    "\n",
    "# 以下案例说明单双引号只能引号单行\n",
    "# love3 = '\n",
    "# 床前明月光，\n",
    "# 疑是地上霜，\n",
    "# 举头望明月，\n",
    "# 低头思故乡。\n",
    "#'\n",
    "# print(love3)"
   ]
  },
  {
   "cell_type": "markdown",
   "metadata": {},
   "source": [
    "# None类型\n",
    " - 表示没有，通常用来占位\n",
    " - 比如返回函数，用来表示返回一个空"
   ]
  },
  {
   "cell_type": "markdown",
   "metadata": {},
   "source": [
    "# 表达式\n",
    " - 由一个或者几个数字或者变量或者运算符合成第一行代码\n",
    " - 通常返回一个结果\n",
    " \n",
    " # 运算符\n",
    "  - 由一个以上的值经过一系列的运算得到新值得过程就叫运算\n",
    "  - 用来操作运算的符号叫运算符\n",
    "  - 运算符分类\n",
    "    - 算数运算符\n",
    "    - 比较或关系运算符\n",
    "    - 赋值运算符\n",
    "    - 逻辑运算符\n",
    "    - 位运算（二进制）\n",
    "    - 成员运算符\n",
    "    - 身份运算符"
   ]
  },
  {
   "cell_type": "code",
   "execution_count": null,
   "metadata": {},
   "outputs": [],
   "source": [
    "# 表达式案例\n",
    "a = 1 + 2"
   ]
  },
  {
   "cell_type": "markdown",
   "metadata": {},
   "source": [
    "# 算术运算符\n",
    " - 用来进行算数运算的符号\n",
    " - 通常用来表示加减乘除\n",
    " - python没有自增自减运算符"
   ]
  },
  {
   "cell_type": "code",
   "execution_count": 26,
   "metadata": {},
   "outputs": [
    {
     "name": "stdout",
     "output_type": "stream",
     "text": [
      "7\n",
      "11\n",
      "16\n",
      "4.5\n",
      "4\n",
      "1\n",
      "-3\n"
     ]
    }
   ],
   "source": [
    "# 算数运算符案例\n",
    "\n",
    "# 加减乘除跟数学意义基本一致\n",
    "\n",
    "a = 9 - 2\n",
    "print(a)\n",
    "\n",
    "b = 9 + 2\n",
    "print(b)\n",
    "\n",
    "c = 8 * 2\n",
    "print(c)\n",
    "\n",
    "# Python除法分为普通除法，地板除，取余\n",
    "\n",
    "# 正常除法\n",
    "# 此操作在python可显示小数\n",
    "d = 9 / 2\n",
    "print(d)\n",
    "\n",
    "# 地板除,取整\n",
    "e = 9 // 2\n",
    "print(e)\n",
    "\n",
    "#取余\n",
    "f = 9 % 2\n",
    "print(f)\n",
    "\n",
    "# 除以负数的结果\n",
    "# 理解这个结果参考取余的定义\n",
    "f1 = 9 % -4\n",
    "print(f1)\n",
    "\n",
    "# 两个乘号就是指数\n",
    "a = 7 ** 2\n",
    "print(a)"
   ]
  },
  {
   "cell_type": "code",
   "execution_count": null,
   "metadata": {},
   "outputs": [],
   "source": []
  }
 ],
 "metadata": {
  "kernelspec": {
   "display_name": "Python 3",
   "language": "python",
   "name": "python3"
  },
  "language_info": {
   "codemirror_mode": {
    "name": "ipython",
    "version": 3
   },
   "file_extension": ".py",
   "mimetype": "text/x-python",
   "name": "python",
   "nbconvert_exporter": "python",
   "pygments_lexer": "ipython3",
   "version": "3.7.6"
  }
 },
 "nbformat": 4,
 "nbformat_minor": 4
}
