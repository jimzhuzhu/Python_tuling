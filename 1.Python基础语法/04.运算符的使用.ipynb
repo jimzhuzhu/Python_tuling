{
 "cells": [
  {
   "cell_type": "markdown",
   "metadata": {},
   "source": [
    "# 表达式\n",
    " - 由一个或者几个数字或者变量或者运算符合成第一行代码\n",
    " - 通常返回一个结果\n",
    " \n",
    " # 运算符\n",
    "  - 由一个以上的值经过一系列的运算得到新值得过程就叫运算\n",
    "  - 用来操作运算的符号叫运算符\n",
    "  - 运算符分类\n",
    "    - 算数运算符\n",
    "    - 比较或关系运算符\n",
    "    - 赋值运算符\n",
    "    - 逻辑运算符\n",
    "    - 位运算（二进制）\n",
    "    - 成员运算符\n",
    "    - 身份运算符"
   ]
  },
  {
   "cell_type": "markdown",
   "metadata": {},
   "source": [
    "# 算术运算符\n",
    " - 用来进行算数运算的符号\n",
    " - 通常用来表示加减乘除\n",
    " - python没有自增自减运算符"
   ]
  },
  {
   "cell_type": "code",
   "execution_count": 1,
   "metadata": {},
   "outputs": [
    {
     "name": "stdout",
     "output_type": "stream",
     "text": [
      "7\n",
      "11\n",
      "16\n",
      "4.5\n",
      "4\n",
      "1\n",
      "-3\n",
      "49\n"
     ]
    }
   ],
   "source": [
    "# 算数运算符案例\n",
    "\n",
    "# 加减乘除跟数学意义基本一致\n",
    "\n",
    "a = 9 - 2\n",
    "print(a)\n",
    "\n",
    "b = 9 + 2\n",
    "print(b)\n",
    "\n",
    "c = 8 * 2\n",
    "print(c)\n",
    "\n",
    "# Python除法分为普通除法，地板除，取余\n",
    "\n",
    "# 正常除法\n",
    "# 此操作在python可显示小数\n",
    "d = 9 / 2\n",
    "print(d)\n",
    "\n",
    "# 地板除,取整\n",
    "e = 9 // 2\n",
    "print(e)\n",
    "\n",
    "#取余\n",
    "f = 9 % 2\n",
    "print(f)\n",
    "\n",
    "# 除以负数的结果\n",
    "# 理解这个结果参考取余的定义\n",
    "f1 = 9 % -4\n",
    "print(f1)\n",
    "\n",
    "# 两个乘号就是指数\n",
    "a = 7 ** 2\n",
    "print(a)"
   ]
  },
  {
   "cell_type": "markdown",
   "metadata": {},
   "source": [
    "# 比较运算符\n",
    " - 对两个内容进行比较的运算符\n",
    " - 结果一定是布尔值，即True/False"
   ]
  },
  {
   "cell_type": "code",
   "execution_count": 10,
   "metadata": {},
   "outputs": [
    {
     "name": "stdout",
     "output_type": "stream",
     "text": [
      "False\n",
      "True\n",
      "False\n",
      "False\n"
     ]
    }
   ],
   "source": [
    "# 等于 ==  比较运算符\n",
    "a = 3 == 4\n",
    "print(a)\n",
    "\n",
    "# 不等于 !=\n",
    "a = 3 != 4\n",
    "print(a)\n",
    "\n",
    "# 其他的符号是\n",
    "# >, >=, <, <=\n",
    "\n",
    "print(3 >= 8)\n",
    "\n",
    "print(\"Liu Yu Xia\" > \"zhuxianfu\")"
   ]
  },
  {
   "cell_type": "markdown",
   "metadata": {},
   "source": [
    "# 赋值运算符\n",
    " - 把一个值放到变量里面去"
   ]
  },
  {
   "cell_type": "code",
   "execution_count": 11,
   "metadata": {},
   "outputs": [
    {
     "name": "stdout",
     "output_type": "stream",
     "text": [
      "19\n"
     ]
    }
   ],
   "source": [
    "# 赋值符号 =\n",
    "a = 9\n",
    "\n",
    "# 复杂赋值\n",
    "a = b = 9\n",
    "a,b = 1,2\n",
    "\n",
    "#赋值的缩写\n",
    "c = c + 3\n",
    "print(c)\n",
    "\n",
    "# 注意下面符号仅仅是一个缩写\n",
    "c += 3  相当于 c = c + 3\n",
    "\n",
    "## 所以数学运算符都可以缩写\n",
    "# -=, +=, *=, /=, //=, %=, **=,都是缩写形式\n",
    "# python 里面没有 ++， - -"
   ]
  },
  {
   "cell_type": "markdown",
   "metadata": {},
   "source": [
    "# 逻辑运算符\n",
    " - 对布尔类型变量或者值进行运算的符号\n",
    " - and: 逻辑与\n",
    " - or : 逻辑或\n",
    " - not: 逻辑非\n",
    " - python里面的逻辑运算没有异或\n",
    " - 运算规则：\n",
    "   - and看做乘法，or看做加法,\n",
    "   - Ture看做1，False看做0,\n",
    "   - 则逻辑运算就能转换成整数数学运算\n",
    "   - 最后结果如果是0则为False,否则为True.\n",
    " - 逻辑运算的短路问题\n",
    "   - 逻辑运算式，按照运算顺序计算，一旦能够确定整个式子未来的值，则不再计算，直接返回"
   ]
  },
  {
   "cell_type": "code",
   "execution_count": 14,
   "metadata": {},
   "outputs": [
    {
     "name": "stdout",
     "output_type": "stream",
     "text": [
      "True\n",
      "False\n",
      "False\n"
     ]
    }
   ],
   "source": [
    "# 逻辑表达举例\n",
    "a = True\n",
    "b = True\n",
    "c = False\n",
    "\n",
    "aa = a and b #左边表达式可以转换成1*1\n",
    "print(aa)\n",
    "\n",
    "bb = a and c\n",
    "print(bb)\n",
    "\n",
    "cc = 100 and c\n",
    "print(cc)\n",
    "\n",
    "# 布尔值跟数字可转换\n",
    "# 数字转换成布尔值的时候， 0 = Flase, 其余都是Ture\n",
    "# 布尔值转换成数字的时候： True=1 , Flase=0"
   ]
  },
  {
   "cell_type": "code",
   "execution_count": 15,
   "metadata": {},
   "outputs": [
    {
     "name": "stdout",
     "output_type": "stream",
     "text": [
      "True\n"
     ]
    }
   ],
   "source": [
    "# 短路问题案例1\n",
    "a = True\n",
    "b = True\n",
    "c = False\n",
    "\n",
    "aa = a or b and (a and b) #转换成1+... ...\n",
    "print(aa)"
   ]
  },
  {
   "cell_type": "code",
   "execution_count": 18,
   "metadata": {},
   "outputs": [
    {
     "name": "stdout",
     "output_type": "stream",
     "text": [
      "a\n",
      "b\n",
      "True\n",
      "********************\n",
      "a\n",
      "True\n"
     ]
    }
   ],
   "source": [
    "# 短路问题2\n",
    "def a():\n",
    "    print('a')\n",
    "    return True\n",
    "\n",
    "def b():\n",
    "    print(\"b\")\n",
    "    return True\n",
    "\n",
    "aaa = a() and b()\n",
    "print(aaa)\n",
    "\n",
    "# 字符串乘以数字，表示对这个字符串重复多少遍\n",
    "print(\"*\" * 20)\n",
    "\n",
    "bbb =  a() or b() # 短路发生,b没有打印出来\n",
    "print(bbb)"
   ]
  },
  {
   "cell_type": "markdown",
   "metadata": {},
   "source": [
    "# 成员运算符\n",
    " - 用来检测一个值或者变量是否在某个集合里面\n",
    " - in：成员运算符\n",
    " - not in: 不在里边的意思"
   ]
  },
  {
   "cell_type": "code",
   "execution_count": 21,
   "metadata": {},
   "outputs": [
    {
     "name": "stdout",
     "output_type": "stream",
     "text": [
      "False\n",
      "True\n"
     ]
    }
   ],
   "source": [
    "# in 案例\n",
    "\n",
    "L = [1,2,3,4,5]\n",
    "a = 6\n",
    "aa = a in L\n",
    "print(aa)\n",
    "\n",
    "# a 没有在L里面\n",
    "aa = a not in L\n",
    "print(aa)"
   ]
  },
  {
   "cell_type": "markdown",
   "metadata": {},
   "source": [
    "# 身份运算符\n",
    " - 用来确认两个变量是否是同一个变量\n",
    " - is: 变量运算符\n",
    " - is not: 不是同一个变量\n",
    " - 学Python的都需知道，对整数N \\n[-5,256],解释器对它们做了单独的处理，放进了固定的内存中，不会因你每次运行而变化。"
   ]
  },
  {
   "cell_type": "code",
   "execution_count": 29,
   "metadata": {},
   "outputs": [
    {
     "name": "stdout",
     "output_type": "stream",
     "text": [
      "False\n",
      "False\n",
      "True\n"
     ]
    }
   ],
   "source": [
    "# 身份运算符定义\n",
    "# 案例1\n",
    "a = 1\n",
    "b =12306\n",
    "aa = a is b\n",
    "print(aa)\n",
    "\n",
    "# 案例2 a,b仅值一样，并不代表a,b是一个变量\n",
    "a = 12306\n",
    "b = 12306\n",
    "aa = a is b\n",
    "print(aa)\n",
    "\n",
    "# 案例3 数值小python系统分配，跟上面案例不同\n",
    "# 范围（-5 - 256）之间\n",
    "a = 5\n",
    "b = 5\n",
    "aa = a is b\n",
    "print(aa)"
   ]
  },
  {
   "cell_type": "markdown",
   "metadata": {},
   "source": [
    "# 运算符优先级问题\n",
    " - 小括号具有最高优先级 #从里网内，从左往右     \n",
    "    \n",
    "       \n",
    "       ** 指数 (最高优先级）\n",
    "       ~ + -  按位翻转， 一元加号和减号 （最后两个的方法名为 +@ 和 -@）\n",
    "       * / % //   乘，除，取模和取整除\n",
    "       + - 加法减法\n",
    "       >> << 右移，左移运算符\n",
    "       &   位 'AND'\n",
    "       ^ |  位运算符\n",
    "       <= < > >=  比较运算符\n",
    "       <> ==  !=  等于运算符\n",
    "       = %= /= //= -= += *= **= 赋值运算符\n",
    "       is, is not   身份运算符\n",
    "       in, not in   成员运算符\n",
    "       not, or, and  逻辑运算符\n",
    "\n"
   ]
  },
  {
   "cell_type": "code",
   "execution_count": null,
   "metadata": {},
   "outputs": [],
   "source": []
  }
 ],
 "metadata": {
  "kernelspec": {
   "display_name": "Python 3",
   "language": "python",
   "name": "python3"
  },
  "language_info": {
   "codemirror_mode": {
    "name": "ipython",
    "version": 3
   },
   "file_extension": ".py",
   "mimetype": "text/x-python",
   "name": "python",
   "nbconvert_exporter": "python",
   "pygments_lexer": "ipython3",
   "version": "3.7.6"
  }
 },
 "nbformat": 4,
 "nbformat_minor": 4
}
