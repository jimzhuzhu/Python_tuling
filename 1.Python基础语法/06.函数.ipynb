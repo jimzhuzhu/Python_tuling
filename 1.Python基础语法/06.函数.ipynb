{
 "cells": [
  {
   "cell_type": "markdown",
   "metadata": {},
   "source": [
    "# 函数\n",
    " - 函数是代码的一种组织形式\n",
    " - 函数应该能完成一项特定的工作，而且一般函数值完成一项工作\n",
    " - 有些语言，分函数和过程两个概念，通俗解释是，有返回结果的叫函数，无返回结果的叫过程，python不加以区分\n",
    " - 相当于预先编写好的代码程序，需要用时进行导入\n",
    " - 函数的使用\n",
    "     - 函数使用需要先定义：\n",
    "     - 使用函数，俗称调用"
   ]
  },
  {
   "cell_type": "code",
   "execution_count": 4,
   "metadata": {},
   "outputs": [
    {
     "name": "stdout",
     "output_type": "stream",
     "text": [
      "函数并没有使用\n"
     ]
    }
   ],
   "source": [
    "# 定义一个函数\n",
    "# 只是定义的话不会执行\n",
    "# 1.def关键字，后面跟一个空格\n",
    "# 2.函数名，自己定义，起名需要遵循编程命令规则，约定俗成，大驼峰命名只给类用\n",
    "# 3.后面括号和冒号不能省，括号内可以有参数\n",
    "# 4.函数内所有代码缩进\n",
    "\n",
    "def func():\n",
    "    print(\"Hello World\")\n",
    "    print(\"我爱你刘雨霞\")\n",
    "print(\"函数并没有使用\")"
   ]
  },
  {
   "cell_type": "code",
   "execution_count": 5,
   "metadata": {},
   "outputs": [
    {
     "name": "stdout",
     "output_type": "stream",
     "text": [
      "Hello World\n",
      "我爱你刘雨霞\n"
     ]
    }
   ],
   "source": [
    "# 函数的调用\n",
    "# 直接写出函数名字，后面小括号不能省略，括号内根据情况\n",
    "\n",
    "func()"
   ]
  },
  {
   "cell_type": "markdown",
   "metadata": {},
   "source": [
    "# 函数的参数和返回值\n",
    " - 参数：负责给函数传递一些必要的数据或者信息\n",
    " - 参数分类\n",
    "     - 形参（形式参数）：在函数定义的时候用到的参数，没有具体价值，只是一个占位符\n",
    "     - 实参（实际参数）：在调用函数的时候输入的值\n",
    " - 返回值：调用函数的时候的一个执行结果\n",
    "     - 使用return返回结果\n",
    "     - 如果没有值需要返回，我们推荐使用return None表示函数结束\n",
    "     - 函数一旦执行return关键字，则函数默认返回 None\n",
    "     "
   ]
  },
  {
   "cell_type": "code",
   "execution_count": 10,
   "metadata": {},
   "outputs": [
    {
     "name": "stdout",
     "output_type": "stream",
     "text": [
      "溜溜,你好吗？\n",
      "溜溜,你看见刘雨霞了吗？\n",
      "妈妈,你好吗？\n",
      "妈妈,你看见刘雨霞了吗？\n"
     ]
    }
   ],
   "source": [
    "# 形参和实参的案例\n",
    "# 参数person只是一个符号\n",
    "# 调用的时候用另一个\n",
    "def hello(person):\n",
    "    print(\"{0},你好吗？\".format(person))\n",
    "    print(\"{},你看见刘雨霞了吗？\".format(person))\n",
    "\n",
    "p = \"溜溜\"\n",
    "# 调用函数，需要把p作为实参传入\n",
    "hello(p)\n",
    "\n",
    "# 形参可替换实参\n",
    "p = \"妈妈\"\n",
    "hello(p)"
   ]
  },
  {
   "cell_type": "code",
   "execution_count": 11,
   "metadata": {},
   "outputs": [
    {
     "name": "stdout",
     "output_type": "stream",
     "text": [
      "刘雨霞,你好吗？\n",
      "刘雨霞,你看见刘雨霞了吗？\n",
      "None\n"
     ]
    }
   ],
   "source": [
    "pp = hello(\"刘雨霞\")\n",
    "print(pp) # 默认返回值是None"
   ]
  },
  {
   "cell_type": "code",
   "execution_count": 1,
   "metadata": {},
   "outputs": [
    {
     "name": "stdout",
     "output_type": "stream",
     "text": [
      "Help on built-in function print in module builtins:\n",
      "\n",
      "print(...)\n",
      "    print(value, ..., sep=' ', end='\\n', file=sys.stdout, flush=False)\n",
      "    \n",
      "    Prints the values to a stream, or to sys.stdout by default.\n",
      "    Optional keyword arguments:\n",
      "    file:  a file-like object (stream); defaults to the current sys.stdout.\n",
      "    sep:   string inserted between values, default a space.\n",
      "    end:   string appended after the last value, default a newline.\n",
      "    flush: whether to forcibly flush the stream.\n",
      "\n",
      "Help on NoneType object:\n",
      "\n",
      "class NoneType(object)\n",
      " |  Methods defined here:\n",
      " |  \n",
      " |  __bool__(self, /)\n",
      " |      self != 0\n",
      " |  \n",
      " |  __repr__(self, /)\n",
      " |      Return repr(self).\n",
      " |  \n",
      " |  ----------------------------------------------------------------------\n",
      " |  Static methods defined here:\n",
      " |  \n",
      " |  __new__(*args, **kwargs) from builtins.type\n",
      " |      Create and return a new object.  See help(type) for accurate signature.\n",
      "\n"
     ]
    }
   ],
   "source": [
    "# help 负责随时为你提供帮助\n",
    "help(print)\n",
    "help(None) # 等价于 help(print())"
   ]
  },
  {
   "cell_type": "code",
   "execution_count": 4,
   "metadata": {},
   "outputs": [
    {
     "name": "stdout",
     "output_type": "stream",
     "text": [
      "1  \n",
      "2  4  \n",
      "3  6  9  \n",
      "4  8  12  16  \n",
      "5  10  15  20  25  \n",
      "6  12  18  24  30  36  \n",
      "7  14  21  28  35  42  49  \n",
      "8  16  24  32  40  48  56  64  \n",
      "9  18  27  36  45  54  63  72  81  \n"
     ]
    }
   ],
   "source": [
    "# 九九乘法表多种方法\n",
    "# version 1.0\n",
    "\n",
    "for o in range(1,10): #外循环，从1到9\n",
    "    for i in range(1,o + 1): #内循环，每次从第一个数开始，打印到跟行数相同的数\n",
    "        print(o * i,end='  ')\n",
    "    print()\n"
   ]
  },
  {
   "cell_type": "code",
   "execution_count": 7,
   "metadata": {},
   "outputs": [
    {
     "name": "stdout",
     "output_type": "stream",
     "text": [
      "1  \n",
      "2  4  \n",
      "3  6  9  \n",
      "4  8  12  16  \n",
      "5  10  15  20  25  \n",
      "6  12  18  24  30  36  \n",
      "7  14  21  28  35  42  49  \n",
      "8  16  24  32  40  48  56  64  \n",
      "9  18  27  36  45  54  63  72  81  \n"
     ]
    }
   ],
   "source": [
    "# 九九乘法表函数调用\n",
    "\n",
    "def jiujiu():\n",
    "    for o in range(1,10): #控制外循环，从1到9\n",
    "        for i in range(1,o + 1): #内循环，每次从第一个数开始，打印到跟行数相同的数\n",
    "            print(o * i,end='  ')\n",
    "        print()\n",
    "        \n",
    "    return None\n",
    "\n",
    "jiujiu()"
   ]
  },
  {
   "cell_type": "code",
   "execution_count": 11,
   "metadata": {},
   "outputs": [
    {
     "name": "stdout",
     "output_type": "stream",
     "text": [
      "1 \n",
      "2 4 \n",
      "3 6 9 \n",
      "4 8 12 16 \n",
      "5 10 15 20 25 \n",
      "6 12 18 24 30 36 \n",
      "7 14 21 28 35 42 49 \n",
      "8 16 24 32 40 48 56 64 \n",
      "9 18 27 36 45 54 63 72 81 \n"
     ]
    }
   ],
   "source": [
    "# 改造九九乘法表\n",
    "def printLine(line_num):\n",
    "    '''\n",
    "    line_num:代表行号\n",
    "    \n",
    "    打印一行九九乘法表\n",
    "    '''\n",
    "    for i in range(1, line_num + 1):\n",
    "        print(line_num * i, end=' ')\n",
    "    print()\n",
    "    \n",
    "def jiujiu():\n",
    "    for o in range(1,10): #控制外循环，从1到9\n",
    "        printLine(o)\n",
    "    return None\n",
    "\n",
    "jiujiu()"
   ]
  },
  {
   "cell_type": "markdown",
   "metadata": {},
   "source": [
    "# 参数详解\n",
    " - 参数分类\n",
    "     - 普通参数/位置参数\n",
    "     - 默认参数\n",
    "     - 关键字参数\n",
    "     - 收集参数"
   ]
  },
  {
   "cell_type": "code",
   "execution_count": 13,
   "metadata": {},
   "outputs": [
    {
     "name": "stdout",
     "output_type": "stream",
     "text": [
      "3\n"
     ]
    }
   ],
   "source": [
    "# 普通参数案例\n",
    "\n",
    "def normal_para(one, two): # 形参\n",
    "    print(one + two)\n",
    "    return None\n",
    "\n",
    "normal_para(1,2) # 调用实参个数要一样"
   ]
  },
  {
   "cell_type": "code",
   "execution_count": 21,
   "metadata": {},
   "outputs": [
    {
     "name": "stdout",
     "output_type": "stream",
     "text": [
      "3\n",
      "100\n"
     ]
    }
   ],
   "source": [
    "# 默认参数案例\n",
    "\n",
    "def default_para(one, two, three=100): # 最后一个有值就是默认参数\n",
    "    print(one + two)\n",
    "    print(three)\n",
    "    return None\n",
    "default_para(1,2)"
   ]
  },
  {
   "cell_type": "code",
   "execution_count": 22,
   "metadata": {},
   "outputs": [
    {
     "name": "stdout",
     "output_type": "stream",
     "text": [
      "3\n",
      "3\n"
     ]
    }
   ],
   "source": [
    "# 关键字参数\n",
    "\n",
    "def keys_para(one, two, three):\n",
    "    print(one + two)\n",
    "    print(three)\n",
    "    return None\n",
    "\n",
    "keys_para(one=1, two=2, three=3)"
   ]
  },
  {
   "cell_type": "code",
   "execution_count": null,
   "metadata": {},
   "outputs": [],
   "source": []
  }
 ],
 "metadata": {
  "kernelspec": {
   "display_name": "Python 3",
   "language": "python",
   "name": "python3"
  },
  "language_info": {
   "codemirror_mode": {
    "name": "ipython",
    "version": 3
   },
   "file_extension": ".py",
   "mimetype": "text/x-python",
   "name": "python",
   "nbconvert_exporter": "python",
   "pygments_lexer": "ipython3",
   "version": "3.7.6"
  }
 },
 "nbformat": 4,
 "nbformat_minor": 4
}
