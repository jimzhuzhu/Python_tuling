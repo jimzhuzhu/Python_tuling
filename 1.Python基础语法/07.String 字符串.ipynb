{
 "cells": [
  {
   "cell_type": "markdown",
   "metadata": {},
   "source": [
    "# 字符串\n",
    " - str\n",
    " - 转义字符\n",
    " - 格式化\n",
    " - 内建函数"
   ]
  },
  {
   "cell_type": "markdown",
   "metadata": {},
   "source": [
    "# 字符串\n",
    " - 表示文字信息\n",
    " - 用单引号，双引号，三引号括起来"
   ]
  },
  {
   "cell_type": "code",
   "execution_count": 2,
   "metadata": {},
   "outputs": [
    {
     "name": "stdout",
     "output_type": "stream",
     "text": [
      "i love liu yu xia\n",
      "i love liu yu xia\n",
      "\n",
      "i \n",
      "love\n",
      "liu yu xia'\n",
      "\n"
     ]
    }
   ],
   "source": [
    "s = 'i love liu yu xia'\n",
    "print(s)\n",
    "\n",
    "s = \"i love liu yu xia\"\n",
    "print(s)\n",
    "\n",
    "s = '''  # 三引号可换行\n",
    "i \n",
    "love\n",
    "liu yu xia'\n",
    "'''\n",
    "print(s)"
   ]
  },
  {
   "cell_type": "markdown",
   "metadata": {},
   "source": [
    "# 转义字符\n",
    " - 用一个特色的方法表示一系列不方便写出的内容，比如回车键，换行键，退格键\n",
    " - 借助反斜杠字符，一旦字符串中出现反斜杠，则反斜杠后面的一个或者几个字符已经不是原来的含义，进行了转义\n",
    " - 在字符串中，一旦出现反斜杠就要加倍小心，可能有转义字符出现\n",
    " - 不同系统对换行符号操作有不同的表示\n",
    "     - Windows: \\n  \n",
    "     - Linux: \\r\\n"
   ]
  },
  {
   "cell_type": "code",
   "execution_count": 9,
   "metadata": {},
   "outputs": [
    {
     "name": "stdout",
     "output_type": "stream",
     "text": [
      "Let's Go\n",
      "Let's Go\n",
      "c:\\User\\jimzhuzhu\n",
      "i \n",
      "love \n",
      "liu yu xia\n"
     ]
    }
   ],
   "source": [
    "# 转义字符案例\n",
    "# 表达Let's Go\n",
    "# 使用转义字符\n",
    "\n",
    "s = 'Let\\'s Go'\n",
    "print(s)\n",
    "\n",
    "# 不使用转义字符，可以使用单双引号嵌套\n",
    "s = \"Let's Go\"\n",
    "print(s)\n",
    "\n",
    "# 表示斜杠\n",
    "# 比如表示C:\\User\\jimzhuzhu\n",
    "# 可以再使用反斜杠进行转义\n",
    "s = \"c:\\\\User\\\\jimzhuzhu\"\n",
    "print(s)\n",
    "\n",
    "# 回车换行\n",
    "# 想表达的效果是：\n",
    "# i\n",
    "# love\n",
    "# liu yu xia\n",
    "s = \"i \\nlove \\nliu yu xia\"\n",
    "print(s)"
   ]
  },
  {
   "cell_type": "markdown",
   "metadata": {},
   "source": [
    "# 常用的转义字符\n",
    "\n",
    "         转义字符     描述\n",
    "         \\(在行尾需换行时)     续行符\n",
    "         \\\\     反斜杠符号\n",
    "         \\'     单引号\n",
    "         \\\"     双引号\n",
    "         \\a     响铃\n",
    "         \\b     退格(Backspace)\n",
    "         \\e     转义\n",
    "         \\000     一个空格\n",
    "         \\n     换行\n",
    "         \\v     纵向制表符\n",
    "         \\t     横向制表符\n",
    "         \\r     回车\n",
    "         \\f     换页\n",
    "         \\oyy     八进制数yy代表的字符，例如：\\o12代表换行\n",
    "         \\xyy     十进制数yy代表的字符，例如：\\x0a代表换行\n",
    "         \\other     其它的字符以普通格式输出"
   ]
  },
  {
   "cell_type": "code",
   "execution_count": 20,
   "metadata": {},
   "outputs": [
    {
     "name": "stdout",
     "output_type": "stream",
     "text": [
      "真开心\n"
     ]
    }
   ],
   "source": [
    "# 单个斜杠用法\n",
    "# 在python里，单个反斜杠表示此行没有结束，出于美观，需要下一下继续\n",
    "\n",
    "def myDemo(x, \\\n",
    "           y, \\\n",
    "           z):\n",
    "    print(\"真开心\")\n",
    "    \n",
    "myDemo(5,6,7)"
   ]
  },
  {
   "cell_type": "markdown",
   "metadata": {},
   "source": [
    "# 格式化\n",
    " - 把字符串按照一定的格式进行打印或者填充\n",
    " - 格式化的分类：\n",
    "     - 传统格式化\n",
    "     - format"
   ]
  },
  {
   "cell_type": "code",
   "execution_count": 21,
   "metadata": {},
   "outputs": [
    {
     "name": "stdout",
     "output_type": "stream",
     "text": [
      "i love Liuyuxia\n",
      "i love Wangyuxia\n",
      "i love Liyuxia\n"
     ]
    }
   ],
   "source": [
    "# 填充\n",
    "\n",
    "s = \"i love Liuyuxia\"\n",
    "print(s)\n",
    "\n",
    "s = \"i love Wangyuxia\"\n",
    "print(s)\n",
    "\n",
    "s = \"i love Liyuxia\"\n",
    "print(s)"
   ]
  },
  {
   "cell_type": "markdown",
   "metadata": {},
   "source": [
    "# 字符串的传统格式化方法\n",
    " - 使用%进行格式化\n",
    " - %(百分号）也叫占位符\n",
    " \n",
    "         %s: 字符串\n",
    "         %r: 字符串，但是是使用repr而不是str\n",
    "         %c: 整数转换为单个字符\n",
    "         %d: 十进制整数\n",
    "         %u: 无符号整数\n",
    "         %o: 表示八进制\n",
    "         %x: 十六进制，字母为小写（x为小写）\n",
    "         %X: 十六进制，字母为大写（X为大写）\n",
    "         %e: 浮点数（e为小写),例如 2.87e+12\n",
    "         %E: 浮点数（E为大写),例如 2.87E+12\n",
    "         %f,%F: 浮点数十进制形式\n",
    "         %g,%G: 十进制形式浮点数或者指数浮点数自动转换\n",
    "         格式字符前出现整数表示此占位符所占位置的宽度\n",
    "         格式字符前边出现 \"-\" 表示左对齐\n",
    "         格式字符前边出现 \"+\" 表示右对齐\n",
    "         0位数不足用于 '0' 补齐\n",
    "         width 表示宽度\n",
    "         pricision表示精度"
   ]
  },
  {
   "cell_type": "code",
   "execution_count": 24,
   "metadata": {},
   "outputs": [
    {
     "name": "stdout",
     "output_type": "stream",
     "text": [
      "i love %s\n",
      "i love 刘雨霞\n"
     ]
    }
   ],
   "source": [
    "# %s 表示简单的字符串\n",
    "# 占位符可以单独使用\n",
    "s = \"i love %s\"\n",
    "print(s)\n",
    "\n",
    "# 字符串替换\n",
    "print(s% \"刘雨霞\")\n",
    "\n",
    "print(s%\"朱煜瑄\")"
   ]
  },
  {
   "cell_type": "code",
   "execution_count": 25,
   "metadata": {},
   "outputs": [
    {
     "name": "stdout",
     "output_type": "stream",
     "text": [
      "i love 刘雨霞\n",
      "i love 100\n"
     ]
    }
   ],
   "source": [
    "print(\"i love %s\" % \"刘雨霞\")\n",
    "# 占位符一般只能被同类型转换，或者替换类型能被转换成占位符的类型\n",
    "# 下面属于特例\n",
    "print(\"i love %s\" % 100)"
   ]
  },
  {
   "cell_type": "code",
   "execution_count": 28,
   "metadata": {},
   "outputs": [
    {
     "name": "stdout",
     "output_type": "stream",
     "text": [
      "刘雨霞今年 19 岁了，他长得好漂亮\n"
     ]
    }
   ],
   "source": [
    "# %d 整数占位符\n",
    "\n",
    "s = \"刘雨霞今年 %d 岁了，他长得好漂亮\"\n",
    "print(s%19)\n",
    "# 下面程序会报错\n",
    "# print(s%\"19\")"
   ]
  },
  {
   "cell_type": "code",
   "execution_count": 35,
   "metadata": {},
   "outputs": [
    {
     "name": "stdout",
     "output_type": "stream",
     "text": [
      " i an %fKG weight, %fm Heigh\n",
      " i an 66.500000KG weight, 1.750000m Heigh\n",
      " i an 66.50KG weight, 1.75m Heigh\n"
     ]
    }
   ],
   "source": [
    "s = \" i an %fKG weight, %fm Heigh\"\n",
    "print(s)\n",
    "\n",
    "# 如果需要格式化的信息多余一个，则用括号括起来即可\n",
    "# 以下打印使用了默认格式，多余打印出好多个零\n",
    "print(s%(66.5,1.75))\n",
    "\n",
    "# 实际需要进行格式化的信息数量必须与百分号后面给出的数据数量匹配，否则会报错\n",
    "# 如下例子，实际需要格式化为4处，但是给出数据3个，则报错\n",
    "\n",
    "s = \" i an %.2fKG weight, %.2fm Heigh\"\n",
    "print(s % (66.5, 1.75))"
   ]
  },
  {
   "cell_type": "markdown",
   "metadata": {},
   "source": [
    "# format 格式化\n",
    " - 使用函数形式进行格式化，代替以前的百分号"
   ]
  },
  {
   "cell_type": "code",
   "execution_count": 45,
   "metadata": {},
   "outputs": [
    {
     "name": "stdout",
     "output_type": "stream",
     "text": [
      "Hello World!\n",
      "Hello World!\n",
      "Hello World!\n",
      "World Hello!\n",
      "朱献福 love 刘雨霞 and 刘雨霞 loves 朱献福!\n",
      "我是朱献福, 我最爱的人是刘雨霞, 朱煜瑄是我们最可爱的孩子\n"
     ]
    }
   ],
   "source": [
    "# 不用指定位置，按顺序读取\n",
    "# 方式1\n",
    "s = \"{} {}!\"\n",
    "print(s.format(\"Hello\", \"World\")) # format 里可以任意参数\n",
    "\n",
    "# 方式2\n",
    "s = \"{} {}!\".format(\"Hello\", \"World\")\n",
    "print(s) # 相当于打印”Hello World!\"\n",
    "\n",
    "# 以下内容，建议听完函数参数再来看\n",
    "# 设置指定参数\n",
    "s = \"{0} {1}!\".format(\"Hello\", \"World\") # 参数从左往右依次是 0，1，2，3....\n",
    "print(s) # 相当于打印”Hello World!\"\n",
    "\n",
    "# 设置指定参数1\n",
    "s = \"{1} {0}!\".format(\"Hello\", \"World\")\n",
    "print(s) \n",
    "\n",
    "# 设置指定参数2\n",
    "s = \"{1} love {0} and {0} loves {1}!\".format(\"刘雨霞\", \"朱献福\")\n",
    "print(s) # 如果没有指定参数，占位符超过参数会报错\n",
    "\n",
    "# 使用命名参数\n",
    "s = \"我是{name_1}, 我最爱的人是{name_2}, {name_3}是我们最可爱的孩子\"\n",
    "s = s.format(name_1 = \"朱献福\", name_2 = \"刘雨霞\", name_3 = \"朱煜瑄\")\n",
    "print(s)"
   ]
  },
  {
   "cell_type": "code",
   "execution_count": 46,
   "metadata": {},
   "outputs": [
    {
     "name": "stdout",
     "output_type": "stream",
     "text": [
      "我是朱献福, 我最爱的人是刘雨霞, 朱煜瑄是我们最可爱的孩子\n"
     ]
    }
   ],
   "source": [
    "# 通过字典设置参数，需要解包\n",
    "# 使用命名参数\n",
    "s = \"我是{name_1}, 我最爱的人是{name_2}, {name_3}是我们最可爱的孩子\"\n",
    "s_dict = {\"name_1\":\"朱献福\", \"name_2\":\"刘雨霞\", \"name_3\":\"朱煜瑄\"}\n",
    "\n",
    "# **是解包操作\n",
    "s = s.format(**s_dict)\n",
    "print(s)"
   ]
  },
  {
   "cell_type": "code",
   "execution_count": 50,
   "metadata": {},
   "outputs": [
    {
     "name": "stdout",
     "output_type": "stream",
     "text": [
      "Zhu Xian Fu is 1.75m heigh, 65.60KG weight\n"
     ]
    }
   ],
   "source": [
    "# 对数字的格式化需要用到：\n",
    "\n",
    "s = \"Zhu Xian Fu is {:.2f}m heigh, {:.2f}KG weight\"\n",
    "print(s.format(1.75,65.6))\n",
    "\n",
    "# , < > 分别是居中，左对齐，右对齐，后面带宽度\n",
    "# ：号后面带填充的字符，只能是一个字符，不指定则默认用空格填充\n",
    "# + 表示在正数前显示+ ，负数前显示- ；\n",
    "# b,d,o,x 分别是二进制，十进制，八进制，十六进制\n",
    "# 此外我们可以使用大括号 {} 来转义大括号\n",
    "\n",
    "# 大括号转义案例"
   ]
  },
  {
   "cell_type": "markdown",
   "metadata": {},
   "source": [
    "# str内建函数\n",
    " - 很多语言字符串使用string表示，但是python中使用str\n",
    " - 可以使用help(str)函数帮助文档了解str内建函数"
   ]
  },
  {
   "cell_type": "code",
   "execution_count": null,
   "metadata": {},
   "outputs": [],
   "source": []
  },
  {
   "cell_type": "code",
   "execution_count": null,
   "metadata": {},
   "outputs": [],
   "source": []
  }
 ],
 "metadata": {
  "kernelspec": {
   "display_name": "Python 3",
   "language": "python",
   "name": "python3"
  },
  "language_info": {
   "codemirror_mode": {
    "name": "ipython",
    "version": 3
   },
   "file_extension": ".py",
   "mimetype": "text/x-python",
   "name": "python",
   "nbconvert_exporter": "python",
   "pygments_lexer": "ipython3",
   "version": "3.7.6"
  }
 },
 "nbformat": 4,
 "nbformat_minor": 4
}
