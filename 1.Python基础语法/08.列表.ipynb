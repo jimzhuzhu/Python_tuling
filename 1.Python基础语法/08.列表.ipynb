{
 "cells": [
  {
   "cell_type": "markdown",
   "metadata": {},
   "source": [
    "# list列表\n",
    " - 一组由有序数据做成的序列\n",
    "     - 数据就有先后顺序\n",
    "     - 数据可以不是一类型数据\n",
    " - list的创建\n",
    "     - 直接创建，用中括号创建，内容直接用英文逗号隔开\n",
    "     - 使用list创建\n",
    "     - 列表包含单个字符串的时候是一个特例\n",
    " \n",
    "             Python中的内置类型\n",
    "            str 字符串\n",
    "            list 列表\n",
    "            tuple 元组\n",
    "            set 集合\n",
    "            dict 字典\n"
   ]
  },
  {
   "cell_type": "code",
   "execution_count": 2,
   "metadata": {},
   "outputs": [
    {
     "name": "stdout",
     "output_type": "stream",
     "text": [
      "[1, 2, 3, 4, 5]\n",
      "[1, 2, 3.2, 'liuyuxia', '猪猪', True]\n"
     ]
    }
   ],
   "source": [
    "# 直接赋值创建列表\n",
    "L1 = [1,2,3,4,5]\n",
    "# list内的数据可以不是一个类型\n",
    "L2 = [1,2,3.2,\"liuyuxia\",\"猪猪\",True]\n",
    "\n",
    "print(L1)\n",
    "print(L2)"
   ]
  },
  {
   "cell_type": "code",
   "execution_count": 3,
   "metadata": {},
   "outputs": [
    {
     "name": "stdout",
     "output_type": "stream",
     "text": [
      "[]\n",
      "<class 'list'>\n"
     ]
    }
   ],
   "source": [
    "# 创建列表第二种方式\n",
    "L3 = list() # 相当于[]\n",
    "print(L3)\n",
    "print(type(L3))"
   ]
  },
  {
   "cell_type": "markdown",
   "metadata": {},
   "source": [
    "### 内置函数的概念\n",
    " - 不需要编码，系统直接定义的函数\n",
    " - help ：帮助函数\n",
    " - type: 显示变量的类型\n",
    " - id: 显示变量的id\n",
    " - print: 打印\n",
    "    "
   ]
  },
  {
   "cell_type": "code",
   "execution_count": 6,
   "metadata": {},
   "outputs": [
    {
     "name": "stdout",
     "output_type": "stream",
     "text": [
      "<class 'list'>\n",
      "['Zhu Xian Fu']\n",
      "['Zhu Xian Fu']\n",
      "['Z', 'h', 'u', ' ', 'X', 'i', 'a', 'n', ' ', 'F', 'u']\n",
      "['1', '2', '3', '4', '5']\n"
     ]
    }
   ],
   "source": [
    "# list创建的特例展示\n",
    "\n",
    "s = \"Zhu Xian Fu\"\n",
    "\n",
    "#想创建就包含s一个字符串的列表\n",
    "L1 = [s]\n",
    "print(type(L1))\n",
    "print(L1)\n",
    "\n",
    "L2 = [s]\n",
    "print(L2)\n",
    "L2 = list(\"Zhu Xian Fu\")\n",
    "# 列表转化，也可以用 L2 = [s]\n",
    "print(L2)\n",
    "a = list('12345')\n",
    "print(a)"
   ]
  },
  {
   "cell_type": "markdown",
   "metadata": {},
   "source": [
    "#  列表的常见操作\n",
    " - 访问\n",
    "     - 使用下标操作，也叫索引\n",
    "     - 列表的元素索引是从0开始\n",
    " - 切片操作\n",
    "     - 对列表进行任意一段的截取\n",
    "     - 截取之后，创建了一个新的列表\n",
    "     - 切片使用[:]\n",
    "     - 步长幅度[::]"
   ]
  },
  {
   "cell_type": "code",
   "execution_count": 8,
   "metadata": {},
   "outputs": [
    {
     "name": "stdout",
     "output_type": "stream",
     "text": [
      "32\n",
      "323\n",
      "3\n",
      "4\n"
     ]
    }
   ],
   "source": [
    "L1 = [32,43,22,354,323,4]\n",
    "# 使用下标访问\n",
    "print(L1[0])\n",
    "print(L1[4])\n",
    "# 下标访问超标\n",
    "# print(L1[10])\n",
    "\n",
    "l1 = [1,2,3,4,5,6]\n",
    "print(l1[2])\n",
    "print(l1[3])"
   ]
  },
  {
   "cell_type": "code",
   "execution_count": 9,
   "metadata": {},
   "outputs": [
    {
     "name": "stdout",
     "output_type": "stream",
     "text": [
      "[2, 3, 4, 5, 6]\n"
     ]
    }
   ],
   "source": [
    "# 切片操作需要注意取值范围，左包括右不包括\n",
    "L1 = [1,2,3,4,5,6,7,8,9,10]\n",
    "# 对比打印结果跟下标的值\n",
    "print(L1[1:6])"
   ]
  },
  {
   "cell_type": "code",
   "execution_count": 10,
   "metadata": {},
   "outputs": [
    {
     "name": "stdout",
     "output_type": "stream",
     "text": [
      "140252558099136\n",
      "140252558226240\n"
     ]
    }
   ],
   "source": [
    "# 下面结果说明切片后生成的是一个新的列表\n",
    "# 通过内置函数id可以判断出切片是否生成了新的列表\n",
    "# id的作用是用来判断两个变量是否是一个变量\n",
    "\n",
    "L2 = L1[0:10]\n",
    "print(id(L2))\n",
    "print(id(L1))"
   ]
  },
  {
   "cell_type": "code",
   "execution_count": 16,
   "metadata": {},
   "outputs": [
    {
     "name": "stdout",
     "output_type": "stream",
     "text": [
      "[2, 3, 4, 5, 6]\n",
      "113382429384\n",
      "113408705160\n",
      "[1, 2, 3, 4]\n",
      "[3, 4, 5, 6, 7, 8, 9, 10]\n",
      "[1, 2, 3, 4, 5, 6, 7, 8, 9, 10]\n"
     ]
    }
   ],
   "source": [
    "# 切片下标可以为空\n",
    "print(L1[:4]) #默认从零开始\n",
    "print(L1[2:]) # 下标从2开始后所有的值\n",
    "print(L1[:]) # 两个都没有，相当于全部开头结尾"
   ]
  },
  {
   "cell_type": "code",
   "execution_count": 18,
   "metadata": {},
   "outputs": [
    {
     "name": "stdout",
     "output_type": "stream",
     "text": [
      "[1, 2, 3, 4, 5, 6, 7, 8, 9, 10]\n",
      "[1, 3, 5, 7, 9]\n"
     ]
    }
   ],
   "source": [
    "# 切片可以控制增长幅度，默认增长幅度为1\n",
    "print(L1[::1]) # 等于print(L1[:])\n",
    "print(L1[::2])"
   ]
  },
  {
   "cell_type": "code",
   "execution_count": 17,
   "metadata": {},
   "outputs": [
    {
     "name": "stdout",
     "output_type": "stream",
     "text": [
      "[1, 2, 3, 4, 5, 6, 7, 8, 9, 10]\n"
     ]
    }
   ],
   "source": [
    "# 下标可以超出范围，超出后不在考虑多余下标内容\n",
    "print(L1[:100])"
   ]
  },
  {
   "cell_type": "code",
   "execution_count": 21,
   "metadata": {},
   "outputs": [
    {
     "name": "stdout",
     "output_type": "stream",
     "text": [
      "[]\n",
      "[9, 8, 7]\n",
      "[7, 8, 9]\n"
     ]
    }
   ],
   "source": [
    "# 下标值增长幅度可以为负数\n",
    "# 为正数时，下标顺序是从左往右\n",
    "# 为负数时，标明顺序是从右往左\n",
    "# 负数下标规定;数组最后一个数字下标是-1\n",
    "\n",
    "# 下面例子为空，因为默认是从左往右移动\n",
    "print(L1[-2:-5])\n",
    "\n",
    "# 利用负数下标打印数字9,8,7\n",
    "print(L1[-2:-5:-1])\n",
    "# 利用负数下标打印数字7，8，9\n",
    "print(L1[-4:-1:1])"
   ]
  },
  {
   "cell_type": "code",
   "execution_count": 23,
   "metadata": {},
   "outputs": [
    {
     "name": "stdout",
     "output_type": "stream",
     "text": [
      "1 2 3 4 5 6 7 \n",
      "1 2 3 4 5 6 7 \n",
      "1 2 3 4 5 6 7 "
     ]
    }
   ],
   "source": [
    "# 列表的灵活使用\n",
    "#1\n",
    "a = [1,2,3,4,5,6,7]\n",
    "for i in range(1,len(a)+1):\n",
    "    print(i,end=' ')\n",
    "print()\n",
    "#2\n",
    "for i in a:\n",
    "    print(i,end=' ')\n",
    "print()\n",
    "#3\n",
    "length = len(a)\n",
    "idx = 1\n",
    "while idx <= length:\n",
    "    print(idx,end=' ')\n",
    "    idx += 1"
   ]
  },
  {
   "cell_type": "code",
   "execution_count": 26,
   "metadata": {},
   "outputs": [
    {
     "name": "stdout",
     "output_type": "stream",
     "text": [
      "['liuyuxia', 160]\n",
      "['zhuxianfu', 175]\n",
      "['liuliu', 100]\n"
     ]
    }
   ],
   "source": [
    "#列表的嵌套\n",
    "a = [['liuyuxia',160],['zhuxianfu',175],['liuliu',100]]\n",
    "for i in a:\n",
    "    print(i)"
   ]
  },
  {
   "cell_type": "code",
   "execution_count": 27,
   "metadata": {},
   "outputs": [
    {
     "name": "stdout",
     "output_type": "stream",
     "text": [
      "liuyuxia\n",
      "160\n",
      "zhuxianfu\n",
      "175\n",
      "liuliu\n",
      "100\n"
     ]
    }
   ],
   "source": [
    "# 双重嵌套\n",
    "for i in a:\n",
    "    for j in i:\n",
    "        print(j)"
   ]
  },
  {
   "cell_type": "code",
   "execution_count": 28,
   "metadata": {},
   "outputs": [
    {
     "name": "stdout",
     "output_type": "stream",
     "text": [
      "liuyuxia ---- 160\n",
      "zhuxianfu ---- 175\n",
      "liuliu ---- 100\n"
     ]
    }
   ],
   "source": [
    "# 有规律列表提出列表里元素\n",
    "for i,j in a:\n",
    "    print(i,'----',j)"
   ]
  },
  {
   "cell_type": "markdown",
   "metadata": {},
   "source": [
    "# 列表生成式\n",
    "- 通过一些简单的方式产生一个列表"
   ]
  },
  {
   "cell_type": "code",
   "execution_count": 32,
   "metadata": {},
   "outputs": [
    {
     "name": "stdout",
     "output_type": "stream",
     "text": [
      "<class 'list'>\n",
      "['h', 'h']\n"
     ]
    }
   ],
   "source": [
    "a = list('hh')\n",
    "print(type(a))\n",
    "print(a)"
   ]
  },
  {
   "cell_type": "code",
   "execution_count": 34,
   "metadata": {},
   "outputs": [
    {
     "name": "stdout",
     "output_type": "stream",
     "text": [
      "[1, 2, 3, 4, 5, 6]\n",
      "[10, 20, 30, 40, 50, 60]\n"
     ]
    }
   ],
   "source": [
    "# 列表生成式，在[]里用for i in xxx\n",
    "a = [1,2,3,4,5,6]\n",
    "b = [i for i in a]\n",
    "print(b)\n",
    "c = [i*10 for i in a]\n",
    "print(c)"
   ]
  },
  {
   "cell_type": "code",
   "execution_count": 37,
   "metadata": {},
   "outputs": [
    {
     "name": "stdout",
     "output_type": "stream",
     "text": [
      "[0, 1, 2, 3, 4, 5, 6, 7, 8, 9] "
     ]
    }
   ],
   "source": [
    "n = [i for i in range(10)]\n",
    "print(n,end=' ')"
   ]
  },
  {
   "cell_type": "code",
   "execution_count": 38,
   "metadata": {},
   "outputs": [
    {
     "name": "stdout",
     "output_type": "stream",
     "text": [
      "[0, 13, 26, 39, 52, 65, 78, 91]\n"
     ]
    }
   ],
   "source": [
    "n = [i for i in range(100) if i % 13 == 0]\n",
    "print(n)"
   ]
  },
  {
   "cell_type": "code",
   "execution_count": 48,
   "metadata": {},
   "outputs": [
    {
     "name": "stdout",
     "output_type": "stream",
     "text": [
      "[100, 101, 102, 103, 104, 105, 106, 107, 108, 109, 101, 102, 103, 104, 105, 106, 107, 108, 109, 110, 102, 103, 104, 105, 106, 107, 108, 109, 110, 111, 103, 104, 105, 106, 107, 108, 109, 110, 111, 112, 104, 105, 106, 107, 108, 109, 110, 111, 112, 113, 105, 106, 107, 108, 109, 110, 111, 112, 113, 114, 106, 107, 108, 109, 110, 111, 112, 113, 114, 115, 107, 108, 109, 110, 111, 112, 113, 114, 115, 116, 108, 109, 110, 111, 112, 113, 114, 115, 116, 117, 109, 110, 111, 112, 113, 114, 115, 116, 117, 118]"
     ]
    }
   ],
   "source": [
    "a = [i+j for i in range(10) for j in range(100,110)]\n",
    "print(a,end='')\n"
   ]
  },
  {
   "cell_type": "code",
   "execution_count": 46,
   "metadata": {},
   "outputs": [
    {
     "name": "stdout",
     "output_type": "stream",
     "text": [
      "[100, 101, 102, 103, 104, 105, 106, 107, 108, 109, 101, 102, 103, 104, 105, 106, 107, 108, 109, 110, 102, 103, 104, 105, 106, 107, 108, 109, 110, 111, 103, 104, 105, 106, 107, 108, 109, 110, 111, 112, 104, 105, 106, 107, 108, 109, 110, 111, 112, 113, 105, 106, 107, 108, 109, 110, 111, 112, 113, 114, 106, 107, 108, 109, 110, 111, 112, 113, 114, 115, 107, 108, 109, 110, 111, 112, 113, 114, 115, 116, 108, 109, 110, 111, 112, 113, 114, 115, 116, 117, 109, 110, 111, 112, 113, 114, 115, 116, 117, 118]\n",
      "100\n"
     ]
    }
   ],
   "source": [
    "# 和上面程序等价\n",
    "a = []\n",
    "for i in range(10):\n",
    "    for j in range(100,110):\n",
    "        a.append(i+j)\n",
    "print(a)\n",
    "print(len(a))"
   ]
  },
  {
   "cell_type": "code",
   "execution_count": 50,
   "metadata": {},
   "outputs": [
    {
     "name": "stdout",
     "output_type": "stream",
     "text": [
      "[1, 2, 4, 5]\n"
     ]
    },
    {
     "ename": "NameError",
     "evalue": "name 'a' is not defined",
     "output_type": "error",
     "traceback": [
      "\u001b[0;31m---------------------------------------------------------------------------\u001b[0m",
      "\u001b[0;31mNameError\u001b[0m                                 Traceback (most recent call last)",
      "\u001b[0;32m<ipython-input-50-8f4afa8eb0db>\u001b[0m in \u001b[0;36m<module>\u001b[0;34m\u001b[0m\n\u001b[1;32m      4\u001b[0m \u001b[0;34m\u001b[0m\u001b[0m\n\u001b[1;32m      5\u001b[0m \u001b[0;32mdel\u001b[0m \u001b[0ma\u001b[0m\u001b[0;34m\u001b[0m\u001b[0;34m\u001b[0m\u001b[0m\n\u001b[0;32m----> 6\u001b[0;31m \u001b[0mprint\u001b[0m\u001b[0;34m(\u001b[0m\u001b[0ma\u001b[0m\u001b[0;34m)\u001b[0m\u001b[0;34m\u001b[0m\u001b[0;34m\u001b[0m\u001b[0m\n\u001b[0m",
      "\u001b[0;31mNameError\u001b[0m: name 'a' is not defined"
     ]
    }
   ],
   "source": [
    "# del 删除列表或根据下标删除列表元素\n",
    "a = [1,2,3,4,5]\n",
    "del a[2] # 通过下标删除列表元素，id还是一样的，跟切片不一样\n",
    "print(a)\n",
    "\n",
    "del a\n",
    "print(a)"
   ]
  },
  {
   "cell_type": "code",
   "execution_count": 66,
   "metadata": {},
   "outputs": [
    {
     "name": "stdout",
     "output_type": "stream",
     "text": [
      "[1, 2, 3, 4]\n"
     ]
    }
   ],
   "source": [
    "# remove 根据值删除列表元素\n",
    "a = [1,2,3,4,666]\n",
    "a.remove(666)\n",
    "print(a)"
   ]
  },
  {
   "cell_type": "code",
   "execution_count": 52,
   "metadata": {},
   "outputs": [
    {
     "name": "stdout",
     "output_type": "stream",
     "text": [
      "[1, 2, 3, 4, 5, 6, 7, 8, 9]\n",
      "[9, 9, 9, 9, 9, 9, 9, 9, 9, 9]\n"
     ]
    }
   ],
   "source": [
    "# 列表相加\n",
    "a = [1,2,3,4]\n",
    "b = [5,6,7,8]\n",
    "c = [9]\n",
    "d = a+b+c\n",
    "print(d)\n",
    "\n",
    "# 列表相乘\n",
    "d = c*10\n",
    "print(d)"
   ]
  },
  {
   "cell_type": "code",
   "execution_count": 53,
   "metadata": {},
   "outputs": [
    {
     "name": "stdout",
     "output_type": "stream",
     "text": [
      "False True\n"
     ]
    }
   ],
   "source": [
    "# in用来做判断\n",
    "a = [1,2,3,4,5]\n",
    "b = 6 in a\n",
    "c = 1 in a\n",
    "print(b,c)"
   ]
  },
  {
   "cell_type": "code",
   "execution_count": 55,
   "metadata": {},
   "outputs": [
    {
     "name": "stdout",
     "output_type": "stream",
     "text": [
      "9\n",
      "1\n"
     ]
    }
   ],
   "source": [
    "# max 求列表最大值\n",
    "# min 求列表最小值\n",
    "a = [1,2,3,4,5,6,7,8,9]\n",
    "print(max(a))\n",
    "print(min(a))"
   ]
  },
  {
   "cell_type": "code",
   "execution_count": 64,
   "metadata": {},
   "outputs": [
    {
     "name": "stdout",
     "output_type": "stream",
     "text": [
      "[1, 2, 3, 4]\n",
      "['l', 'i', 'u', 'y', 'u', 'x', 'i', 'a']\n",
      "l i u y u x i a "
     ]
    }
   ],
   "source": [
    "# list,当做一个函数\n",
    "a = list([1,2,3,4])\n",
    "print(a)\n",
    "name = list('liuyuxia')\n",
    "print(name)\n",
    "for i in name:\n",
    "    print(i,end=' ')"
   ]
  },
  {
   "cell_type": "code",
   "execution_count": 71,
   "metadata": {},
   "outputs": [
    {
     "name": "stdout",
     "output_type": "stream",
     "text": [
      "[1, 2, 3, 4, 5]\n",
      "[1, 2, 3, 4, 5]\n",
      "140252558915520 140252558915520\n",
      "140252558915520 140252558914560\n"
     ]
    }
   ],
   "source": [
    "# 拷贝列表\n",
    "a = [1,2,3,4,5]\n",
    "b = a\n",
    "print(b)\n",
    "print(a)\n",
    "# id是一样的，只是重新取了名字\n",
    "print(id(a),id(b))\n",
    "\n",
    "# copy\n",
    "# 此时浅拷贝，id不一样\n",
    "b = a.copy()\n",
    "print(id(a),id(b))"
   ]
  }
 ],
 "metadata": {
  "kernelspec": {
   "display_name": "Python 3",
   "language": "python",
   "name": "python3"
  },
  "language_info": {
   "codemirror_mode": {
    "name": "ipython",
    "version": 3
   },
   "file_extension": ".py",
   "mimetype": "text/x-python",
   "name": "python",
   "nbconvert_exporter": "python",
   "pygments_lexer": "ipython3",
   "version": "3.8.8"
  }
 },
 "nbformat": 4,
 "nbformat_minor": 4
}
