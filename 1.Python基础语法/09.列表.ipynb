{
 "cells": [
  {
   "cell_type": "markdown",
   "metadata": {},
   "source": [
    "# list列表\n",
    " - 一组由有序数据做成的序列\n",
    "     - 数据就有先后顺序\n",
    "     - 数据可以不是一类型数据\n",
    " - list的创建\n",
    "     - 直接创建，用中括号创建，内容直接用英文逗号隔开\n",
    "     - 使用list创建\n",
    "     - 列表包含单个字符串的时候是一个特例\n",
    " \n",
    "             Python中的内置类型\n",
    "            str\n",
    "            list\n",
    "            tuple\n",
    "            set\n",
    "            dict\n"
   ]
  },
  {
   "cell_type": "code",
   "execution_count": 1,
   "metadata": {},
   "outputs": [
    {
     "name": "stdout",
     "output_type": "stream",
     "text": [
      "[1, 2, 3, 4, 5]\n",
      "[1, 2, 3, 'liuyuxia', '猪猪']\n"
     ]
    }
   ],
   "source": [
    "# 直接赋值创建列表\n",
    "L1 = [1,2,3,4,5]\n",
    "# list内的数据可以不是一个类型\n",
    "L2 = [1,2,3,\"liuyuxia\",\"猪猪\"]\n",
    "\n",
    "print(L1)\n",
    "print(L2)"
   ]
  },
  {
   "cell_type": "code",
   "execution_count": 3,
   "metadata": {},
   "outputs": [
    {
     "name": "stdout",
     "output_type": "stream",
     "text": [
      "[]\n",
      "<class 'list'>\n"
     ]
    }
   ],
   "source": [
    "# 创建列表第二种方式\n",
    "L3 = list() # 相当于[]\n",
    "print(L3)\n",
    "print(type(L3))"
   ]
  },
  {
   "cell_type": "markdown",
   "metadata": {},
   "source": [
    "### 内置函数的概念\n",
    " - 不需要编码，系统直接定义的函数\n",
    " - help ：帮助函数\n",
    " - type: 显示变量的类型\n",
    " - id: 显示变量的id\n",
    " - print: 打印\n",
    "    "
   ]
  },
  {
   "cell_type": "code",
   "execution_count": 8,
   "metadata": {},
   "outputs": [
    {
     "name": "stdout",
     "output_type": "stream",
     "text": [
      "<class 'list'>\n",
      "['Zhu Xian Fu']\n",
      "['Zhu Xian Fu']\n",
      "['Z', 'h', 'u', ' ', 'X', 'i', 'a', 'n', ' ', 'F', 'u']\n"
     ]
    }
   ],
   "source": [
    "# list创建的特例展示\n",
    "\n",
    "s = \"Zhu Xian Fu\"\n",
    "\n",
    "#想创建就包含s一个字符串的列表\n",
    "L1 = [s]\n",
    "print(type(L1))\n",
    "print(L1)\n",
    "\n",
    "L2 = [s]\n",
    "print(L2)\n",
    "L2 = list(\"Zhu Xian Fu\")\n",
    "# 列表转化，也可以用 L2 = [s]\n",
    "print(L2)"
   ]
  },
  {
   "cell_type": "markdown",
   "metadata": {},
   "source": [
    "#  列表的常见操作\n",
    " - 访问\n",
    "     - 使用下标操作，也叫索引\n",
    "     - 列表的元素索引是从0开始\n",
    " - 切片操作\n",
    "     - 对列表进行任意一段的截取\n",
    "     - 截取之后，创建了一个新的列表\n",
    "     - 切片使用[:]\n",
    "     - 步长幅度[::]"
   ]
  },
  {
   "cell_type": "code",
   "execution_count": 10,
   "metadata": {},
   "outputs": [
    {
     "name": "stdout",
     "output_type": "stream",
     "text": [
      "32\n",
      "323\n"
     ]
    }
   ],
   "source": [
    "L1 = [32,43,22,354,323,4]\n",
    "# 使用下标访问\n",
    "print(L1[0])\n",
    "print(L1[4])\n",
    "# 下标访问超标\n",
    "# print(L1[10])"
   ]
  },
  {
   "cell_type": "code",
   "execution_count": 16,
   "metadata": {},
   "outputs": [
    {
     "name": "stdout",
     "output_type": "stream",
     "text": [
      "[2, 3, 4, 5, 6]\n",
      "113382429384\n",
      "113408705160\n",
      "[1, 2, 3, 4]\n",
      "[3, 4, 5, 6, 7, 8, 9, 10]\n",
      "[1, 2, 3, 4, 5, 6, 7, 8, 9, 10]\n"
     ]
    }
   ],
   "source": [
    "# 切片操作需要注意取值范围，左包括右不包括\n",
    "L1 = [1,2,3,4,5,6,7,8,9,10]\n",
    "# 对比打印结果跟下标的值\n",
    "print(L1[1:6])\n",
    "\n",
    "# 下面结果说明切片后生成的是一个新的列表\n",
    "# 通过内置函数id可以判断出切片是否生成了新的列表\n",
    "# id的作用是用来判断两个变量是否是一个变量\n",
    "\n",
    "L2 = L1[0:10]\n",
    "print(id(L2))\n",
    "print(id(L1))\n",
    "\n",
    "# 切片下标可以为空\n",
    "print(L1[:4]) #默认从零开始\n",
    "print(L1[2:]) # 下标从2开始后所有的值\n",
    "print(L1[:]) # 两个都没有，相当于全部开头结尾"
   ]
  },
  {
   "cell_type": "code",
   "execution_count": 18,
   "metadata": {},
   "outputs": [
    {
     "name": "stdout",
     "output_type": "stream",
     "text": [
      "[1, 2, 3, 4, 5, 6, 7, 8, 9, 10]\n",
      "[1, 3, 5, 7, 9]\n"
     ]
    }
   ],
   "source": [
    "# 切片可以控制增长幅度，默认增长幅度为1\n",
    "print(L1[::1]) # 等于print(L1[:])\n",
    "print(L1[::2])"
   ]
  },
  {
   "cell_type": "code",
   "execution_count": 17,
   "metadata": {},
   "outputs": [
    {
     "name": "stdout",
     "output_type": "stream",
     "text": [
      "[1, 2, 3, 4, 5, 6, 7, 8, 9, 10]\n"
     ]
    }
   ],
   "source": [
    "# 下标可以超出范围，超出后不在考虑多余下标内容\n",
    "print(L1[:100])"
   ]
  },
  {
   "cell_type": "code",
   "execution_count": 21,
   "metadata": {},
   "outputs": [
    {
     "name": "stdout",
     "output_type": "stream",
     "text": [
      "[]\n",
      "[9, 8, 7]\n",
      "[7, 8, 9]\n"
     ]
    }
   ],
   "source": [
    "# 下标值增长幅度可以为负数\n",
    "# 为正数时，下标顺序是从左往右\n",
    "# 为负数时，标明顺序是从右往左\n",
    "# 负数下标规定;数组最后一个数字下标是-1\n",
    "\n",
    "# 下面例子为空，因为默认是从左往右移动\n",
    "print(L1[-2:-5])\n",
    "\n",
    "# 利用负数下标打印数字9,8,7\n",
    "print(L1[-2:-5:-1])\n",
    "# 利用负数下标打印数字7，8，9\n",
    "print(L1[-4:-1:1])"
   ]
  },
  {
   "cell_type": "code",
   "execution_count": null,
   "metadata": {},
   "outputs": [],
   "source": []
  }
 ],
 "metadata": {
  "kernelspec": {
   "display_name": "Python 3",
   "language": "python",
   "name": "python3"
  },
  "language_info": {
   "codemirror_mode": {
    "name": "ipython",
    "version": 3
   },
   "file_extension": ".py",
   "mimetype": "text/x-python",
   "name": "python",
   "nbconvert_exporter": "python",
   "pygments_lexer": "ipython3",
   "version": "3.7.6"
  }
 },
 "nbformat": 4,
 "nbformat_minor": 4
}
