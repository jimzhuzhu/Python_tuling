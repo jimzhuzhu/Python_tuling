{
 "cells": [
  {
   "cell_type": "markdown",
   "metadata": {},
   "source": [
    "# tuple (元组）\n",
    " - 可以理解成一个不允许更改的列表\n",
    " - 元组创建使用\n",
    "     - 1.直接使用小括号\n",
    "     - 2.直接用逗号\n",
    "     - 3.使用tuple定义"
   ]
  },
  {
   "cell_type": "code",
   "execution_count": 3,
   "metadata": {},
   "outputs": [
    {
     "name": "stdout",
     "output_type": "stream",
     "text": [
      "<class 'tuple'>\n",
      "<class 'int'>\n",
      "<class 'tuple'>\n"
     ]
    }
   ],
   "source": [
    "# tuple的创建\n",
    "\n",
    "# 1.使用小括号\n",
    "ta = ()\n",
    "print(type(ta))\n",
    "# 当用小括号创建一个元素的tuple的时候\n",
    "tb = (100)\n",
    "print(type(tb))\n",
    "tc = (100,200,300)\n",
    "print(type(tc))"
   ]
  },
  {
   "cell_type": "code",
   "execution_count": 6,
   "metadata": {},
   "outputs": [
    {
     "name": "stdout",
     "output_type": "stream",
     "text": [
      "<class 'int'>\n",
      "<class 'tuple'>\n",
      "<class 'tuple'>\n"
     ]
    }
   ],
   "source": [
    "# 2.直接用逗号\n",
    "\n",
    "ta = 100\n",
    "tc = 100,\n",
    "print(type(ta))\n",
    "print(type(tc))\n",
    "tb = 100, 200, 300 # 后面可以跟逗号\n",
    "print(type(tb))"
   ]
  },
  {
   "cell_type": "code",
   "execution_count": 9,
   "metadata": {},
   "outputs": [
    {
     "name": "stdout",
     "output_type": "stream",
     "text": [
      "()\n",
      "(1, 2, 3, 'liu yu xia')\n",
      "<class 'tuple'>\n",
      "[1, 2, 3, 'liu yu xia']\n",
      "<class 'list'>\n"
     ]
    }
   ],
   "source": [
    "# 3.使用tuple定义\n",
    "ta = tuple()\n",
    "print(ta)\n",
    "\n",
    "li = [1,2,3,\"liu yu xia\"]\n",
    "tb = tuple(li) # 要求tuple参数必须可迭代\n",
    "print(tb)\n",
    "print(type(tb))\n",
    "print(li)\n",
    "print(type(li))"
   ]
  },
  {
   "cell_type": "markdown",
   "metadata": {},
   "source": [
    "### tuple其余特征根list基本一致\n",
    " - 有序\n",
    " - 可以访问不可以被修改\n",
    " - 元素可以是任意类型"
   ]
  },
  {
   "cell_type": "code",
   "execution_count": 11,
   "metadata": {},
   "outputs": [
    {
     "name": "stdout",
     "output_type": "stream",
     "text": [
      "['i', 'love', 'liu yu xia']\n",
      "liu yu xia\n"
     ]
    }
   ],
   "source": [
    "# tuple 索引操作\n",
    "ta = [\"i\", \"love\", \"liu yu xia\"]\n",
    "print(ta)\n",
    "# 列表转化成元组\n",
    "ta = tuple(ta)\n",
    "print(ta[2]) # 打印元组索引"
   ]
  },
  {
   "cell_type": "code",
   "execution_count": 13,
   "metadata": {},
   "outputs": [
    {
     "name": "stdout",
     "output_type": "stream",
     "text": [
      "('i', 'love', 'liu yu xia')\n",
      "('i', 'love')\n",
      "('liu yu xia', 'love', 'i')\n"
     ]
    }
   ],
   "source": [
    "# tuple 分片操作\n",
    "print(ta[:])\n",
    "print(ta[:2])\n",
    "print(ta[-1::-1]) # 从右往左，步长为1"
   ]
  },
  {
   "cell_type": "code",
   "execution_count": 14,
   "metadata": {},
   "outputs": [
    {
     "name": "stdout",
     "output_type": "stream",
     "text": [
      "(100, 200, 300, 'i', 'love', 'liu yu xia')\n"
     ]
    }
   ],
   "source": [
    "# 元组的相加操作\n",
    "ta = 100, 200, 300\n",
    "tb = (\"i\", \"love\", \"liu yu xia\")\n",
    "tc = ta + tb\n",
    "print(tc)"
   ]
  },
  {
   "cell_type": "code",
   "execution_count": 15,
   "metadata": {},
   "outputs": [
    {
     "name": "stdout",
     "output_type": "stream",
     "text": [
      "('i', 'love', 'liu yu xia', 'i', 'love', 'liu yu xia')\n"
     ]
    }
   ],
   "source": [
    "# tuple 乘法操作\n",
    "tc = tb * 2\n",
    "print(tc)"
   ]
  },
  {
   "cell_type": "code",
   "execution_count": 16,
   "metadata": {},
   "outputs": [
    {
     "name": "stdout",
     "output_type": "stream",
     "text": [
      "('i', 'love', 'liu yu xia')\n",
      "Yes\n"
     ]
    }
   ],
   "source": [
    "# tuple 成员检测\n",
    "print(tb)\n",
    "if \"liu yu xia\" in tb:\n",
    "    print(\"Yes\")"
   ]
  },
  {
   "cell_type": "code",
   "execution_count": 17,
   "metadata": {},
   "outputs": [
    {
     "name": "stdout",
     "output_type": "stream",
     "text": [
      "i\n",
      "love\n",
      "liu yu xia\n"
     ]
    }
   ],
   "source": [
    "# 元组遍历\n",
    "for i in tb:\n",
    "    print(i)"
   ]
  },
  {
   "cell_type": "code",
   "execution_count": 20,
   "metadata": {},
   "outputs": [
    {
     "name": "stdout",
     "output_type": "stream",
     "text": [
      "(10, 20, 30)\n",
      "10\n",
      "20\n",
      "30\n",
      "('i', 'love', 'liu yu xia')\n",
      "i\n",
      "love\n",
      "liu yu xia\n",
      "(100, 200, 300)\n",
      "100\n",
      "200\n",
      "300\n",
      "10 20 30\n",
      "i love liu yu xia\n",
      "100 200 300\n"
     ]
    }
   ],
   "source": [
    "ta = ((10, 20, 30), (\"i\", \"love\", \"liu yu xia\"),(100, 200, 300))\n",
    "# 嵌套元组的访问\n",
    "#1.双层循环访问\n",
    "\n",
    "for i in ta:\n",
    "    print(i)\n",
    "    for j in i:\n",
    "        print(j)"
   ]
  },
  {
   "cell_type": "code",
   "execution_count": 21,
   "metadata": {},
   "outputs": [
    {
     "name": "stdout",
     "output_type": "stream",
     "text": [
      "10 20 30\n",
      "i love liu yu xia\n",
      "100 200 300\n"
     ]
    }
   ],
   "source": [
    "# 2.使用单层循环\n",
    "for i,j,k in ta:\n",
    "    print(i,j,k)\n",
    "    \n",
    "# 上面访问有一个规定，则i，j,k跟元组的元素个数对应"
   ]
  },
  {
   "cell_type": "markdown",
   "metadata": {},
   "source": [
    "# 常用元组函数\n",
    " - len: 取长度\n",
    " - max: 最大值 # 元组比较中元素要一致\n",
    " - count: 对某一个元素计数\n",
    " - index： 某一个元素所在的位置"
   ]
  },
  {
   "cell_type": "code",
   "execution_count": 39,
   "metadata": {},
   "outputs": [
    {
     "name": "stdout",
     "output_type": "stream",
     "text": [
      "7\n",
      "10\n",
      "1\n",
      "1\n",
      "6\n"
     ]
    }
   ],
   "source": [
    "# len 取长度\n",
    "t = (1,2,3,4,5,6,10)\n",
    "print(len(t))\n",
    "\n",
    "# max 最大值/ min 最小值\n",
    "print(max(t)) # 使用了> 号进行比较\n",
    "print(min(t))\n",
    "\n",
    "# count： 计数\n",
    "print(t.count(3))\n",
    "\n",
    "# index: 元素位置\n",
    "print(t.index(10)) # 1元素的下标是什么"
   ]
  },
  {
   "cell_type": "code",
   "execution_count": 42,
   "metadata": {},
   "outputs": [
    {
     "name": "stdout",
     "output_type": "stream",
     "text": [
      "liu yu xia 100\n"
     ]
    }
   ],
   "source": [
    "# tuple 的特殊用法\n",
    "\n",
    "a = 100\n",
    "b = \"liu yu xia\"\n",
    "# 要求对a,b 值进行交换\n",
    "# 此种用法是python独有的方式\n",
    "a, b = b, a\n",
    "print(a,b)"
   ]
  },
  {
   "cell_type": "code",
   "execution_count": null,
   "metadata": {},
   "outputs": [],
   "source": []
  }
 ],
 "metadata": {
  "kernelspec": {
   "display_name": "Python 3",
   "language": "python",
   "name": "python3"
  },
  "language_info": {
   "codemirror_mode": {
    "name": "ipython",
    "version": 3
   },
   "file_extension": ".py",
   "mimetype": "text/x-python",
   "name": "python",
   "nbconvert_exporter": "python",
   "pygments_lexer": "ipython3",
   "version": "3.7.6"
  }
 },
 "nbformat": 4,
 "nbformat_minor": 4
}
