{
 "cells": [
  {
   "cell_type": "markdown",
   "metadata": {},
   "source": [
    "# OOP\n",
    " - 思想\n",
    "     - 以模块化思想解决工程问题\n",
    "     - 面向过程 vs 面向对象\n",
    "     - 由面向过程转向面向对象\n",
    "     - 例子，我要开一个学校，。。。。。\n",
    "         - 老师\n",
    "         - 学生\n",
    "         - 班主任\n",
    "         - 教室\n",
    "         - 房间\n",
    " - 常用名词\n",
    "     - oo: 面向对象\n",
    "     - ooa: 面向对象分析\n",
    "     - ood: 设计\n",
    "     - oop: 编程\n",
    "     - ooi: 实现\n",
    "     - ooa -> ood -> ooi\n",
    " - 类 vs 对象\n",
    "     - 类： 抽象，描述的是一种集合，侧重于共性\n",
    "     - 对象： 具体的形象，描述的是个体\n",
    " - 类的内容\n",
    "     - 动作： 函数\n",
    "     - 属性： 变量\n",
    " - is-a 子类父类\n",
    " - 定义类： class 关键字\n",
    " - 类命名：\n",
    "     - 遵循大驼峰\n",
    "     - 第一个字母大写"
   ]
  },
  {
   "cell_type": "code",
   "execution_count": 5,
   "metadata": {},
   "outputs": [],
   "source": [
    "## 定义学生类，和对象几个学生\n",
    "\n",
    "class Student():\n",
    "    # 此处定义一个空类\n",
    "    # pass 是关键字，表示占位用的，无意义,否则会报错\n",
    "    pass\n",
    "    # 定义一个对象\n",
    "    #xiaobai = Student()"
   ]
  },
  {
   "cell_type": "code",
   "execution_count": 7,
   "metadata": {},
   "outputs": [
    {
     "name": "stdout",
     "output_type": "stream",
     "text": [
      "Noone\n",
      "18\n",
      "Python\n"
     ]
    }
   ],
   "source": [
    "# \n",
    "class PythonStudent():\n",
    "    name = \"Noone\"\n",
    "    age = 18\n",
    "    coursw = \"Python\"\n",
    "    '''\n",
    "    定义类中的函数\n",
    "    一般需要有self关键字\n",
    "    其余跟普通函数基本相同'''\n",
    "    def givelove(self):\n",
    "        print(\"show me love\")\n",
    "        return None\n",
    "xiaobai = PythonStudent()\n",
    "print(xiaobai.name)\n",
    "print(xiaobai.age)\n",
    "print(xiaobai.coursw)"
   ]
  },
  {
   "cell_type": "markdown",
   "metadata": {},
   "source": [
    "# 类的属性"
   ]
  },
  {
   "cell_type": "code",
   "execution_count": 27,
   "metadata": {},
   "outputs": [],
   "source": [
    "# 类的例子\n",
    "# 注意类的定义\n",
    "class Baby():\n",
    "    name = \"liuliu\"\n",
    "    age = 2\n",
    "    \n",
    "    def sayHi(self):\n",
    "        print(\"l love 你 妈妈\")\n",
    "        # 如果没有return，则返回什么\n",
    "        return None\n",
    "    # self可以更换名字\n",
    "    def sayHi(zhuzhu):\n",
    "        print(\"l love you 刘雨霞\")"
   ]
  },
  {
   "cell_type": "code",
   "execution_count": 28,
   "metadata": {},
   "outputs": [
    {
     "name": "stdout",
     "output_type": "stream",
     "text": [
      "liuliu\n"
     ]
    }
   ],
   "source": [
    "# 实例给一个对象\n",
    "# 中文不能当作不能变量名、\n",
    "baby = Baby()\n",
    "print(baby.name)"
   ]
  },
  {
   "cell_type": "markdown",
   "metadata": {},
   "source": [
    "# self\n",
    " - self 可以用别的名称代替\n",
    " - self不是关键字\n",
    " - 作用是指代本身"
   ]
  },
  {
   "cell_type": "code",
   "execution_count": 29,
   "metadata": {},
   "outputs": [
    {
     "name": "stdout",
     "output_type": "stream",
     "text": [
      "l love you 刘雨霞\n"
     ]
    }
   ],
   "source": [
    "# self举例\n",
    "\n",
    "liuliu = Baby()\n",
    "# 让liuliu调用类的函数跟我打招呼\n",
    "# liuliu调用没有输入参数\n",
    "# 因为默认实例作为第一个参数传入\n",
    "liuliu.sayHi()\n",
    "\n",
    "# 错误案例\n",
    "a = \"baba\"\n",
    "# liuliu.sayHi(a)"
   ]
  },
  {
   "cell_type": "code",
   "execution_count": 30,
   "metadata": {},
   "outputs": [
    {
     "name": "stdout",
     "output_type": "stream",
     "text": [
      "l love you 刘雨霞\n"
     ]
    }
   ],
   "source": [
    "# 参考self的定义,说明self的名称可以更改，不是关键字\n",
    "liuliu.sayHi()"
   ]
  },
  {
   "cell_type": "markdown",
   "metadata": {},
   "source": [
    "# 类的变量作用域的问题\n",
    " - 类变量： 属于自己的变量\n",
    " - 实例变量： 属于实例的变量\n",
    " - 访问实例的属性，如果实例没有定义属性，自动使用类的属性"
   ]
  },
  {
   "cell_type": "code",
   "execution_count": 32,
   "metadata": {},
   "outputs": [
    {
     "name": "stdout",
     "output_type": "stream",
     "text": [
      "My name is liuliu, i am 2 years old\n"
     ]
    }
   ],
   "source": [
    "# 类的例子\n",
    "# 注意类的定义\n",
    "class Baby():\n",
    "    # name,age是类的变量\n",
    "    # 注意类的变量的定义位置和方法\n",
    "    # 不需要前缀\n",
    "    name = \"liuliu\"\n",
    "    age = 2\n",
    "    \n",
    "    def sayHi(self):\n",
    "        print(\"My name is {}, i am {} years old\".format(self.name, self.age))     \n",
    "        return None\n",
    "    \n",
    "# 以下案例说明，实例变量可以借用类的变量\n",
    "baby = Baby()\n",
    "baby.sayHi()\n",
    "# 如果实例单独定义变量就和类的默认脱钩"
   ]
  },
  {
   "cell_type": "markdown",
   "metadata": {},
   "source": [
    "# 访问类的属性\n",
    " - 在类里面如果强制访问类的属性，则需要使用__ class __,(前后两个下划线）\n",
    " - 类方法：\n",
    "     - 定义类的方法的时候，没有self参数\n",
    "     - 类的方法中只允许使用类的内容\n",
    "     - 两种方法\n",
    "         - 类的名称 ClassName\n",
    "         - __ class __"
   ]
  },
  {
   "cell_type": "code",
   "execution_count": 10,
   "metadata": {},
   "outputs": [
    {
     "name": "stdout",
     "output_type": "stream",
     "text": [
      "My name is liuliu, i am 2 years old\n"
     ]
    }
   ],
   "source": [
    "# 类的例子\n",
    "# 注意类的定义\n",
    "class Baby():\n",
    "    # name,age是类的变量\n",
    "    # 注意类的变量的定义位置和方法\n",
    "    # 不需要前缀\n",
    "    name = \"liuliu\"\n",
    "    age = 2\n",
    "    \n",
    "    def sayHi(self):\n",
    "        print(\"My name is {}, i am {} years old\".format(self.name, self.age))     \n",
    "        return None\n",
    "    # sos类的方法\n",
    "    # 如何访问类的变量\n",
    "    def sos():\n",
    "        # 类方法中不允许访问实例的任何内容\n",
    "        # 如果访问类的内容，注意两种用法\n",
    "        print(\"My name is {}, i am {} years old\".format(Baby.name, __class__.age))     \n",
    "        return None\n",
    "    \n",
    "# 体验类的方法\n",
    "s = Baby()\n",
    "s.sayHi()\n",
    "# 调用类方法的例子\n",
    "Baby.sos()"
   ]
  },
  {
   "cell_type": "markdown",
   "metadata": {},
   "source": [
    "# 构造函数\n",
    " - 类在实例化的时候，执行一些基础性的初始化工作\n",
    " - 使用特殊的名称和写法\n",
    " - 在实例化的时候自动执行\n",
    " - 是在实例化的时候“第一个”被执行的函数"
   ]
  },
  {
   "cell_type": "code",
   "execution_count": 11,
   "metadata": {},
   "outputs": [
    {
     "name": "stdout",
     "output_type": "stream",
     "text": [
      "我是构造函数\n",
      "-----------\n",
      "NoName\n",
      "0\n"
     ]
    }
   ],
   "source": [
    "# 类\n",
    "class Student():\n",
    "    name = \"NoName\"\n",
    "    age = 0\n",
    "    \n",
    "    # 构造函数名称固定，写法固定\n",
    "    def __init__(self):\n",
    "        print(\"我是构造函数\")\n",
    "\n",
    "zhuzhu = Student()\n",
    "print(\"-----------\")\n",
    "print(zhuzhu.name)\n",
    "print(zhuzhu.age)"
   ]
  },
  {
   "cell_type": "markdown",
   "metadata": {},
   "source": [
    "# 面向对象的三大特征\n",
    " - 继承\n",
    " - 封装\n",
    " - 多态\n",
    " \n",
    "# 继承\n",
    " - 子类可以使用父类定义的内容或者行为等\n",
    " - 继承的实现\n",
    "     - 父类，基类，超类：被继承的类， Base Class, Super Class\n",
    "     - 子类：有继承的类\n",
    "     - 所有子类必须有一个父类\n",
    "         - 如果没有，则默认是object的子类\n",
    "         - Python的子类可以有多个父类"
   ]
  },
  {
   "cell_type": "code",
   "execution_count": 12,
   "metadata": {},
   "outputs": [],
   "source": [
    "# 所有类必须有父类\n",
    "# 默认是object\n",
    "class Person():\n",
    "    pass\n",
    "class Person2(object):\n",
    "    pass"
   ]
  },
  {
   "cell_type": "code",
   "execution_count": 13,
   "metadata": {},
   "outputs": [
    {
     "name": "stdout",
     "output_type": "stream",
     "text": [
      "NoName\n"
     ]
    }
   ],
   "source": [
    "class Person():\n",
    "    name = \"NoName\"\n",
    "    age = 0\n",
    "\n",
    "# 父类写在类定义的时候的括号里\n",
    "class Teacher(Person):\n",
    "    pass\n",
    "t = Teacher()\n",
    "print(t.name)"
   ]
  },
  {
   "cell_type": "code",
   "execution_count": 15,
   "metadata": {},
   "outputs": [
    {
     "name": "stdout",
     "output_type": "stream",
     "text": [
      "飞呀飞呀\n",
      "NoName\n"
     ]
    }
   ],
   "source": [
    "class Bird():\n",
    "    fly = \"Yes, we can\"\n",
    "    def flying(self):\n",
    "        print(\"飞呀飞呀\")\n",
    "class BirdMan(Person, Bird):\n",
    "    pass\n",
    "\n",
    "bm = BirdMan()\n",
    "bm.flying()\n",
    "print(bm.name)"
   ]
  },
  {
   "cell_type": "markdown",
   "metadata": {},
   "source": [
    "### issubclass检测是否是子类\n",
    " - 可以用来检测两个类的父子关系"
   ]
  },
  {
   "cell_type": "code",
   "execution_count": 17,
   "metadata": {},
   "outputs": [
    {
     "name": "stdout",
     "output_type": "stream",
     "text": [
      "True\n",
      "True\n",
      "False\n"
     ]
    }
   ],
   "source": [
    "# 检查刚才定义的Bird, BirdMan, Person, Teacher,检测父子关系\n",
    "\n",
    "print(issubclass(BirdMan, Bird))\n",
    "print(issubclass(BirdMan, Person))\n",
    "print(issubclass(BirdMan, Teacher))"
   ]
  },
  {
   "cell_type": "code",
   "execution_count": 18,
   "metadata": {},
   "outputs": [
    {
     "name": "stdout",
     "output_type": "stream",
     "text": [
      "Help on built-in function issubclass in module builtins:\n",
      "\n",
      "issubclass(cls, class_or_tuple, /)\n",
      "    Return whether 'cls' is a derived from another class or is the same class.\n",
      "    \n",
      "    A tuple, as in ``issubclass(x, (A, B, ...))``, may be given as the target to\n",
      "    check against. This is equivalent to ``issubclass(x, A) or issubclass(x, B)\n",
      "    or ...`` etc.\n",
      "\n"
     ]
    }
   ],
   "source": [
    "help(issubclass)"
   ]
  },
  {
   "cell_type": "markdown",
   "metadata": {},
   "source": [
    "## 构造函数\n",
    " - 在函数实例化的时候调用的一个函数\n",
    " - 自动调用\n",
    " - 要求，第一个参数必须有，一般推荐self\n",
    " - 构造函数的调用时间： 一般认为在实例化的时候第一个被调用\n",
    " - 一般不手动调用，实例化的时候自动调用，参数需写入类名称后面的括号中\n",
    "### 构造函数的继承\n",
    " - 构造函数默认继承"
   ]
  },
  {
   "cell_type": "code",
   "execution_count": 21,
   "metadata": {},
   "outputs": [
    {
     "name": "stdout",
     "output_type": "stream",
     "text": [
      "zhu xiao fu 24\n"
     ]
    }
   ],
   "source": [
    "# 构造函数\n",
    "class Person():\n",
    "    def __init__(self, name, age):\n",
    "        print(name, age)\n",
    "p = Person(\"zhu xiao fu\", 24)"
   ]
  },
  {
   "cell_type": "code",
   "execution_count": 29,
   "metadata": {},
   "outputs": [
    {
     "name": "stdout",
     "output_type": "stream",
     "text": [
      "Person = (朱献福, 24)\n"
     ]
    }
   ],
   "source": [
    "# 案例\n",
    "class Person():\n",
    "    def __init__(self, name, age):\n",
    "        print(\"Person = ({}, {})\".format(name, age))\n",
    "class Teacher(Person):\n",
    "    pass\n",
    "t = Teacher(\"朱献福\", 24)\n",
    "# 构造函数默认被继承\n",
    "# t = Teacher()"
   ]
  },
  {
   "cell_type": "code",
   "execution_count": null,
   "metadata": {},
   "outputs": [],
   "source": []
  }
 ],
 "metadata": {
  "kernelspec": {
   "display_name": "Python 3",
   "language": "python",
   "name": "python3"
  },
  "language_info": {
   "codemirror_mode": {
    "name": "ipython",
    "version": 3
   },
   "file_extension": ".py",
   "mimetype": "text/x-python",
   "name": "python",
   "nbconvert_exporter": "python",
   "pygments_lexer": "ipython3",
   "version": "3.7.6"
  }
 },
 "nbformat": 4,
 "nbformat_minor": 4
}
