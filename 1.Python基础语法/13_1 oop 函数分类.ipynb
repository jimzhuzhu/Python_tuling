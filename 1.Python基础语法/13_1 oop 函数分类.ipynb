{
 "cells": [
  {
   "cell_type": "markdown",
   "metadata": {},
   "source": [
    "### oop函数分类\n",
    "- 普通函数\n",
    "- 实例函数\n",
    "- 类函数\n",
    "- 静态函数"
   ]
  },
  {
   "cell_type": "code",
   "execution_count": 18,
   "metadata": {},
   "outputs": [],
   "source": [
    "class School(object):\n",
    "    name = '学校'\n",
    "    age = 100\n",
    "    # 普通函数\n",
    "    def hw(): \n",
    "        print('Hello World')\n",
    "    # 可当做类实例,默认参数\n",
    "    def hw2(name = 'liu yuxia'):\n",
    "        print('Hello World {}'.format(name))\n",
    "    \n",
    "    def hw3(name):\n",
    "        print('Hello World {}'.format(name))\n",
    "    # 实例函数   \n",
    "    def hw4(self):\n",
    "        print('Hello World {}'.format(self.name))\n",
    "    # 类函数\n",
    "    @classmethod\n",
    "    def hw5(cls):\n",
    "        print('Hello World class {}'.format(cls.name))\n",
    "    # 静态函数\n",
    "    @staticmethod\n",
    "    def hw6():\n",
    "        print('Hello World 静态')"
   ]
  },
  {
   "cell_type": "code",
   "execution_count": 26,
   "metadata": {},
   "outputs": [
    {
     "name": "stdout",
     "output_type": "stream",
     "text": [
      "Hello World\n",
      "Hello World liu yuxia\n",
      "Hello World liu yuxia\n",
      "Hello World 学校\n",
      "Hello World 学校\n",
      "Hello World class 学校\n",
      "Hello World class 学校\n",
      "Hello World 静态\n",
      "Hello World 静态\n"
     ]
    }
   ],
   "source": [
    "# 上面类的普通函数调用\n",
    "t1 = School()\n",
    "\n",
    "School.hw()\n",
    "School.hw2()\n",
    "School.hw3('liu yuxia')\n",
    "\n",
    "# 实例函数调用，有两种方法\n",
    "t1.hw4()\n",
    "School.hw4(t1)\n",
    "\n",
    "# 类函数调用,不需要给实例参数\n",
    "School.hw5()\n",
    "t1.hw5() # 实例也可以用类函数\n",
    "\n",
    "# 静态函数调用,\n",
    "School.hw6()\n",
    "t1.hw6()"
   ]
  },
  {
   "cell_type": "code",
   "execution_count": 30,
   "metadata": {},
   "outputs": [],
   "source": [
    "# 类函数和静态函数有什么区别呢？\n",
    "# 用类函数来做类似java里面工厂函数的功能\n",
    "\n",
    "class Date(object):\n",
    "    \n",
    "    def __init__(self, day=0, month=0, year=0):\n",
    "        self.day = day\n",
    "        self.month = month\n",
    "        self.year = year\n",
    "        \n",
    "    @classmethod # ‘2022-04-13’\n",
    "    def from_string(cls, date_as_string):\n",
    "        day, month, year = map(int, date_as_string.split('-'))\n",
    "        date1 = cls(day, month, year)\n",
    "        return date1\n",
    "    \n",
    "    @staticmethod\n",
    "    def is_date_valid(date_as_string):\n",
    "        day, month, year = map(int, date_as_string.split('-'))\n",
    "        return day <= 31 and month <= 12 and year <= 3999\n",
    "    \n",
    "date2 = Date.from_string('11-09-2012')\n",
    "is_date = Date.is_date_valid('11-09-2012')"
   ]
  },
  {
   "cell_type": "code",
   "execution_count": 49,
   "metadata": {},
   "outputs": [
    {
     "name": "stdout",
     "output_type": "stream",
     "text": [
      "zhu xianfu\n",
      "18\n",
      "********************\n",
      "140602104071408\n",
      "4328496000\n",
      "********************\n",
      "{'__module__': '__main__', 'name': 'zhu xianfu', 'age': 18, 'say': <function A.say at 0x7fe07a8850d0>, '__dict__': <attribute '__dict__' of 'A' objects>, '__weakref__': <attribute '__weakref__' of 'A' objects>, '__doc__': None}\n",
      "{}\n",
      "{'name': 'liuliu', 'age': 5}\n",
      "liuliu\n",
      "5\n",
      "140602104240688\n",
      "4328495584\n"
     ]
    }
   ],
   "source": [
    "class A():\n",
    "    name = \"zhu xianfu\"\n",
    "    age = 18\n",
    "    \n",
    "    # 注意say的写法，参数由一个self\n",
    "    def say(self):\n",
    "        self.name = 'liu yuxia'\n",
    "        self.age = 200\n",
    "\n",
    "# 此案例说明\n",
    "# 类实例的属性和其对象的实例的属性在不对对象的实例属性赋值的前提下，\n",
    "# 指向同一个变量\n",
    "        \n",
    "# 此时，A称为类实例\n",
    "print(A.name)\n",
    "print(A.age)\n",
    "\n",
    "print(\"*\" * 20)\n",
    "\n",
    "# id可以鉴别一个变量是否和另一个变量是同一变量\n",
    "print(id(A.name))\n",
    "print(id(A.age))\n",
    "\n",
    "print(\"*\" * 20)\n",
    "a = A()\n",
    "# 查看A内所有的属性\n",
    "print(A.__dict__)\n",
    "print(a.__dict__)\n",
    "\n",
    "a.name = \"liuliu\"\n",
    "a.age = 5\n",
    "print(a.__dict__)\n",
    "\n",
    "print(a.name)\n",
    "print(a.age)\n",
    "print(id(a.name))\n",
    "print(id(a.age))\n",
    "        "
   ]
  },
  {
   "cell_type": "code",
   "execution_count": 50,
   "metadata": {},
   "outputs": [
    {
     "name": "stdout",
     "output_type": "stream",
     "text": [
      "My name is liu yuxia\n",
      "My age is 200\n",
      "My name is liu yuxia\n",
      "My age is 200\n"
     ]
    }
   ],
   "source": [
    "class Student():\n",
    "    name = \"zhu xianfu\"\n",
    "    age = 18\n",
    "    \n",
    "    # 注意say的写法，参数由一个self\n",
    "    def say(self):\n",
    "        self.name = \"liu yuxia\"\n",
    "        self.age = 200\n",
    "        print(\"My name is {0}\".format(self.name))\n",
    "        print(\"My age is {0}\".format(self.age))\n",
    "        \n",
    "    def sayAgain(s):\n",
    "      \n",
    "        print(\"My name is {0}\".format(s.name))\n",
    "        print(\"My age is {0}\".format(s.age))\n",
    "          \n",
    "yueyue = Student()\n",
    "yueyue.say()\n",
    "yueyue.sayAgain()"
   ]
  },
  {
   "cell_type": "code",
   "execution_count": 51,
   "metadata": {},
   "outputs": [
    {
     "name": "stdout",
     "output_type": "stream",
     "text": [
      "My name is liuliu\n",
      "My age is 19\n",
      "zhu xianfu\n",
      "19\n",
      "Hello, nice to see you again\n"
     ]
    }
   ],
   "source": [
    "class Teacher():\n",
    "    name = \"zhu xianfu\"\n",
    "    age = 19\n",
    "    \n",
    "    def say(self):\n",
    "        self.name = \"liuliu\"\n",
    "        self.age = 17\n",
    "        print(\"My name is {0}\".format(self.name))\n",
    "        # 调用类的成员变量需要用 __class__\n",
    "        print(\"My age is {0}\".format(__class__.age))\n",
    "    def sayAgain():\n",
    "        print(__class__.name)\n",
    "        print(__class__.age )\n",
    "        print(\"Hello, nice to see you again\")\n",
    "        \n",
    "t = Teacher()\n",
    "t.say()\n",
    "# 调用绑定类函数使用类名\n",
    "Teacher.sayAgain()"
   ]
  },
  {
   "cell_type": "code",
   "execution_count": 52,
   "metadata": {},
   "outputs": [
    {
     "name": "stdout",
     "output_type": "stream",
     "text": [
      "liu yuxia\n",
      "200\n",
      "liu yuxia\n",
      "200\n",
      "zhu xianfu\n",
      "18\n",
      "liuliu\n",
      "90\n"
     ]
    }
   ],
   "source": [
    "# 关于self的案例\n",
    "\n",
    "class A():\n",
    "    name = \"zhu xianfu\"\n",
    "    age = 18\n",
    "    \n",
    "    def __init__(self):\n",
    "        self.name = \"liu yuxia\"\n",
    "        self.age = 200\n",
    "        \n",
    "    def say(self):\n",
    "        print(self.name)\n",
    "        print(self.age)\n",
    "        \n",
    "class B():\n",
    "    name = \"liuliu\"\n",
    "    age = 90\n",
    "    \n",
    "a = A()\n",
    "# 此时，系统会默认把a作为第一个参数传入函数\n",
    "a.say()\n",
    "   \n",
    "# 此时，self被a替换\n",
    "A.say(a)\n",
    "# 同样可以把A作为参数传入\n",
    "A.say(A)\n",
    "\n",
    "# 此时，传入的是类实例B，因为B具有name和age属性，所以不会报错\n",
    "A.say(B)\n",
    "\n",
    "# 以上代码，利用了鸭子模型"
   ]
  }
 ],
 "metadata": {
  "kernelspec": {
   "display_name": "Python 3",
   "language": "python",
   "name": "python3"
  },
  "language_info": {
   "codemirror_mode": {
    "name": "ipython",
    "version": 3
   },
   "file_extension": ".py",
   "mimetype": "text/x-python",
   "name": "python",
   "nbconvert_exporter": "python",
   "pygments_lexer": "ipython3",
   "version": "3.8.8"
  }
 },
 "nbformat": 4,
 "nbformat_minor": 2
}
