{
 "cells": [
  {
   "cell_type": "markdown",
   "id": "849a10a9",
   "metadata": {},
   "source": [
    "# Python 的内置模块\n",
    "- 不是内置的需要安装， pip, conda\n",
    "- 模块需要导入 import\n",
    "- from xx import  导入包中单个的功能函数"
   ]
  },
  {
   "cell_type": "code",
   "execution_count": 3,
   "id": "3b842a05",
   "metadata": {},
   "outputs": [],
   "source": [
    "# 导入包之后就能用包里面所有的属性和功能\n",
    "# import turtle\n",
    "\n",
    "# turtle.fd(200)\n",
    "# turtle.left(90)\n",
    "\n",
    "# 可以将包缩写\n",
    "import turtle as t\n",
    "\n",
    "t.fd(200)b\n",
    "t.left(90)"
   ]
  },
  {
   "cell_type": "code",
   "execution_count": 2,
   "id": "9649ba7f",
   "metadata": {},
   "outputs": [
    {
     "data": {
      "text/plain": [
       "time.struct_time(tm_year=2022, tm_mon=4, tm_mday=13, tm_hour=14, tm_min=56, tm_sec=28, tm_wday=2, tm_yday=103, tm_isdst=0)"
      ]
     },
     "execution_count": 2,
     "metadata": {},
     "output_type": "execute_result"
    }
   ],
   "source": [
    "import time\n",
    "\n",
    "time.localtime()\n",
    "\n"
   ]
  },
  {
   "cell_type": "code",
   "execution_count": null,
   "id": "6c40f03d",
   "metadata": {},
   "outputs": [],
   "source": [
    "from time import localtime"
   ]
  },
  {
   "cell_type": "markdown",
   "id": "9035d1d6",
   "metadata": {},
   "source": [
    "### calendar 日历\n",
    "- claendar: 获取一年的日历字符串\n",
    "- 参数\n",
    "        \n",
    "        w = 每个日期之间的间隔字符串\n",
    "        l = 每周所占用的行数\n",
    "        c = 每个月之间的间隔字符数"
   ]
  },
  {
   "cell_type": "code",
   "execution_count": 2,
   "id": "04aa6d42",
   "metadata": {},
   "outputs": [
    {
     "name": "stdout",
     "output_type": "stream",
     "text": [
      "                              2021\n",
      "\n",
      "      January               February               March\n",
      "Mo Tu We Th Fr Sa Su  Mo Tu We Th Fr Sa Su  Mo Tu We Th Fr Sa Su\n",
      "             1  2  3   1  2  3  4  5  6  7   1  2  3  4  5  6  7\n",
      " 4  5  6  7  8  9 10   8  9 10 11 12 13 14   8  9 10 11 12 13 14\n",
      "11 12 13 14 15 16 17  15 16 17 18 19 20 21  15 16 17 18 19 20 21\n",
      "18 19 20 21 22 23 24  22 23 24 25 26 27 28  22 23 24 25 26 27 28\n",
      "25 26 27 28 29 30 31                        29 30 31\n",
      "\n",
      "       April                  May                   June\n",
      "Mo Tu We Th Fr Sa Su  Mo Tu We Th Fr Sa Su  Mo Tu We Th Fr Sa Su\n",
      "          1  2  3  4                  1  2      1  2  3  4  5  6\n",
      " 5  6  7  8  9 10 11   3  4  5  6  7  8  9   7  8  9 10 11 12 13\n",
      "12 13 14 15 16 17 18  10 11 12 13 14 15 16  14 15 16 17 18 19 20\n",
      "19 20 21 22 23 24 25  17 18 19 20 21 22 23  21 22 23 24 25 26 27\n",
      "26 27 28 29 30        24 25 26 27 28 29 30  28 29 30\n",
      "                      31\n",
      "\n",
      "        July                 August              September\n",
      "Mo Tu We Th Fr Sa Su  Mo Tu We Th Fr Sa Su  Mo Tu We Th Fr Sa Su\n",
      "          1  2  3  4                     1         1  2  3  4  5\n",
      " 5  6  7  8  9 10 11   2  3  4  5  6  7  8   6  7  8  9 10 11 12\n",
      "12 13 14 15 16 17 18   9 10 11 12 13 14 15  13 14 15 16 17 18 19\n",
      "19 20 21 22 23 24 25  16 17 18 19 20 21 22  20 21 22 23 24 25 26\n",
      "26 27 28 29 30 31     23 24 25 26 27 28 29  27 28 29 30\n",
      "                      30 31\n",
      "\n",
      "      October               November              December\n",
      "Mo Tu We Th Fr Sa Su  Mo Tu We Th Fr Sa Su  Mo Tu We Th Fr Sa Su\n",
      "             1  2  3   1  2  3  4  5  6  7         1  2  3  4  5\n",
      " 4  5  6  7  8  9 10   8  9 10 11 12 13 14   6  7  8  9 10 11 12\n",
      "11 12 13 14 15 16 17  15 16 17 18 19 20 21  13 14 15 16 17 18 19\n",
      "18 19 20 21 22 23 24  22 23 24 25 26 27 28  20 21 22 23 24 25 26\n",
      "25 26 27 28 29 30 31  29 30                 27 28 29 30 31\n",
      "\n"
     ]
    }
   ],
   "source": [
    "import calendar\n",
    "\n",
    "cal = calendar.calendar(2021,w=0,l=0,c=0)\n",
    "print(cal)"
   ]
  },
  {
   "cell_type": "code",
   "execution_count": 4,
   "id": "b21cf589",
   "metadata": {},
   "outputs": [
    {
     "name": "stdout",
     "output_type": "stream",
     "text": [
      "True\n",
      "False\n"
     ]
    }
   ],
   "source": [
    "# 判断是不是闰年\n",
    "print(calendar.isleap(2020))\n",
    "print(calendar.isleap(2022))"
   ]
  },
  {
   "cell_type": "code",
   "execution_count": 5,
   "id": "24a69cda",
   "metadata": {
    "scrolled": true
   },
   "outputs": [
    {
     "name": "stdout",
     "output_type": "stream",
     "text": [
      "     April 2022\n",
      "Mo Tu We Th Fr Sa Su\n",
      "             1  2  3\n",
      " 4  5  6  7  8  9 10\n",
      "11 12 13 14 15 16 17\n",
      "18 19 20 21 22 23 24\n",
      "25 26 27 28 29 30\n",
      "\n"
     ]
    }
   ],
   "source": [
    "# 获取单个月\n",
    "cal = calendar.month(2022, 4)\n",
    "print(cal)"
   ]
  },
  {
   "cell_type": "markdown",
   "id": "a2d9d609",
   "metadata": {},
   "source": [
    "# time 时间模块\n",
    "- 时间戳：表示一个时间从1970,1月1日，0时0分0秒有多少秒数\n",
    "- UTC,时区，东8区\n",
    "- 夏令时， 节约能源\n",
    "- 时间元组， struct_time\n",
    "- struct_time\n",
    "\n",
    "         （年,月，日，时，分，秒，周几，一年中的第几天,是否是夏令时）\n",
    "          索引\t\t内容    属性\t\t\t值\n",
    "              0\t\t年\t\ttm_year\t\t2015\n",
    "              1\t\t月\t\ttm_mon\t\t1～12\n",
    "              2\t\t日\t\ttm_mday\t\t1～31\n",
    "              3\t\t时\t\ttm_hour\t\t0～23\n",
    "              4\t\t分\t\ttm_min\t\t0～59\n",
    "              5\t\t秒\t\ttm_sec\t\t0～61  60表示闰秒  61保留值\n",
    "              6\t\t周几\t\ttm_wday\t\t0～6\n",
    "              7\t\t第几天\ttm_yday\t\t1～366\n",
    "              8\t\t夏令时\ttm_isdst\t0，1，-1（表示夏令时）\n"
   ]
  },
  {
   "cell_type": "code",
   "execution_count": 12,
   "id": "3ffff106",
   "metadata": {},
   "outputs": [
    {
     "name": "stdout",
     "output_type": "stream",
     "text": [
      "1649903777.412493\n",
      "time.struct_time(tm_year=2022, tm_mon=4, tm_mday=14, tm_hour=10, tm_min=36, tm_sec=17, tm_wday=3, tm_yday=104, tm_isdst=0)\n"
     ]
    },
    {
     "data": {
      "text/plain": [
       "'Thu Apr 14 10:36:17 2022'"
      ]
     },
     "execution_count": 12,
     "metadata": {},
     "output_type": "execute_result"
    }
   ],
   "source": [
    "import time\n",
    "\n",
    "# 时间戳\n",
    "t = time.time()\n",
    "print(t)\n",
    "\n",
    "# 当地时间\n",
    "a = time.localtime()\n",
    "print(a)\n",
    "# 转换成字符串查看\n",
    "time.asctime(a)"
   ]
  },
  {
   "cell_type": "code",
   "execution_count": 19,
   "id": "46c6b22c",
   "metadata": {},
   "outputs": [
    {
     "name": "stdout",
     "output_type": "stream",
     "text": [
      "time.struct_time(tm_year=2022, tm_mon=4, tm_mday=14, tm_hour=10, tm_min=40, tm_sec=27, tm_wday=3, tm_yday=104, tm_isdst=0)\n",
      "2022\n",
      "4\n",
      "14\n",
      "2022\n",
      "27\n"
     ]
    }
   ],
   "source": [
    "# 当地时间\n",
    "a = time.localtime()\n",
    "print(a)\n",
    "\n",
    "# 调用可以通过属性名单独使用\n",
    "# 也可以当做元组使用下标索引调用\n",
    "\n",
    "print(a.tm_year)\n",
    "print(a.tm_mon)\n",
    "print(a.tm_mday)\n",
    "\n",
    "# 当做元组使用\n",
    "print(a[0])\n",
    "print(a[5])"
   ]
  },
  {
   "cell_type": "code",
   "execution_count": 25,
   "id": "23773798",
   "metadata": {},
   "outputs": [
    {
     "name": "stdout",
     "output_type": "stream",
     "text": [
      "Thu Apr 14 10:42:20 2022\n",
      "1649904140.0\n"
     ]
    }
   ],
   "source": [
    "import time\n",
    "\n",
    "# 直接获取当前的字符串\n",
    "\n",
    "t = time.ctime()\n",
    "print(t)\n",
    "\n",
    "# 转换成时间戳\n",
    "t = time.mktime(time.localtime())\n",
    "print(t)"
   ]
  },
  {
   "cell_type": "code",
   "execution_count": 29,
   "id": "e2276f8a",
   "metadata": {},
   "outputs": [
    {
     "name": "stdout",
     "output_type": "stream",
     "text": [
      "0\n",
      "1\n",
      "2\n",
      "3\n",
      "4\n",
      "5\n",
      "6\n",
      "7\n",
      "8\n",
      "9\n"
     ]
    }
   ],
   "source": [
    "import time as t\n",
    "\n",
    "# sleep 控制程序运行时间\n",
    "for i in range(10):\n",
    "    t.sleep(1)\n",
    "    print(i)"
   ]
  },
  {
   "cell_type": "markdown",
   "id": "e9707f12",
   "metadata": {},
   "source": [
    "# 格式：time.strftime(格式化字符串[,时间元组])\n",
    "      返回值：根据格式化字符串得到的时间字符串\n",
    "\n",
    "      格式\t含义\t备注\n",
    "      %a\t本地（locale）简化星期名称\t\n",
    "      %A\t本地完整星期名称\t\n",
    "      %b\t本地简化月份名称\t\n",
    "      %B\t本地完整月份名称\t\n",
    "      %c\t本地相应的日期和时间表示\t\n",
    "      %d\t一个月中的第几天（01 - 31）\t\n",
    "      %H\t一天中的第几个小时（24 小时制，00 - 23）\t\n",
    "      %I\t一天中的第几个小时（12 小时制，01 - 12）\t\n",
    "      %j\t一年中的第几天（001 - 366）\t\n",
    "      %m\t月份（01 - 12）\t\n",
    "      %M\t分钟数（00 - 59）\t\n",
    "      %p\t本地 am 或者 pm 的相应符\t注1\n",
    "      %S\t秒（01 - 61）\t注2\n",
    "      %U\t一年中的星期数（00 - 53 星期天是一个星期的开始）第一个星期天之前的所有天数都放在第 0 周\t注3\n",
    "      %w\t一个星期中的第几天（0 - 6，0 是星期天）\t注3\n",
    "      %W\t和 %U 基本相同，不同的是 %W 以星期一为一个星期的开始\t\n",
    "      %x\t本地相应日期\t\n",
    "      %X\t本地相应时间\t\n",
    "      %y\t去掉世纪的年份（00 - 99）\t\n",
    "      %Y\t完整的年份\t\n",
    "      %z\t用 +HHMM 或 -HHMM 表示距离格林威治的时区偏移（H 代表十进制的小时数，M 代表十进制的分钟数）\t\t"
   ]
  },
  {
   "cell_type": "code",
   "execution_count": 35,
   "id": "799c2c2d",
   "metadata": {},
   "outputs": [
    {
     "name": "stdout",
     "output_type": "stream",
     "text": [
      "I love liu yuxia\n",
      "I love liu yu xia\n",
      "公园%Y年%m月%d日，zhu xianfu在shanghai一游\n",
      "公园2022年04月14日，zhu xianfu在shanghai一游\n"
     ]
    }
   ],
   "source": [
    "import time as t\n",
    "\n",
    "# 字符串格式化\n",
    "s = 'I love liu yuxia'\n",
    "print(s)\n",
    "\n",
    "s = 'I love %s'\n",
    "print(s%'liu yu xia')\n",
    "\n",
    "# 时间格式化\n",
    "# strftime\n",
    "\n",
    "s  = '公园%Y年%m月%d日，{}在{}一游'.format('zhu xianfu', 'shanghai')\n",
    "print(s) # 没有参数则当做本身打印\n",
    "s = time.strftime(s, time.localtime())\n",
    "print(s)\n",
    "\n",
    "s = time.strftime(s, time.localtime())\n",
    "print(s)"
   ]
  },
  {
   "cell_type": "markdown",
   "id": "3cf231a9",
   "metadata": {},
   "source": [
    "### datetime， time模块的高级封装\n",
    "    datetime.MINYEAR 和 datetime.MAXYEAR 模块常量表示datetime接受的范围\n",
    "    class datetime.date: 一个理想化的日期, 提供year, month, day属性\n",
    "    class datetime.time: 一个理想化的时间, 提供hour, minute, second, microsecond, tzinfo.\n",
    "    class datetime.datetime: 日期和时间的组合.提供year, month, day, hour, minute, second, microsecond, tzinfo.\n",
    "    class datetime.timedelta: 表达两个date,time和datetime持续时间内的微妙差异.\n",
    "    class datetime.tzinfo: 时间对象的抽象基类.\n",
    "    datetime.date(y, m, d)"
   ]
  },
  {
   "cell_type": "code",
   "execution_count": 47,
   "id": "b5160e68",
   "metadata": {},
   "outputs": [
    {
     "name": "stdout",
     "output_type": "stream",
     "text": [
      "2022-04-14 11:14:17.181292\n"
     ]
    }
   ],
   "source": [
    "from datetime import datetime as dt, timedelta\n",
    "\n",
    "print(dt.now())"
   ]
  },
  {
   "cell_type": "markdown",
   "id": "47239840",
   "metadata": {},
   "source": [
    "### 字面理解上：\n",
    "### datetime.datetime = datetime.time + datetime.date"
   ]
  },
  {
   "cell_type": "markdown",
   "id": "8e94227d",
   "metadata": {},
   "source": [
    "### datetime.timedelta\n",
    "- 该函数表示两个时间的间隔\n",
    "- 参数可选、默认值都为0：\n",
    "\n",
    "         datetime.timedelta(days=0, seconds=0, microseconds=0,     milliseconds=0, minutes=0, hours=0, weeks=0)"
   ]
  },
  {
   "cell_type": "code",
   "execution_count": 50,
   "id": "9cc55239",
   "metadata": {},
   "outputs": [
    {
     "name": "stdout",
     "output_type": "stream",
     "text": [
      "2022-04-14 11:19:34.785178\n",
      "22-04-14 11:19:34\n",
      "22-04-14 12:19:34\n"
     ]
    }
   ],
   "source": [
    "# 表示当前时间和一个小时之后的时间\n",
    "from datetime import datetime,timedelta\n",
    "\n",
    "t1 = datetime.now()\n",
    "\n",
    "print(t1)\n",
    "print (t1.strftime(\"%y-%m-%d %H:%M:%S\"))\n",
    "print ((t1+timedelta(hours =1)).strftime(\"%y-%m-%d %H:%M:%S\"))\n"
   ]
  },
  {
   "cell_type": "markdown",
   "id": "29d00360",
   "metadata": {},
   "source": [
    "### timeit 用当自作代码执行时间测量工具，即用来测试代码的运行时间。 \n",
    "- timeit.timeit用来具体测量代码执行时间。"
   ]
  },
  {
   "cell_type": "code",
   "execution_count": 46,
   "id": "787db919",
   "metadata": {},
   "outputs": [
    {
     "name": "stdout",
     "output_type": "stream",
     "text": [
      "1.0171875589999217\n"
     ]
    }
   ],
   "source": [
    "# 检测代码的执行时间模块\n",
    "\n",
    "import timeit\n",
    "c = '''\n",
    "sum = []\n",
    "for i in range(100):\n",
    "    sum.append(i)\n",
    "'''\n",
    "\n",
    "# 第一个参数是检测的程序块，第二个参数是执行的次数\n",
    "t1 = timeit.timeit(stmt=c, number=100000)\n",
    "print(t1)"
   ]
  }
 ],
 "metadata": {
  "kernelspec": {
   "display_name": "Python 3",
   "language": "python",
   "name": "python3"
  },
  "language_info": {
   "codemirror_mode": {
    "name": "ipython",
    "version": 3
   },
   "file_extension": ".py",
   "mimetype": "text/x-python",
   "name": "python",
   "nbconvert_exporter": "python",
   "pygments_lexer": "ipython3",
   "version": "3.8.8"
  }
 },
 "nbformat": 4,
 "nbformat_minor": 5
}
