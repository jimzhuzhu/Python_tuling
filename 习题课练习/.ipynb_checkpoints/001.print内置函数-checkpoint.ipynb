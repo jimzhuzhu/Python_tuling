{
 "cells": [
  {
   "cell_type": "code",
   "execution_count": 3,
   "id": "e56ec167",
   "metadata": {},
   "outputs": [
    {
     "name": "stdout",
     "output_type": "stream",
     "text": [
      "hello world\n"
     ]
    }
   ],
   "source": [
    "print('hello world')"
   ]
  },
  {
   "cell_type": "code",
   "execution_count": 4,
   "id": "bfcfae13",
   "metadata": {},
   "outputs": [
    {
     "name": "stdout",
     "output_type": "stream",
     "text": [
      "今天是个好日子呀\n"
     ]
    }
   ],
   "source": [
    "print(\"今天是个好日子呀\")"
   ]
  },
  {
   "cell_type": "code",
   "execution_count": 5,
   "id": "cac502b7",
   "metadata": {},
   "outputs": [
    {
     "name": "stdout",
     "output_type": "stream",
     "text": [
      "liuyuxialiuyuxialiuyuxialiuyuxialiuyuxia\n"
     ]
    }
   ],
   "source": [
    "print(\"liuyuxia\" * 5)\n",
    "\n",
    "# print('liuyuxia+5')是错误的"
   ]
  },
  {
   "cell_type": "code",
   "execution_count": 7,
   "id": "e8701e0b",
   "metadata": {},
   "outputs": [
    {
     "name": "stdout",
     "output_type": "stream",
     "text": [
      "\"\n",
      "我就是想打印一个\"号\n"
     ]
    }
   ],
   "source": [
    "# \\ 反斜杠转义字符\n",
    "print(\"\\\"\")\n",
    "print(\"我就是想打印一个\\\"号\") # 反斜杠转义字符"
   ]
  },
  {
   "cell_type": "code",
   "execution_count": null,
   "id": "91b4efaf",
   "metadata": {},
   "outputs": [],
   "source": []
  }
 ],
 "metadata": {
  "kernelspec": {
   "display_name": "Python 3",
   "language": "python",
   "name": "python3"
  },
  "language_info": {
   "codemirror_mode": {
    "name": "ipython",
    "version": 3
   },
   "file_extension": ".py",
   "mimetype": "text/x-python",
   "name": "python",
   "nbconvert_exporter": "python",
   "pygments_lexer": "ipython3",
   "version": "3.8.8"
  }
 },
 "nbformat": 4,
 "nbformat_minor": 5
}
