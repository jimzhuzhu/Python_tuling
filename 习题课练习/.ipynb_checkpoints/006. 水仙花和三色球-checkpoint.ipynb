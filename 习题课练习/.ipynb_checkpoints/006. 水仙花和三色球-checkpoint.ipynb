{
 "cells": [
  {
   "cell_type": "markdown",
   "id": "73659599",
   "metadata": {},
   "source": [
    "### 编写一个程序，求100-999之间的所有水仙花数\n",
    "- 如果一个3位数等于其各位数字的立方和，则称这个数为水仙花数，例如：153 = 1^3+5^3+3^3,因此153就是一个水仙花数"
   ]
  },
  {
   "cell_type": "code",
   "execution_count": 34,
   "id": "cfb540d3",
   "metadata": {},
   "outputs": [
    {
     "name": "stdout",
     "output_type": "stream",
     "text": [
      "153\n",
      "370\n",
      "371\n",
      "407\n"
     ]
    }
   ],
   "source": [
    "ls = range(100, 1000)\n",
    "for i in ls:\n",
    "    # 通过列表创建一个嵌套列表\n",
    "    temp = list(str(i))\n",
    "    # 将str转化成int，才能做运算\n",
    "    a = int(temp[0])\n",
    "    b = int(temp[1])\n",
    "    c = int(temp[2])\n",
    "    if a**3 + b**3 + c**3 == i:\n",
    "        print(i)"
   ]
  },
  {
   "cell_type": "markdown",
   "id": "c5beda42",
   "metadata": {},
   "source": [
    "### 三色球问题\n",
    "- 有红、黄、蓝三种颜色的球，其中红球3个，黄球3个，绿球6个，先将这12个球混合放在一个盒子里，从中任意摸出8球，编程计算摸出球的各种颜色搭配"
   ]
  },
  {
   "cell_type": "code",
   "execution_count": 36,
   "id": "6822994e",
   "metadata": {},
   "outputs": [
    {
     "name": "stdout",
     "output_type": "stream",
     "text": [
      "红球有0个,黄球有2个,绿球有6个！\n",
      "红球有0个,黄球有3个,绿球有5个！\n",
      "红球有1个,黄球有1个,绿球有6个！\n",
      "红球有1个,黄球有2个,绿球有5个！\n",
      "红球有1个,黄球有3个,绿球有4个！\n",
      "红球有2个,黄球有0个,绿球有6个！\n",
      "红球有2个,黄球有1个,绿球有5个！\n",
      "红球有2个,黄球有2个,绿球有4个！\n",
      "红球有2个,黄球有3个,绿球有3个！\n",
      "红球有3个,黄球有0个,绿球有5个！\n",
      "红球有3个,黄球有1个,绿球有4个！\n",
      "红球有3个,黄球有2个,绿球有3个！\n",
      "红球有3个,黄球有3个,绿球有2个！\n"
     ]
    }
   ],
   "source": [
    "for red in range(4):\n",
    "    for yellow in range(4):\n",
    "        for green in range(2,7): # 摸了8个，黄球肯定有2个\n",
    "            if red + yellow + green == 8:\n",
    "                print(f'红球有{red}个,黄球有{yellow}个,绿球有{green}个！')"
   ]
  }
 ],
 "metadata": {
  "kernelspec": {
   "display_name": "Python 3",
   "language": "python",
   "name": "python3"
  },
  "language_info": {
   "codemirror_mode": {
    "name": "ipython",
    "version": 3
   },
   "file_extension": ".py",
   "mimetype": "text/x-python",
   "name": "python",
   "nbconvert_exporter": "python",
   "pygments_lexer": "ipython3",
   "version": "3.8.8"
  }
 },
 "nbformat": 4,
 "nbformat_minor": 5
}
