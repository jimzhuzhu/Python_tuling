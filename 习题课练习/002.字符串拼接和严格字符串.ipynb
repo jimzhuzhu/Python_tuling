{
 "cells": [
  {
   "cell_type": "markdown",
   "id": "775b0fd8",
   "metadata": {},
   "source": [
    "# Python 中提供了 68个BIF内建函数"
   ]
  },
  {
   "cell_type": "markdown",
   "id": "2c1d4e2b",
   "metadata": {},
   "source": [
    "## ”Tuling\" 和 \"tuling\" 是不一样的\n",
    "- 变量有大小写区分"
   ]
  },
  {
   "cell_type": "code",
   "execution_count": 19,
   "id": "60f7475b",
   "metadata": {},
   "outputs": [
    {
     "data": {
      "text/plain": [
       "False"
      ]
     },
     "execution_count": 19,
     "metadata": {},
     "output_type": "execute_result"
    }
   ],
   "source": [
    "# \"=\" 和 \"==\" 区别\n",
    "# \"=\" 等号是用来赋值的\n",
    "# \" == \" 是用来判断两个对象是否相等\n",
    "a = 1\n",
    "b = 'hah'\n",
    "a == b"
   ]
  },
  {
   "cell_type": "markdown",
   "id": "e6e6192b",
   "metadata": {},
   "source": [
    "# 了解字符串拼接"
   ]
  },
  {
   "cell_type": "code",
   "execution_count": 20,
   "id": "bc4dcdbf",
   "metadata": {},
   "outputs": [
    {
     "name": "stdout",
     "output_type": "stream",
     "text": [
      "我喜欢刘雨霞,她也很喜欢我\n",
      "我喜欢liuxiaoxia, 他也很喜欢我\n"
     ]
    }
   ],
   "source": [
    "# 字符串的拼接\n",
    "a = '我喜欢{name},她也很喜欢我'.format(name='刘雨霞')\n",
    "b = \"我喜欢\" + \"liuxiaoxia\" + \", 他也很喜欢我\"\n",
    "print(a)\n",
    "print(b)"
   ]
  },
  {
   "cell_type": "code",
   "execution_count": 21,
   "id": "e109b105",
   "metadata": {},
   "outputs": [
    {
     "name": "stdout",
     "output_type": "stream",
     "text": [
      "请输入你的姓名liuyuxia\n",
      "Hello,liuyuxia\n",
      "Helloliuyuxia\n"
     ]
    }
   ],
   "source": [
    "# 编写程序，要求用户输入姓名并打印”你好，姓名“\n",
    "\n",
    "name = input(\"请输入你的姓名\")\n",
    "print(\"Hello,\" + name)\n",
    "print('Hello,{}'.format(name))"
   ]
  },
  {
   "cell_type": "markdown",
   "id": "c7935502",
   "metadata": {},
   "source": [
    "### 编写程序，要求用户输入1-100之间的整数并且判断，输入符号要求的打印你好呀，否则打印你个笨蛋，字都不认识"
   ]
  },
  {
   "cell_type": "code",
   "execution_count": 32,
   "id": "6f85e08d",
   "metadata": {},
   "outputs": [
    {
     "name": "stdout",
     "output_type": "stream",
     "text": [
      "请输入1-100之间的整数haha1\n",
      "真是一个笨蛋，字都不认识\n"
     ]
    }
   ],
   "source": [
    "# 判断数字,需要先判断是否输入的是数字，然后进行类型转化\n",
    "number = input('请输入1-100之间的整数')\n",
    "# isdigit 判断用户输入的字符串里面是否都是数字\n",
    "if number.isdigit():\n",
    "    number = int(number)\n",
    "    if 1 <= number <= 100:\n",
    "        print('你好呀')\n",
    "    else:\n",
    "        print('数字太大啦')\n",
    "else:\n",
    "    print('真是一个笨蛋，字都不认识')"
   ]
  },
  {
   "cell_type": "code",
   "execution_count": null,
   "id": "d0ff8ec9",
   "metadata": {},
   "outputs": [],
   "source": []
  },
  {
   "cell_type": "code",
   "execution_count": null,
   "id": "64a55a24",
   "metadata": {},
   "outputs": [],
   "source": []
  }
 ],
 "metadata": {
  "kernelspec": {
   "display_name": "Python 3",
   "language": "python",
   "name": "python3"
  },
  "language_info": {
   "codemirror_mode": {
    "name": "ipython",
    "version": 3
   },
   "file_extension": ".py",
   "mimetype": "text/x-python",
   "name": "python",
   "nbconvert_exporter": "python",
   "pygments_lexer": "ipython3",
   "version": "3.8.8"
  }
 },
 "nbformat": 4,
 "nbformat_minor": 5
}
