{
 "cells": [
  {
   "cell_type": "markdown",
   "id": "ec23f17c",
   "metadata": {},
   "source": [
    "### 等价表达式 判断是否相等"
   ]
  },
  {
   "cell_type": "code",
   "execution_count": 2,
   "id": "83492a46",
   "metadata": {},
   "outputs": [
    {
     "name": "stdout",
     "output_type": "stream",
     "text": [
      "请输入你的数字11\n",
      "<class 'int'>\n",
      "True\n",
      "True\n",
      "3\n"
     ]
    }
   ],
   "source": [
    "cost = input(\"请输入你的数字\")\n",
    "cost= int(cost)\n",
    "print(type(cost))\n",
    "# 方法一\n",
    "if 10 < cost < 50:\n",
    "    print(True)\n",
    "else:\n",
    "    print(False)\n",
    "\n",
    "# 方法二：\n",
    "if (10 < cost) and (cost < 50):\n",
    "    print(True)\n",
    "else:\n",
    "    print(False)"
   ]
  },
  {
   "cell_type": "markdown",
   "id": "eba78ec3",
   "metadata": {},
   "source": [
    "### 使用int()将小数转换为整数，结果是向上取整还是向下取整"
   ]
  },
  {
   "cell_type": "code",
   "execution_count": null,
   "id": "a143ba70",
   "metadata": {},
   "outputs": [],
   "source": [
    "print(int(3.4))\n",
    "# 向下取整\n",
    "print(int(4.9))"
   ]
  },
  {
   "cell_type": "markdown",
   "id": "44be5ad7",
   "metadata": {},
   "source": [
    "### 判断给定的年份是否为闰年\n",
    "- 闰年的定义：能够被四整除的年份"
   ]
  },
  {
   "cell_type": "code",
   "execution_count": 38,
   "id": "825026c1",
   "metadata": {},
   "outputs": [
    {
     "name": "stdout",
     "output_type": "stream",
     "text": [
      "请输入11\n",
      "11\n",
      "<class 'str'>\n",
      "11\n",
      "<class 'int'>\n"
     ]
    }
   ],
   "source": [
    "a = input('请输入')\n",
    "print(a)\n",
    "print(type(a))\n",
    "a = int(a)\n",
    "print(a)\n",
    "print(type(a))"
   ]
  },
  {
   "cell_type": "code",
   "execution_count": 40,
   "id": "aad10b9d",
   "metadata": {},
   "outputs": [
    {
     "name": "stdout",
     "output_type": "stream",
     "text": [
      "请输入年份22\n",
      "22不是闰年\n",
      "请重新输入年份23\n",
      "23不是闰年\n",
      "请重新输入年份24\n",
      "24这是闰年\n"
     ]
    }
   ],
   "source": [
    "year = (input('请输入年份'))\n",
    "while True:\n",
    "    if year.isdigit():\n",
    "        year = int(year)\n",
    "        if year % 4 == 0:\n",
    "            print('{}这是闰年'.format(year))\n",
    "            break\n",
    "        else:\n",
    "            print('{}不是闰年'.format(year))\n",
    "            \n",
    "    year = input(\"请重新输入年份\")"
   ]
  },
  {
   "cell_type": "markdown",
   "id": "781dbbb2",
   "metadata": {},
   "source": [
    "### 给用户三次机会，猜想我们程序生成的一个数字A,每次用户猜想过后会提示数字是否正确以及用户输入的数字是大还是小，当机会用尽后会提示用户已经输掉了游戏"
   ]
  },
  {
   "cell_type": "code",
   "execution_count": 71,
   "id": "06dfe472",
   "metadata": {},
   "outputs": [
    {
     "name": "stdout",
     "output_type": "stream",
     "text": [
      "请输入次数10\n",
      "请从1-100里猜数：50\n",
      "你猜的数字太小了\n",
      "请从1-100里猜数：75\n",
      "你猜的数字太小了\n",
      "请从1-100里猜数：85\n",
      "你猜的数字太小了\n",
      "请从1-100里猜数：90\n",
      "你猜的数字太小了\n",
      "请从1-100里猜数：95\n",
      "你猜的数字太小了\n",
      "请从1-100里猜数：97\n",
      "你猜的数字太小了\n",
      "请从1-100里猜数：99\n",
      "你猜的数字太小了\n",
      "请从1-100里猜数：100\n",
      "恭喜你，猜对啦\n"
     ]
    }
   ],
   "source": [
    "# import random\n",
    "secret = random.randint(1,100)# 计算机生成一个随机数\n",
    "t = input('请输入次数') \n",
    "t = int(t) # 初始化用户的次数是3次\n",
    "while t:\n",
    "    n = input('请从1-100里猜数：')\n",
    "    if n.isdigit():\n",
    "        n = int(n)\n",
    "        if n == secret:\n",
    "            print('恭喜你，猜对啦')\n",
    "            break\n",
    "        elif n > secret:\n",
    "            print('你猜的数字太大了')\n",
    "            t -= 1\n",
    "        elif n < secret:\n",
    "            print('你猜的数字太小了')\n",
    "            t -= 1\n",
    "    else:\n",
    "        print('眼睛看仔细了！')\n",
    "        t -= 1\n"
   ]
  }
 ],
 "metadata": {
  "kernelspec": {
   "display_name": "Python 3",
   "language": "python",
   "name": "python3"
  },
  "language_info": {
   "codemirror_mode": {
    "name": "ipython",
    "version": 3
   },
   "file_extension": ".py",
   "mimetype": "text/x-python",
   "name": "python",
   "nbconvert_exporter": "python",
   "pygments_lexer": "ipython3",
   "version": "3.8.8"
  }
 },
 "nbformat": 4,
 "nbformat_minor": 5
}
