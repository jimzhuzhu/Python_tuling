{
 "cells": [
  {
   "cell_type": "markdown",
   "id": "47254b1b",
   "metadata": {},
   "source": [
    "### 写一个程序，求出0-100所有奇数"
   ]
  },
  {
   "cell_type": "code",
   "execution_count": 33,
   "id": "d99067cf",
   "metadata": {},
   "outputs": [
    {
     "name": "stdout",
     "output_type": "stream",
     "text": [
      "0是偶数|1是奇数|2是偶数|3是奇数|4是偶数|5是奇数|6是偶数|7是奇数|8是偶数|9是奇数|10是偶数|11是奇数|12是偶数|13是奇数|14是偶数|15是奇数|16是偶数|17是奇数|18是偶数|19是奇数|20是偶数|21是奇数|22是偶数|23是奇数|24是偶数|25是奇数|26是偶数|27是奇数|28是偶数|29是奇数|30是偶数|31是奇数|32是偶数|33是奇数|34是偶数|35是奇数|36是偶数|37是奇数|38是偶数|39是奇数|40是偶数|41是奇数|42是偶数|43是奇数|44是偶数|45是奇数|46是偶数|47是奇数|48是偶数|49是奇数|50是偶数|51是奇数|52是偶数|53是奇数|54是偶数|55是奇数|56是偶数|57是奇数|58是偶数|59是奇数|60是偶数|61是奇数|62是偶数|63是奇数|64是偶数|65是奇数|66是偶数|67是奇数|68是偶数|69是奇数|70是偶数|71是奇数|72是偶数|73是奇数|74是偶数|75是奇数|76是偶数|77是奇数|78是偶数|79是奇数|80是偶数|81是奇数|82是偶数|83是奇数|84是偶数|85是奇数|86是偶数|87是奇数|88是偶数|89是奇数|90是偶数|91是奇数|92是偶数|93是奇数|94是偶数|95是奇数|96是偶数|97是奇数|98是偶数|99是奇数|100是偶数|"
     ]
    }
   ],
   "source": [
    "for i in range(101):\n",
    "    if i % 2 == 1:\n",
    "        print('{}是奇数'.format(i),end='|')\n",
    "    else:\n",
    "        print('{}是偶数'.format(i),end='|')"
   ]
  },
  {
   "cell_type": "code",
   "execution_count": 4,
   "id": "02318246",
   "metadata": {},
   "outputs": [
    {
     "name": "stdout",
     "output_type": "stream",
     "text": [
      "0是偶数 1是奇数 2是偶数 3是奇数 4是偶数 5是奇数 6是偶数 7是奇数 8是偶数 9是奇数 10是偶数 11是奇数 12是偶数 13是奇数 14是偶数 15是奇数 16是偶数 17是奇数 18是偶数 19是奇数 20是偶数 21是奇数 22是偶数 23是奇数 24是偶数 25是奇数 26是偶数 27是奇数 28是偶数 29是奇数 30是偶数 31是奇数 32是偶数 33是奇数 34是偶数 35是奇数 36是偶数 37是奇数 38是偶数 39是奇数 40是偶数 41是奇数 42是偶数 43是奇数 44是偶数 45是奇数 46是偶数 47是奇数 48是偶数 49是奇数 50是偶数 51是奇数 52是偶数 53是奇数 54是偶数 55是奇数 56是偶数 57是奇数 58是偶数 59是奇数 60是偶数 61是奇数 62是偶数 63是奇数 64是偶数 65是奇数 66是偶数 67是奇数 68是偶数 69是奇数 70是偶数 71是奇数 72是偶数 73是奇数 74是偶数 75是奇数 76是偶数 77是奇数 78是偶数 79是奇数 80是偶数 81是奇数 82是偶数 83是奇数 84是偶数 85是奇数 86是偶数 87是奇数 88是偶数 89是奇数 90是偶数 91是奇数 92是偶数 93是奇数 94是偶数 95是奇数 96是偶数 97是奇数 98是偶数 99是奇数 100是偶数 "
     ]
    }
   ],
   "source": [
    "for i in range(0,101):\n",
    "    if i % 2 == 1:\n",
    "        print('{}是奇数'.format(i),end=' ')\n",
    "    else:\n",
    "        print('{}是偶数'.format(i),end=' ')"
   ]
  },
  {
   "cell_type": "markdown",
   "id": "3de747df",
   "metadata": {},
   "source": [
    "### 爱因斯坦曾出过这样一道数学题：有一个长阶梯，每步上2阶，最后剩余1阶；如果每步上3阶，最后剩2阶；每步上5阶，最后剩4阶，每步上6阶，最后剩5阶，只有每步上7阶，最后刚好一阶不剩。\n",
    "- 编写程序求该阶段至少有多少阶"
   ]
  },
  {
   "cell_type": "code",
   "execution_count": 20,
   "id": "15b9e7d4",
   "metadata": {},
   "outputs": [
    {
     "name": "stdout",
     "output_type": "stream",
     "text": [
      "119\n",
      "循环结束\n"
     ]
    }
   ],
   "source": [
    "j = range(0,100000) # 生成队列\n",
    "for i in j:\n",
    "    if (i%2==1) and (i%3==2) and (i%5==4) and (i%6==5) and (i%7==0):\n",
    "        print(i)\n",
    "        break\n",
    "    else:\n",
    "        pass\n",
    "print('循环结束')"
   ]
  },
  {
   "cell_type": "code",
   "execution_count": 26,
   "id": "19d1f97a",
   "metadata": {},
   "outputs": [
    {
     "name": "stdout",
     "output_type": "stream",
     "text": [
      "119|329|539|749|959|\n",
      "循环结束\n"
     ]
    }
   ],
   "source": [
    "j = range(0,1000) # 生成队列\n",
    "for i in j:\n",
    "    if (i%2==1) and (i%3==2) and (i%5==4) and (i%6==5) and (i%7==0):\n",
    "        print(i,end='|')\n",
    "        continue\n",
    "    else:\n",
    "        pass\n",
    "print()\n",
    "print('循环结束')"
   ]
  },
  {
   "cell_type": "code",
   "execution_count": 28,
   "id": "8cf3fd04",
   "metadata": {},
   "outputs": [
    {
     "name": "stdout",
     "output_type": "stream",
     "text": [
      "119|329|539|749|959|\n",
      "循环结束\n"
     ]
    }
   ],
   "source": [
    "j = range(0,1000) # 生成队列\n",
    "for i in j:\n",
    "    if (i%2==1) \\\n",
    "    and (i%3==2) \\\n",
    "    and (i%5==4) \\\n",
    "    and (i%6==5) \\\n",
    "    and (i%7==0):\n",
    "        print(i,end='|')\n",
    "        \n",
    "    else:\n",
    "        pass\n",
    "print()\n",
    "print('循环结束')"
   ]
  }
 ],
 "metadata": {
  "kernelspec": {
   "display_name": "Python 3",
   "language": "python",
   "name": "python3"
  },
  "language_info": {
   "codemirror_mode": {
    "name": "ipython",
    "version": 3
   },
   "file_extension": ".py",
   "mimetype": "text/x-python",
   "name": "python",
   "nbconvert_exporter": "python",
   "pygments_lexer": "ipython3",
   "version": "3.8.8"
  }
 },
 "nbformat": 4,
 "nbformat_minor": 5
}
