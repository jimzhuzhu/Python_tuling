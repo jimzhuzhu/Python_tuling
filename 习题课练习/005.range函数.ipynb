{
 "cells": [
  {
   "cell_type": "markdown",
   "id": "c2e6c290",
   "metadata": {},
   "source": [
    "### 这行代码是什么意思"
   ]
  },
  {
   "cell_type": "code",
   "execution_count": 5,
   "id": "e57ee4d9",
   "metadata": {},
   "outputs": [
    {
     "ename": "IndentationError",
     "evalue": "unexpected indent (<ipython-input-5-0ab02ff5a7fe>, line 5)",
     "output_type": "error",
     "traceback": [
      "\u001b[0;36m  File \u001b[0;32m\"<ipython-input-5-0ab02ff5a7fe>\"\u001b[0;36m, line \u001b[0;32m5\u001b[0m\n\u001b[0;31m    ssa1da\u001b[0m\n\u001b[0m    ^\u001b[0m\n\u001b[0;31mIndentationError\u001b[0m\u001b[0;31m:\u001b[0m unexpected indent\n"
     ]
    }
   ],
   "source": [
    "money = 99\n",
    "if not (money<100):\n",
    "    pass\n",
    "\n",
    "# 相当于money>= 100"
   ]
  },
  {
   "cell_type": "markdown",
   "id": "57af67b4",
   "metadata": {},
   "source": [
    "### 假设有x=1, y=2, z=3, 如何快熟将三个变量的值相互交换？"
   ]
  },
  {
   "cell_type": "code",
   "execution_count": 6,
   "id": "d8c220e5",
   "metadata": {},
   "outputs": [
    {
     "name": "stdout",
     "output_type": "stream",
     "text": [
      "3 1 2\n"
     ]
    }
   ],
   "source": [
    "x = 1\n",
    "y = 2\n",
    "z = 3\n",
    "x,y,z = z,x,y\n",
    "print(x,y,z)"
   ]
  },
  {
   "cell_type": "markdown",
   "id": "f9cb2728",
   "metadata": {},
   "source": [
    "### 成员运算符 'in'的用法"
   ]
  },
  {
   "cell_type": "code",
   "execution_count": 8,
   "id": "11831196",
   "metadata": {},
   "outputs": [
    {
     "name": "stdout",
     "output_type": "stream",
     "text": [
      "False\n",
      "True\n"
     ]
    }
   ],
   "source": [
    "# 用于布尔运算\n",
    "ls = range(100)\n",
    "# 判断100是否在range列表里\n",
    "if 100 in ls:\n",
    "    print(True)\n",
    "else:\n",
    "    print(False)\n",
    "    \n",
    "if 100 not in ls:\n",
    "    print(True)\n",
    "else:\n",
    "    print(False)"
   ]
  },
  {
   "cell_type": "markdown",
   "id": "9407171c",
   "metadata": {},
   "source": [
    "### range函数"
   ]
  },
  {
   "cell_type": "code",
   "execution_count": 11,
   "id": "8cd0cd84",
   "metadata": {},
   "outputs": [
    {
     "name": "stdout",
     "output_type": "stream",
     "text": [
      "0 2 4 6 8 "
     ]
    }
   ],
   "source": [
    "# 可以传递三个参数,\n",
    "# 起始位置包括，结束位置不包括，步幅\n",
    "n = range(0,10,2)\n",
    "for i in n:\n",
    "    print(i,end=' ')"
   ]
  },
  {
   "cell_type": "markdown",
   "id": "efc929bc",
   "metadata": {},
   "source": [
    "### 下面的循环会打印多少次'Tuling'\n",
    "        \n",
    "        for i in range(0,10,2):\n",
    "            print('Tuling')"
   ]
  },
  {
   "cell_type": "code",
   "execution_count": 12,
   "id": "b2db0d7d",
   "metadata": {},
   "outputs": [
    {
     "name": "stdout",
     "output_type": "stream",
     "text": [
      "Tuling\n",
      "Tuling\n",
      "Tuling\n",
      "Tuling\n",
      "Tuling\n"
     ]
    }
   ],
   "source": [
    "for i in range(0,10,2):\n",
    "    print('Tuling')"
   ]
  },
  {
   "cell_type": "markdown",
   "id": "8e18ee2b",
   "metadata": {},
   "source": [
    "### 目测下程序会打印出什么\n",
    "\n",
    "`\n",
    "While True:\n",
    "    While TrueL\n",
    "        break\n",
    "        print(1)\n",
    "    print(2)\n",
    "    break\n",
    "print(3)\n",
    "`"
   ]
  },
  {
   "cell_type": "code",
   "execution_count": 14,
   "id": "10178298",
   "metadata": {},
   "outputs": [
    {
     "name": "stdout",
     "output_type": "stream",
     "text": [
      "2\n",
      "3\n"
     ]
    }
   ],
   "source": [
    "while True:\n",
    "    while True:\n",
    "        break\n",
    "        print(1)\n",
    "    print(2)\n",
    "    break\n",
    "print(3)\n",
    "# 打印出 数字2 再打印出3"
   ]
  },
  {
   "cell_type": "markdown",
   "id": "988fd1eb",
   "metadata": {},
   "source": [
    "### 从代码效率的方面考虑，以下代码有什么问题，如何改进？\n",
    "`\n",
    "i = 0\n",
    "string = 'l love liuyuxia'\n",
    "while i < len(string):\n",
    "    print(i)\n",
    "    i += 1\n",
    "`"
   ]
  },
  {
   "cell_type": "code",
   "execution_count": 16,
   "id": "d127bfea",
   "metadata": {},
   "outputs": [
    {
     "name": "stdout",
     "output_type": "stream",
     "text": [
      "0\n",
      "1\n",
      "2\n",
      "3\n",
      "4\n",
      "5\n",
      "6\n",
      "7\n",
      "8\n",
      "9\n",
      "10\n",
      "11\n",
      "12\n",
      "13\n",
      "14\n"
     ]
    }
   ],
   "source": [
    "# 提前计算出字符串的长度，避免每次循环都要进行调用计算\n",
    "i = 0\n",
    "string = 'I love liuyuxia'\n",
    "leng = len(string)\n",
    "while i < leng:\n",
    "    print(i)\n",
    "    i += 1"
   ]
  },
  {
   "cell_type": "markdown",
   "id": "ab8b84b1",
   "metadata": {},
   "source": [
    "### 设计一个验证用户密码的程序，用户只有三次机会输入错误，不过如果用户输入内容包括特殊字符则不计算在内"
   ]
  },
  {
   "cell_type": "code",
   "execution_count": null,
   "id": "f9b44471",
   "metadata": {},
   "outputs": [],
   "source": [
    "t = 3\n",
    "pw = 'zhuailiu1414'\n",
    "while t:\n",
    "    input_pw = input('请验证用户密码')\n",
    "    if '*' in input_pw:\n",
    "        print('密码中有特殊字符，请重新输入')\n",
    "    elif input_pw == pw:\n",
    "        print('密码验证成功')\n",
    "        break\n",
    "    else:\n",
    "        t = t - 1\n",
    "        if t == 0:\n",
    "            print('验证失败')\n",
    "            break\n",
    "        print('还有{}次机会'.format(t))"
   ]
  }
 ],
 "metadata": {
  "kernelspec": {
   "display_name": "Python 3",
   "language": "python",
   "name": "python3"
  },
  "language_info": {
   "codemirror_mode": {
    "name": "ipython",
    "version": 3
   },
   "file_extension": ".py",
   "mimetype": "text/x-python",
   "name": "python",
   "nbconvert_exporter": "python",
   "pygments_lexer": "ipython3",
   "version": "3.8.8"
  }
 },
 "nbformat": 4,
 "nbformat_minor": 5
}
