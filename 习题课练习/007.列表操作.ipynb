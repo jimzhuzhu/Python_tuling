{
 "cells": [
  {
   "cell_type": "markdown",
   "id": "4869d779",
   "metadata": {},
   "source": [
    "### append() 和extend() 和insert()"
   ]
  },
  {
   "cell_type": "code",
   "execution_count": 35,
   "id": "869c1989",
   "metadata": {},
   "outputs": [
    {
     "name": "stdout",
     "output_type": "stream",
     "text": [
      "[1, 2, 3, 'ha']\n",
      "[1, 2, 3, 'ha', 4]\n",
      "[1, 2, 3, 'ha', 4, [1, 2, 3]]\n",
      "[1, 2, 3, 'ha', 4, [1, 2, 3], (5, 6)]\n",
      "[1, 2, 3, 'ha', 4, [1, 2, 3], (5, 6), {8, 1, 2, 7}]\n",
      "[1, 2, 3, 'ha', 4, [1, 2, 3], (5, 6), {8, 1, 2, 7}, {'one': 1, 'two': 2}, None]\n"
     ]
    }
   ],
   "source": [
    "a =  [1,2,3]\n",
    "# append 只能添加一个参数,所有数据类型都可以，字符串还是以整个添加\n",
    "a.append('ha') # 添加字符串str\n",
    "print(a)\n",
    "a.append(4)   # 添加数字number       \n",
    "print(a)\n",
    "a.append([1,2,3]) # 添加列表list\n",
    "print(a)\n",
    "a.append((5,6)) # 添加元组tuple\n",
    "print(a)\n",
    "a.append({7,8,1,2,7,8,2,1}) # 添加集合set\n",
    "print(a)\n",
    "a.append({'one':1,'two':2}) # 添加字典dictionary\n",
    "a.append(None) # 添加None\n",
    "print(a)"
   ]
  },
  {
   "cell_type": "code",
   "execution_count": 39,
   "id": "49d604fc",
   "metadata": {},
   "outputs": [
    {
     "name": "stdout",
     "output_type": "stream",
     "text": [
      "[1, 2, 3, 'h', 'a', 'h', 'a']\n",
      "[1, 2, 3, 'h', 'a', 'h', 'a', 4, 5, 6]\n",
      "[1, 2, 3, 'h', 'a', 'h', 'a', 4, 5, 6, 1, 2, 3]\n",
      "[1, 2, 3, 'h', 'a', 'h', 'a', 4, 5, 6, 1, 2, 3, 'one']\n"
     ]
    }
   ],
   "source": [
    "a = [1,2,3]\n",
    "# extend 只能添加一个参数,不能是number类型,其余类型都可以\n",
    "a.extend('haha') # 添加字符串，列表化\n",
    "print(a)\n",
    "a.extend([4,5,6]) # 添加列表，直接添加元素在末尾，不嵌套\n",
    "print(a)\n",
    "a.extend((1,2,3)) # 添加元组，直接添加元素在末尾，不嵌套\n",
    "print(a)\n",
    "a.extend({'one':1}) \n",
    "print(a)"
   ]
  },
  {
   "cell_type": "code",
   "execution_count": 66,
   "id": "42d8e145",
   "metadata": {},
   "outputs": [
    {
     "name": "stdout",
     "output_type": "stream",
     "text": [
      "[5, 1, 2, 3]\n",
      "[5, 1, 2, 4, 3]\n",
      "[5, 1, 2, 4, 3, 3.3]\n"
     ]
    }
   ],
   "source": [
    "b = [1,2,3]\n",
    "# list.insert(index,obj) 需要两个参数，第一个是下标索引，第二个是插入的对象\n",
    "# 下标 0 ————>就是从左往右，反之 负则从右往左\n",
    "b.insert(0,5)\n",
    "print(b)\n",
    "b.insert(-1,4)\n",
    "print(b)\n",
    "b.insert(5,3.3) # 可以添加任何数据类型，并以添加类型进行嵌套\n",
    "print(b)"
   ]
  },
  {
   "cell_type": "markdown",
   "id": "6a3e3de0",
   "metadata": {},
   "source": [
    "### 假定给出一个列表member = [\"我\", \"的\", \"名字\", \"朱献福\"]\n",
    "### 想要更改成member = [\"我\", 99, \"的\",88,  \"名字\", 77, \"朱献福\", 66]"
   ]
  },
  {
   "cell_type": "code",
   "execution_count": 71,
   "id": "a12c1f26",
   "metadata": {},
   "outputs": [
    {
     "name": "stdout",
     "output_type": "stream",
     "text": [
      "['我', 99, '的', 88, '名字', 77, '朱献福', 66]\n"
     ]
    }
   ],
   "source": [
    "member = ['我', '的', '名字', '朱献福']\n",
    "member.insert(1,99)\n",
    "member.insert(3,88)\n",
    "member.insert(5,77)\n",
    "member.append(66)\n",
    "print(member)"
   ]
  },
  {
   "cell_type": "markdown",
   "id": "2aa5adc6",
   "metadata": {},
   "source": [
    "### 请问如何将下边这个列表的\"朱献福\"修改为\"刘雨霞\"\n",
    "    ls = [1, [1, 2, ['朱献福']], 3, 5, 8, 13, 18]"
   ]
  },
  {
   "cell_type": "code",
   "execution_count": 74,
   "id": "cab91a43",
   "metadata": {},
   "outputs": [
    {
     "name": "stdout",
     "output_type": "stream",
     "text": [
      "[1, [1, 2, ['刘雨霞']], 3, 5, 8, 13, 18]\n"
     ]
    }
   ],
   "source": [
    "# 列表是可以进行更改赋值的，\n",
    "# 方法是通过下标索引更改\n",
    "ls = [1, [1, 2, ['朱献福']], 3, 5, 8, 13, 18]\n",
    "ls[1][2][0] = '刘雨霞'\n",
    "print(ls)"
   ]
  },
  {
   "cell_type": "markdown",
   "id": "d257ae65",
   "metadata": {},
   "source": [
    "### 将列表推导式还原出来\n",
    "    ls = [(x,y) for x in range(10) for y in range(10) \n",
    "                                if x%2==0 if y%2!=0]"
   ]
  },
  {
   "cell_type": "code",
   "execution_count": 76,
   "id": "fc969a6c",
   "metadata": {},
   "outputs": [
    {
     "name": "stdout",
     "output_type": "stream",
     "text": [
      "[(0, 1), (0, 3), (0, 5), (0, 7), (0, 9), (2, 1), (2, 3), (2, 5), (2, 7), (2, 9), (4, 1), (4, 3), (4, 5), (4, 7), (4, 9), (6, 1), (6, 3), (6, 5), (6, 7), (6, 9), (8, 1), (8, 3), (8, 5), (8, 7), (8, 9)]\n"
     ]
    }
   ],
   "source": [
    "ls = [(x,y) for x in range(10) for y in range(10) if x%2==0 if y%2!=0]\n",
    "print(ls)"
   ]
  },
  {
   "cell_type": "code",
   "execution_count": 84,
   "id": "5144df2a",
   "metadata": {},
   "outputs": [
    {
     "name": "stdout",
     "output_type": "stream",
     "text": [
      "[(0, 1), (0, 3), (0, 5), (0, 7), (0, 9), (2, 1), (2, 3), (2, 5), (2, 7), (2, 9), (4, 1), (4, 3), (4, 5), (4, 7), (4, 9), (6, 1), (6, 3), (6, 5), (6, 7), (6, 9), (8, 1), (8, 3), (8, 5), (8, 7), (8, 9)]\n"
     ]
    }
   ],
   "source": [
    "ls = list()\n",
    "for x in range(10):\n",
    "    for y in range(10):\n",
    "        if x % 2 == 0 and y % 2 != 0:\n",
    "            ls.append((x,y))\n",
    "print((ls))"
   ]
  }
 ],
 "metadata": {
  "kernelspec": {
   "display_name": "Python 3",
   "language": "python",
   "name": "python3"
  },
  "language_info": {
   "codemirror_mode": {
    "name": "ipython",
    "version": 3
   },
   "file_extension": ".py",
   "mimetype": "text/x-python",
   "name": "python",
   "nbconvert_exporter": "python",
   "pygments_lexer": "ipython3",
   "version": "3.8.8"
  }
 },
 "nbformat": 4,
 "nbformat_minor": 5
}
