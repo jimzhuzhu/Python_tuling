{
 "cells": [
  {
   "cell_type": "markdown",
   "id": "0e663832",
   "metadata": {},
   "source": [
    "### 定义一个元组\n",
    "- 多个元素\n",
    "- 单个元素"
   ]
  },
  {
   "cell_type": "code",
   "execution_count": 11,
   "id": "08f404cf",
   "metadata": {},
   "outputs": [
    {
     "name": "stdout",
     "output_type": "stream",
     "text": [
      "(1,)\n",
      "(1,)\n",
      "(1,)\n"
     ]
    }
   ],
   "source": [
    "# 单个元素\n",
    "# 用方括号表示，或者直接用逗号表示，\n",
    "# 使用tuple内置函数，里面内容必须可迭代\n",
    "a = (1,)\n",
    "b = 1,\n",
    "c = tuple([1]) \n",
    "print(a)\n",
    "print(b)\n",
    "print(c)"
   ]
  },
  {
   "cell_type": "code",
   "execution_count": 8,
   "id": "3433e746",
   "metadata": {},
   "outputs": [
    {
     "name": "stdout",
     "output_type": "stream",
     "text": [
      "(1, 2, 3, 4, 5)\n",
      "(1, 2, 3, 4, 5)\n",
      "(1, 2, 3, 4, 5)\n"
     ]
    }
   ],
   "source": [
    "# 多个元素\n",
    "a = (1,2,3,4,5)\n",
    "b = 1,2,3,4,5\n",
    "c = tuple([1,2,3,4,5])\n",
    "print(a)\n",
    "print(b)\n",
    "print(c)"
   ]
  },
  {
   "cell_type": "markdown",
   "id": "4261cc6d",
   "metadata": {},
   "source": [
    "### 下面的场景应该使用列表还是元组来保存数据\n",
    "- 1.游戏角色的属性\n",
    "- 2.某购物网站的商品信息(图片，价格，介绍等)\n",
    "- 3.动车组各组件的具体配置参数\n",
    "- 4.你发给数码城的电脑配置清单\n",
    "- 5.你的身份证信息"
   ]
  },
  {
   "cell_type": "markdown",
   "id": "dfeead67",
   "metadata": {},
   "source": [
    "### 首先需要明确列表和元组的区别\n",
    "- 元组可以被访问，但是不能被修改\n",
    "- 1.列表\n",
    "- 2.列表\n",
    "- 3.元组\n",
    "- 4.元组\n",
    "- 5.元组"
   ]
  },
  {
   "cell_type": "markdown",
   "id": "9cb959cc",
   "metadata": {},
   "source": [
    "### 增加一些内容，按照格式输出\n",
    "`\n",
    "'' 鹅鹅鹅\n",
    " 曲项向天歌\n",
    " 白毛浮绿水\n",
    " 红掌拨清波''\n",
    "`"
   ]
  },
  {
   "cell_type": "code",
   "execution_count": 29,
   "id": "19bf97dd",
   "metadata": {},
   "outputs": [
    {
     "name": "stdout",
     "output_type": "stream",
     "text": [
      "鹅鹅鹅\n",
      "曲项向天歌\n",
      "白毛浮绿水\n",
      "红掌拨清波\n"
     ]
    }
   ],
   "source": [
    "yonge = '鹅鹅鹅,\\n曲项向天歌,\\n白毛浮绿水,\\n红掌拨清波.'\n",
    "print(yonge.center(10))"
   ]
  }
 ],
 "metadata": {
  "kernelspec": {
   "display_name": "Python 3",
   "language": "python",
   "name": "python3"
  },
  "language_info": {
   "codemirror_mode": {
    "name": "ipython",
    "version": 3
   },
   "file_extension": ".py",
   "mimetype": "text/x-python",
   "name": "python",
   "nbconvert_exporter": "python",
   "pygments_lexer": "ipython3",
   "version": "3.8.8"
  }
 },
 "nbformat": 4,
 "nbformat_minor": 5
}
