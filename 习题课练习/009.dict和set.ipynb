{
 "cells": [
  {
   "cell_type": "markdown",
   "id": "7d6004cb",
   "metadata": {},
   "source": [
    "### 写一个程序来管理用于登入系统的用户信息：登录名字和密码，登录用户账号建立后，已经存在用户可以用登录名字和密码重返系统，新用户不能用别人的用户建立用户账号"
   ]
  },
  {
   "cell_type": "code",
   "execution_count": 9,
   "id": "b6e4ec3c",
   "metadata": {},
   "outputs": [
    {
     "name": "stdout",
     "output_type": "stream",
     "text": [
      "用户名：jimzhuzhu\n",
      "密码：123\n",
      "密码不正确\n"
     ]
    }
   ],
   "source": [
    "# 创建字典模拟数据库里取出来的的账号密码\n",
    "user_pass = {'jimzhuzhu':123, 'liuyuxia':'abc'}\n",
    "\n",
    "def create_user(username,password):\n",
    "    '''\n",
    "    username 用户建立账户的用户名\n",
    "    password 用户建立账户的密码\n",
    "    '''\n",
    "    \n",
    "    # 判断 用户输入的账号是不是已经存在\n",
    "    usernames = user_pass.keys()\n",
    "    if username in usernames:\n",
    "        print('用户名已存在，请重新输入')\n",
    "    else:\n",
    "        # 没有被注册，则更新我们的user_pass\n",
    "        # 实际情况会做持久化存储到数据库中\n",
    "        user_pass[username] = password\n",
    "        print('恭喜你，注册成功，请回到登入界面')\n",
    "        \n",
    "# create_user(input('请输入用户名'), input('请输入密码'))\n",
    "\n",
    "# print(user_pass)\n",
    "\n",
    "def login_user(username,password):\n",
    "    # 判断用户名是否存在\n",
    "    usernames = user_pass.keys()\n",
    "    if username not in usernames:\n",
    "        print('此用户名没有注册')\n",
    "    elif password != user_pass[username]:\n",
    "        # 判断用户密码是否正确\n",
    "        print('密码不正确')\n",
    "    else:\n",
    "        print('登入成功')\n",
    "        \n",
    "login_user(input('用户名：'), input('密码：'))"
   ]
  },
  {
   "cell_type": "code",
   "execution_count": 18,
   "id": "b5841eaf",
   "metadata": {},
   "outputs": [
    {
     "name": "stdout",
     "output_type": "stream",
     "text": [
      "恭喜你，注册成功\n",
      "登入成功，欢迎\n"
     ]
    }
   ],
   "source": [
    "user_pass = {}\n",
    "\n",
    "def create_user(username,password):\n",
    "    usernames = user_pass.keys()\n",
    "    if username in usernames:\n",
    "        print('用户名已存在，请换一个')\n",
    "    else:\n",
    "        user_pass[username] = password\n",
    "        print('恭喜你，注册成功')\n",
    "\n",
    "def login_user(username,password):\n",
    "    usernames = user_pass.keys()\n",
    "    if username not in usernames:\n",
    "        print('改用户名未注册')\n",
    "    elif password != user_pass[username]:\n",
    "        print('密码输入错误')\n",
    "    else:\n",
    "        print('登入成功，欢迎')\n",
    "        \n",
    "create_user('jimzhuzhu', 123)\n",
    "login_user('jimzhuzhu', 123)"
   ]
  }
 ],
 "metadata": {
  "kernelspec": {
   "display_name": "Python 3",
   "language": "python",
   "name": "python3"
  },
  "language_info": {
   "codemirror_mode": {
    "name": "ipython",
    "version": 3
   },
   "file_extension": ".py",
   "mimetype": "text/x-python",
   "name": "python",
   "nbconvert_exporter": "python",
   "pygments_lexer": "ipython3",
   "version": "3.8.8"
  }
 },
 "nbformat": 4,
 "nbformat_minor": 5
}
