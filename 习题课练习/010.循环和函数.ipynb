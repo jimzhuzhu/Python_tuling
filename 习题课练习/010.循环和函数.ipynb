{
 "cells": [
  {
   "cell_type": "code",
   "execution_count": 9,
   "id": "3f06cbea",
   "metadata": {},
   "outputs": [
    {
     "name": "stdout",
     "output_type": "stream",
     "text": [
      "* * * * * * \n",
      "* * * * * * \n",
      "* * * * * * \n",
      "* * * * * * \n",
      "* * * * * * \n",
      "* * * * * * \n",
      "====================\n",
      "* * * * * * \n",
      "*         * \n",
      "*         * \n",
      "*         * \n",
      "*         * \n",
      "* * * * * * \n"
     ]
    }
   ],
   "source": [
    "# 打印一个正方形\n",
    "# 控制行\n",
    "for i in range(6):\n",
    "    # 控制列\n",
    "    for j in range(6):\n",
    "        print('*',end=' ')\n",
    "    print()\n",
    "    \n",
    "print('='*20)\n",
    "\n",
    "# 打印一个空心矩形\n",
    "for i in range(6):\n",
    "    # 控制列\n",
    "    for j in range(6):\n",
    "        if i == 0 or i ==5 or j == 0 or j == 5:\n",
    "            print('*',end=' ')\n",
    "        else:\n",
    "            print(' ',end=' ')\n",
    "    print()"
   ]
  },
  {
   "cell_type": "code",
   "execution_count": 29,
   "id": "cdf46574",
   "metadata": {},
   "outputs": [
    {
     "name": "stdout",
     "output_type": "stream",
     "text": [
      "* \n",
      "* * \n",
      "* * * \n",
      "* * * * \n",
      "* * * * * \n",
      "====================\n",
      "* \n",
      "* * \n",
      "*   * \n",
      "*     * \n",
      "* * * * * \n"
     ]
    }
   ],
   "source": [
    "# 打印直角三角形\n",
    "for i in range(5):\n",
    "    for j in range(i+1):\n",
    "        print('*',end=' ')\n",
    "    print()\n",
    "\n",
    "print('='*20)\n",
    "# 打印空心直角三角形\n",
    "for i in range(5):\n",
    "    for j in range(i+1):\n",
    "        if i == 0 or i == 4 or j == 0 or j == i:\n",
    "            print('*',end=' ')\n",
    "        else:\n",
    "            print(' ',end=' ')\n",
    "    print()"
   ]
  },
  {
   "cell_type": "code",
   "execution_count": 35,
   "id": "7cada82a",
   "metadata": {},
   "outputs": [
    {
     "name": "stdout",
     "output_type": "stream",
     "text": [
      "* * * * * \n",
      "* * * * \n",
      "* * * \n",
      "* * \n",
      "* \n",
      "====================\n",
      "* * * * * \n",
      "*     * \n",
      "*   * \n",
      "* * \n",
      "* \n"
     ]
    }
   ],
   "source": [
    "# 打印倒直角三角形\n",
    "for i in range(5):\n",
    "    for j in range(5-i):\n",
    "        print('*',end=' ')\n",
    "    print()\n",
    "\n",
    "print('='*20)\n",
    "\n",
    "for i in range(5):\n",
    "    for j in range(5-i):\n",
    "        if i == 0 or i == 5 or j == 0 or j == 4-i:\n",
    "            print('*',end=' ')\n",
    "        else:\n",
    "            print(' ',end=' ')\n",
    "    print()"
   ]
  },
  {
   "cell_type": "code",
   "execution_count": 41,
   "id": "18623201",
   "metadata": {},
   "outputs": [
    {
     "name": "stdout",
     "output_type": "stream",
     "text": [
      "= = = = * \n",
      "= = = * * \n",
      "= = * * * \n",
      "= * * * * \n",
      "* * * * * \n"
     ]
    }
   ],
   "source": [
    "# 打印斜着三角形,把空格先当做一个字符来打印\n",
    "for i in range(5):\n",
    "    for n in range(4-i):\n",
    "        print('=',end=' ')\n",
    "    for j in range(i+1):\n",
    "        print('*',end=' ')\n",
    "    print()"
   ]
  },
  {
   "cell_type": "code",
   "execution_count": 50,
   "id": "cf749e2a",
   "metadata": {},
   "outputs": [
    {
     "name": "stdout",
     "output_type": "stream",
     "text": [
      "====* \n",
      "===* * \n",
      "==* * * \n",
      "=* * * * \n",
      "* * * * * \n",
      "====================\n",
      "====* \n",
      "===* * \n",
      "==* - * \n",
      "=* - - * \n",
      "* * * * * \n"
     ]
    }
   ],
   "source": [
    "# 打印等腰三角形\n",
    "for i in range(5):\n",
    "    for n in range(4-i):\n",
    "        print('=',end='')\n",
    "    for j in range(i+1):\n",
    "        print('*',end=' ')\n",
    "    print()\n",
    "print('='*20)\n",
    "# 打印空心等腰三角形\n",
    "for i in range(5):\n",
    "    for n in range(4-i):\n",
    "        print('=',end='')\n",
    "    for j in range(i+1):\n",
    "        if i == 0 or i == 4 or j == 0 or j == i:\n",
    "            print('*',end=' ')\n",
    "        else:\n",
    "            print('-',end=' ')\n",
    "    print()"
   ]
  },
  {
   "cell_type": "code",
   "execution_count": 60,
   "id": "2029d310",
   "metadata": {},
   "outputs": [
    {
     "name": "stdout",
     "output_type": "stream",
     "text": [
      "    * \n",
      "   * * \n",
      "  * * * \n",
      " * * * * \n",
      "* * * * * \n",
      " * * * * \n",
      "  * * * \n",
      "   * * \n",
      "    * \n"
     ]
    }
   ],
   "source": [
    "# 打印菱形\n",
    "for i in range(5):\n",
    "    for a in range(4-i):\n",
    "        print(' ',end='')\n",
    "    for b in range(i+1):\n",
    "        print('*',end=' ')\n",
    "    print()\n",
    "for i in range(4):\n",
    "    for a in range(i+1):\n",
    "        print(' ',end='')\n",
    "    for b in range(4-i):\n",
    "        print('*',end=' ')\n",
    "    print()"
   ]
  },
  {
   "cell_type": "code",
   "execution_count": 67,
   "id": "c8572910",
   "metadata": {},
   "outputs": [
    {
     "name": "stdout",
     "output_type": "stream",
     "text": [
      "    * \n",
      "   * * \n",
      "  *   * \n",
      " *     * \n",
      "*       * \n",
      " *     * \n",
      "  *   * \n",
      "   * * \n",
      "    * \n"
     ]
    }
   ],
   "source": [
    "# 打印空心菱形\n",
    "for i in range(5):\n",
    "    for a in range(4-i):\n",
    "        print(' ',end='')\n",
    "    for b in range(i+1):\n",
    "        if i == 0 or b == 0 or b == i:\n",
    "            print('*',end=' ')\n",
    "        else:\n",
    "            print(' ',end=' ')\n",
    "    print()\n",
    "for i in range(4):\n",
    "    for a in range(i+1):\n",
    "        print(' ',end='')\n",
    "    for b in range(4-i):\n",
    "        if i == 4 or b == 0 or b == 3-i:\n",
    "            print('*',end=' ')\n",
    "        else:\n",
    "            print(' ',end=' ')\n",
    "    print()"
   ]
  },
  {
   "cell_type": "code",
   "execution_count": 85,
   "id": "14f1c84c",
   "metadata": {
    "scrolled": true
   },
   "outputs": [
    {
     "name": "stdout",
     "output_type": "stream",
     "text": [
      "=====* * * \n",
      "====* * * * \n",
      "===* * * * * \n",
      "==* * * * * * \n",
      "=* * * * * * * \n",
      "* * * * * * * * \n",
      "====================\n",
      "     * * * \n",
      "    *     * \n",
      "   *       * \n",
      "  *         * \n",
      " *           * \n",
      "* * * * * * * * \n"
     ]
    }
   ],
   "source": [
    "# 等腰梯形\n",
    "# 控制行\n",
    "for i in range(6):\n",
    "    # 更改打印起始位置\n",
    "    for j in range(5-i):\n",
    "        print('=',end='')\n",
    "    # 控制列，规则是第一行一列，第二行两列\n",
    "    for k in range(i+3):\n",
    "        print('*',end=' ')\n",
    "    print()\n",
    "print('='*20)\n",
    "# 打印空心梯形\n",
    "for i in range(6):\n",
    "    for j in range(5-i):\n",
    "        print(' ',end='')\n",
    "    for k in range(i+3):\n",
    "        if i == 0 or i == 5 or k == 0 or k == i+2:\n",
    "            print('*',end=' ')\n",
    "        else:\n",
    "            print(' ',end=' ')\n",
    "    print()"
   ]
  },
  {
   "cell_type": "code",
   "execution_count": 117,
   "id": "3f956653",
   "metadata": {},
   "outputs": [
    {
     "name": "stdout",
     "output_type": "stream",
     "text": [
      "* * * \n",
      "*   * \n",
      "*   * \n",
      "* * * \n",
      "====================\n",
      "* *   \n",
      "*   * \n",
      "*   * \n",
      "* *   \n"
     ]
    }
   ],
   "source": [
    "# 打印字母O\n",
    "for i in range(4):\n",
    "    # 控制列\n",
    "    for j in range(3):\n",
    "        if i == 0 or i == 3 or j == 0 or j == 2:\n",
    "            print('*',end=' ')\n",
    "        else:\n",
    "            print(' ',end=' ')\n",
    "    print()\n",
    "print('='*20)    \n",
    "# 打印字母D\n",
    "for i in range(4):\n",
    "    # 控制列\n",
    "    for j in range(3):\n",
    "        if j == 0:\n",
    "            print('*',end=' ')\n",
    "        elif j == 2:\n",
    "            if i == 0 or i == 3:\n",
    "                print(' ',end=' ')\n",
    "            else:\n",
    "                print('*',end=' ')\n",
    "        elif j == 1:\n",
    "            if i == 0 or i == 3:\n",
    "                print('*',end=' ')\n",
    "            else:\n",
    "                print(' ',end=' ')\n",
    "    print()"
   ]
  },
  {
   "cell_type": "code",
   "execution_count": 107,
   "id": "9451069d",
   "metadata": {},
   "outputs": [
    {
     "name": "stdout",
     "output_type": "stream",
     "text": [
      "输入0结束循环\n",
      "请输入需要使用的图形：lal\n",
      "没有对应的函数可以调用\n"
     ]
    },
    {
     "ename": "KeyboardInterrupt",
     "evalue": "Interrupted by user",
     "output_type": "error",
     "traceback": [
      "\u001b[0;31m---------------------------------------------------------------------------\u001b[0m",
      "\u001b[0;31mKeyboardInterrupt\u001b[0m                         Traceback (most recent call last)",
      "\u001b[0;32m<ipython-input-107-5da149bc9bf9>\u001b[0m in \u001b[0;36m<module>\u001b[0;34m\u001b[0m\n\u001b[1;32m     34\u001b[0m                     \u001b[0mprint\u001b[0m\u001b[0;34m(\u001b[0m\u001b[0;34m' '\u001b[0m\u001b[0;34m,\u001b[0m\u001b[0mend\u001b[0m\u001b[0;34m=\u001b[0m\u001b[0;34m' '\u001b[0m\u001b[0;34m)\u001b[0m\u001b[0;34m\u001b[0m\u001b[0;34m\u001b[0m\u001b[0m\n\u001b[1;32m     35\u001b[0m             \u001b[0mprint\u001b[0m\u001b[0;34m(\u001b[0m\u001b[0;34m)\u001b[0m\u001b[0;34m\u001b[0m\u001b[0;34m\u001b[0m\u001b[0m\n\u001b[0;32m---> 36\u001b[0;31m     \u001b[0mshape\u001b[0m \u001b[0;34m=\u001b[0m \u001b[0minput\u001b[0m\u001b[0;34m(\u001b[0m\u001b[0;34m'请输入需要使用的图形：'\u001b[0m\u001b[0;34m)\u001b[0m\u001b[0;34m\u001b[0m\u001b[0;34m\u001b[0m\u001b[0m\n\u001b[0m\u001b[1;32m     37\u001b[0m     \u001b[0;32mif\u001b[0m \u001b[0mshape\u001b[0m \u001b[0;34m==\u001b[0m \u001b[0;34m'实心矩形'\u001b[0m\u001b[0;34m:\u001b[0m\u001b[0;34m\u001b[0m\u001b[0;34m\u001b[0m\u001b[0m\n\u001b[1;32m     38\u001b[0m         \u001b[0ms_jx\u001b[0m\u001b[0;34m(\u001b[0m\u001b[0;34m)\u001b[0m\u001b[0;34m\u001b[0m\u001b[0;34m\u001b[0m\u001b[0m\n",
      "\u001b[0;32m/opt/anaconda3/lib/python3.8/site-packages/ipykernel/kernelbase.py\u001b[0m in \u001b[0;36mraw_input\u001b[0;34m(self, prompt)\u001b[0m\n\u001b[1;32m    858\u001b[0m                 \u001b[0;34m\"raw_input was called, but this frontend does not support input requests.\"\u001b[0m\u001b[0;34m\u001b[0m\u001b[0;34m\u001b[0m\u001b[0m\n\u001b[1;32m    859\u001b[0m             )\n\u001b[0;32m--> 860\u001b[0;31m         return self._input_request(str(prompt),\n\u001b[0m\u001b[1;32m    861\u001b[0m             \u001b[0mself\u001b[0m\u001b[0;34m.\u001b[0m\u001b[0m_parent_ident\u001b[0m\u001b[0;34m,\u001b[0m\u001b[0;34m\u001b[0m\u001b[0;34m\u001b[0m\u001b[0m\n\u001b[1;32m    862\u001b[0m             \u001b[0mself\u001b[0m\u001b[0;34m.\u001b[0m\u001b[0m_parent_header\u001b[0m\u001b[0;34m,\u001b[0m\u001b[0;34m\u001b[0m\u001b[0;34m\u001b[0m\u001b[0m\n",
      "\u001b[0;32m/opt/anaconda3/lib/python3.8/site-packages/ipykernel/kernelbase.py\u001b[0m in \u001b[0;36m_input_request\u001b[0;34m(self, prompt, ident, parent, password)\u001b[0m\n\u001b[1;32m    902\u001b[0m             \u001b[0;32mexcept\u001b[0m \u001b[0mKeyboardInterrupt\u001b[0m\u001b[0;34m:\u001b[0m\u001b[0;34m\u001b[0m\u001b[0;34m\u001b[0m\u001b[0m\n\u001b[1;32m    903\u001b[0m                 \u001b[0;31m# re-raise KeyboardInterrupt, to truncate traceback\u001b[0m\u001b[0;34m\u001b[0m\u001b[0;34m\u001b[0m\u001b[0;34m\u001b[0m\u001b[0m\n\u001b[0;32m--> 904\u001b[0;31m                 \u001b[0;32mraise\u001b[0m \u001b[0mKeyboardInterrupt\u001b[0m\u001b[0;34m(\u001b[0m\u001b[0;34m\"Interrupted by user\"\u001b[0m\u001b[0;34m)\u001b[0m \u001b[0;32mfrom\u001b[0m \u001b[0;32mNone\u001b[0m\u001b[0;34m\u001b[0m\u001b[0;34m\u001b[0m\u001b[0m\n\u001b[0m\u001b[1;32m    905\u001b[0m             \u001b[0;32mexcept\u001b[0m \u001b[0mException\u001b[0m \u001b[0;32mas\u001b[0m \u001b[0me\u001b[0m\u001b[0;34m:\u001b[0m\u001b[0;34m\u001b[0m\u001b[0;34m\u001b[0m\u001b[0m\n\u001b[1;32m    906\u001b[0m                 \u001b[0mself\u001b[0m\u001b[0;34m.\u001b[0m\u001b[0mlog\u001b[0m\u001b[0;34m.\u001b[0m\u001b[0mwarning\u001b[0m\u001b[0;34m(\u001b[0m\u001b[0;34m\"Invalid Message:\"\u001b[0m\u001b[0;34m,\u001b[0m \u001b[0mexc_info\u001b[0m\u001b[0;34m=\u001b[0m\u001b[0;32mTrue\u001b[0m\u001b[0;34m)\u001b[0m\u001b[0;34m\u001b[0m\u001b[0;34m\u001b[0m\u001b[0m\n",
      "\u001b[0;31mKeyboardInterrupt\u001b[0m: Interrupted by user"
     ]
    }
   ],
   "source": [
    "print('输入0结束循环')\n",
    "while True:\n",
    "    # 封装函数\n",
    "    def s_jx():\n",
    "        # 控制行\n",
    "        for i in range(3):\n",
    "            # 控制列\n",
    "            for j in range(3):\n",
    "                print('*',end=' ')\n",
    "            print()\n",
    "\n",
    "    def s_jx1():\n",
    "        for i in range(6):\n",
    "            # 控制列\n",
    "            for j in range(6):\n",
    "                if i == 0 or i ==5 or j == 0 or j == 5:\n",
    "                    print('*',end=' ')\n",
    "                else:\n",
    "                    print(' ',end=' ')\n",
    "            print()\n",
    "    def s_sjx():\n",
    "        # 打印直角三角形\n",
    "        for i in range(5):\n",
    "            for j in range(i+1):\n",
    "                print('*',end=' ')\n",
    "            print()\n",
    "    def s_sjx1():\n",
    "        # 打印空心直角三角形\n",
    "        for i in range(5):\n",
    "            for j in range(i+1):\n",
    "                if i == 0 or i == 4 or j == 0 or j == i:\n",
    "                    print('*',end=' ')\n",
    "                else:\n",
    "                    print(' ',end=' ')\n",
    "            print()\n",
    "    shape = input('请输入需要使用的图形：')\n",
    "    if shape == '实心矩形':\n",
    "        s_jx()\n",
    "    elif shape == '空心矩形':\n",
    "        s_jx1()\n",
    "    elif shape == '实心三角形':\n",
    "        s_sjx()\n",
    "    elif shape == '空心三角形':\n",
    "        s_sjx1()\n",
    "    elif shape == '0':\n",
    "        break\n",
    "    else:\n",
    "        print('没有对应的函数可以调用')"
   ]
  }
 ],
 "metadata": {
  "kernelspec": {
   "display_name": "Python 3",
   "language": "python",
   "name": "python3"
  },
  "language_info": {
   "codemirror_mode": {
    "name": "ipython",
    "version": 3
   },
   "file_extension": ".py",
   "mimetype": "text/x-python",
   "name": "python",
   "nbconvert_exporter": "python",
   "pygments_lexer": "ipython3",
   "version": "3.8.8"
  }
 },
 "nbformat": 4,
 "nbformat_minor": 5
}
