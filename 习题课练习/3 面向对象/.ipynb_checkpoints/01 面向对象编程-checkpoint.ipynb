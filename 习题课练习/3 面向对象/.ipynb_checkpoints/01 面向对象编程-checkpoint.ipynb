{
 "cells": [
  {
   "cell_type": "markdown",
   "id": "8441e21d",
   "metadata": {},
   "source": [
    "# 定义一个学生类，有下面的类属性\n",
    "- 1.姓名\n",
    "- 2.年龄\n",
    "- 3.成绩（语文，数学，英语）每节课成绩类型为整数\n",
    "- 4.获取学生的姓名：get_name() 返回类型：str\n",
    "- 5.获取学生的年纪：get_age() 返回类型：int\n",
    "- 6.返回3门科目中最高的分数：get_course() 返回类型：int\n"
   ]
  },
  {
   "cell_type": "code",
   "execution_count": 36,
   "id": "65664686",
   "metadata": {},
   "outputs": [
    {
     "name": "stdout",
     "output_type": "stream",
     "text": [
      "姓名zz\n",
      "年龄11\n",
      "这个学生的名字叫：zz!\n",
      "他的年龄是: 11\n",
      "77\n"
     ]
    }
   ],
   "source": [
    "class Students(object):\n",
    "    def __init__(self, name, age, scores):\n",
    "        self.name = name\n",
    "        self.age = age\n",
    "        self.scores = scores\n",
    "    \n",
    "    def get_name(self):\n",
    "        print('这个学生的名字叫：' + self.name + '!')\n",
    "        \n",
    "    def get_age(self):\n",
    "        print('他的年龄是:', self.age)\n",
    "        \n",
    "    def get_course(self):\n",
    "        print(max(self.scores))\n",
    "        \n",
    "scores = {66, 77, 44}\n",
    "name = input('姓名')\n",
    "age = int(input('年龄'))\n",
    "s = Students(name, age, scores)\n",
    "s.get_name()\n",
    "s.get_age()\n",
    "s.get_course()"
   ]
  },
  {
   "cell_type": "markdown",
   "id": "ff55f0d7",
   "metadata": {},
   "source": [
    "# 定义一个字典类：DictClass 完成如下操作\n",
    "- 1.删除某个key del_dict(key)\n",
    "- 2.判断某个键是否在字典里，如果在返回键对应的值，不再则返回 ’not fount‘get_dict()\n",
    "- 3.返回键组成的列表，返回类型：list get_key()\n",
    "- 4.合并字典，并且返回合并后字典的vlaues组成的列表，返回类型list update_dict()"
   ]
  },
  {
   "cell_type": "code",
   "execution_count": 67,
   "id": "9f03cb7e",
   "metadata": {},
   "outputs": [
    {
     "name": "stdout",
     "output_type": "stream",
     "text": [
      "删除成功\n",
      "1\n",
      "dict_keys(['a', 'b', 'd'])\n",
      "dict_values([1, 2, 4, 3])\n"
     ]
    }
   ],
   "source": [
    "class DictClass(object):\n",
    "    def __init__(self, d):\n",
    "        self.d = d\n",
    "    \n",
    "    def del_dict(self, key):\n",
    "        if key in self.d.keys():\n",
    "            del self.d[key]\n",
    "            return '删除成功'\n",
    "    \n",
    "    def get_dict(self, key):\n",
    "        if key in self.d.keys():\n",
    "            return self.d[key]\n",
    "        else:\n",
    "            print('not found')\n",
    "            \n",
    "    def get_key(self):\n",
    "        return self.d.keys()\n",
    "    \n",
    "    def update_dict(self, d2):\n",
    "        self.d = dict(self.d, **d2)\n",
    "        return self.d.values()\n",
    "        \n",
    "d = DictClass({'a':1, 'b':2, 'c':3, 'd':4})\n",
    "print(d.del_dict('c'))\n",
    "print(d.get_dict('a'))\n",
    "print(d.get_key())       \n",
    "print(d.update_dict({'c':3}))"
   ]
  },
  {
   "cell_type": "markdown",
   "id": "1fa26654",
   "metadata": {},
   "source": [
    "# 定义一个列表得到操作类 Listinfo\n",
    "## 包括的方法\n",
    "- 1 列表元素添加 add_key() 添加的必须是数字或字符串\n",
    "- 2 列表元素取值 get_key()\n",
    "- 3 列表合并 update_list(list)\n",
    "- 4 删除并且返回最后一个元素 del_key()"
   ]
  },
  {
   "cell_type": "code",
   "execution_count": 77,
   "id": "c500011f",
   "metadata": {},
   "outputs": [
    {
     "name": "stdout",
     "output_type": "stream",
     "text": [
      "我要字符串或者数字\n",
      "超出索引范围\n",
      "[1, 2, 3, 4, 5, 6, 7, 9, 10]\n",
      "10\n"
     ]
    }
   ],
   "source": [
    "class Listinfo(object):\n",
    "    def __init__(self, list_one):\n",
    "        self.list_one = list_one\n",
    "        \n",
    "    def add_key(self, key):\n",
    "        # 添加的key必须是数字或字符串\n",
    "        if isinstance(key, (str, int)):\n",
    "            self.list_one.append(key)\n",
    "            return self.list_one\n",
    "        return '我要字符串或者数字'\n",
    "    \n",
    "    def get_key(self, index):\n",
    "        # 判断索引\n",
    "        if index >= 0 and index < len(self.list_one):\n",
    "            return list_one[index]\n",
    "        \n",
    "        return '超出索引范围'\n",
    "    \n",
    "    def update_list(self, list_two):\n",
    "        self.list_one.extend(list_two)\n",
    "        return self.list_one\n",
    "    \n",
    "    def del_key(self):\n",
    "        # 判断列表里是否还有元素\n",
    "        if len(self.list_one) >= 0:\n",
    "            return self.list_one.pop()\n",
    "        return '列表是空的'\n",
    "\n",
    "list_one = [1,2,3,4,5,6,7]    \n",
    "l = Listinfo(list_one)\n",
    "print(l.add_key('haha'))\n",
    "print(l.get_key(11))\n",
    "print(l.update_list([9,10]))\n",
    "print(l.del_key())"
   ]
  },
  {
   "cell_type": "markdown",
   "id": "2ce9415e",
   "metadata": {},
   "source": [
    "# 定义一个集合的操作类\n",
    "## 包括的方法\n",
    "- 1 集合元素添加: add_setinfo()\n",
    "- 2 集合的交集 get_intersection()\n",
    "- 3 集合的并集 get_union()\n",
    "- 4 集合的差集 del_difference()"
   ]
  },
  {
   "cell_type": "code",
   "execution_count": 86,
   "id": "68a4aaff",
   "metadata": {},
   "outputs": [
    {
     "name": "stdout",
     "output_type": "stream",
     "text": [
      "{1, 2, 3, 4, 5, 6}\n",
      "{2, 4, 6}\n",
      "{1, 2, 3, 4, 5, 6, 8, 10}\n",
      "{1, 3, 5}\n",
      "<class 'str'>\n",
      "你传入的不是集合类型\n"
     ]
    }
   ],
   "source": [
    "# & 求交集\n",
    "# ｜ 并集\n",
    "# - 差集\n",
    "# ^ 补集\n",
    "\n",
    "class Setinfo(object):\n",
    "    def __init__(self, my_set):\n",
    "        self.my_set = my_set\n",
    "        \n",
    "    def add_setinfo(self, key):\n",
    "        self.my_set.add(key)\n",
    "        return self.my_set\n",
    "    \n",
    "    def get_intersection(self, union):\n",
    "        if isinstance(union, set):\n",
    "            return self.my_set & union # & 交集\n",
    "        else:\n",
    "            print(type(union))\n",
    "            return '你传入的不是集合类型'\n",
    "    def get_union(self, union):\n",
    "        if isinstance(union, set):\n",
    "            return self.my_set | union # | 并集\n",
    "        else:\n",
    "            print(type(union))\n",
    "            return '你传入的不是集合类型'\n",
    "    \n",
    "    def del_difference(self, union):\n",
    "        if isinstance(union, set):\n",
    "            return self.my_set - union \n",
    "        else:\n",
    "            print(type(union))\n",
    "            return '你传入的不是集合类型'\n",
    "    \n",
    "A = {1,2,3,4,5}\n",
    "B = {2,4,6,8,10}\n",
    "my_set = Setinfo(A)\n",
    "print(my_set.add_setinfo(6))\n",
    "print(my_set.get_intersection(B))\n",
    "print(my_set.get_union(B))\n",
    "print(my_set.del_difference(B))\n",
    "print(my_set.get_union('lalal'))"
   ]
  }
 ],
 "metadata": {
  "kernelspec": {
   "display_name": "Python 3",
   "language": "python",
   "name": "python3"
  },
  "language_info": {
   "codemirror_mode": {
    "name": "ipython",
    "version": 3
   },
   "file_extension": ".py",
   "mimetype": "text/x-python",
   "name": "python",
   "nbconvert_exporter": "python",
   "pygments_lexer": "ipython3",
   "version": "3.8.8"
  }
 },
 "nbformat": 4,
 "nbformat_minor": 5
}
