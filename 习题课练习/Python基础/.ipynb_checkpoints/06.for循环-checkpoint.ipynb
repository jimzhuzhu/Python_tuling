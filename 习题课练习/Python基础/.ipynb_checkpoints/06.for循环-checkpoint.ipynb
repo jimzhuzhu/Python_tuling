{
 "cells": [
  {
   "cell_type": "code",
   "execution_count": 1,
   "id": "4b110ad7",
   "metadata": {},
   "outputs": [
    {
     "name": "stdout",
     "output_type": "stream",
     "text": [
      "0\n",
      "1\n",
      "2\n",
      "3\n",
      "4\n",
      "5\n",
      "6\n",
      "7\n",
      "8\n",
      "9\n"
     ]
    }
   ],
   "source": [
    "# for 循环\n",
    "for i in range(10):\n",
    "    print(i)"
   ]
  },
  {
   "cell_type": "markdown",
   "id": "160e42c9",
   "metadata": {},
   "source": [
    "# 星号打印"
   ]
  },
  {
   "cell_type": "code",
   "execution_count": 2,
   "id": "3b0d412d",
   "metadata": {},
   "outputs": [
    {
     "name": "stdout",
     "output_type": "stream",
     "text": [
      "*\n"
     ]
    }
   ],
   "source": [
    "# 单个星号打印\n",
    "\n",
    "print('*')"
   ]
  },
  {
   "cell_type": "code",
   "execution_count": 3,
   "id": "6e195bb2",
   "metadata": {},
   "outputs": [
    {
     "name": "stdout",
     "output_type": "stream",
     "text": [
      "*****\n",
      "* "
     ]
    }
   ],
   "source": [
    "# 一行星号打印\n",
    "print('*****')"
   ]
  },
  {
   "cell_type": "code",
   "execution_count": 7,
   "id": "f440db85",
   "metadata": {},
   "outputs": [
    {
     "name": "stdout",
     "output_type": "stream",
     "text": [
      "* * * * * "
     ]
    }
   ],
   "source": [
    "print('*',end=' ')\n",
    "print('*',end=' ')\n",
    "print('*',end=' ')\n",
    "print('*',end=' ')\n",
    "print('*',end=' ')"
   ]
  },
  {
   "cell_type": "code",
   "execution_count": 10,
   "id": "77a90350",
   "metadata": {},
   "outputs": [
    {
     "name": "stdout",
     "output_type": "stream",
     "text": [
      "* * * * * \n",
      "* * * * * "
     ]
    }
   ],
   "source": [
    "for i in range(5):\n",
    "    print('*',end=' ')\n",
    "print()    \n",
    "for _ in range(5):\n",
    "    print('*',end=' ')"
   ]
  },
  {
   "cell_type": "code",
   "execution_count": 13,
   "id": "b302e3eb",
   "metadata": {
    "scrolled": true
   },
   "outputs": [
    {
     "name": "stdout",
     "output_type": "stream",
     "text": [
      "* * * * * 1\n",
      "* * * * * 1\n",
      "* * * * * 1\n",
      "* * * * * 1\n",
      "* * * * * 1\n"
     ]
    }
   ],
   "source": [
    "#   * * * * *\n",
    "#   * * * * *\n",
    "#   * * * * *\n",
    "#   * * * * *\n",
    "#   * * * * *\n",
    "for i in range(5):\n",
    "    for b in range(5):\n",
    "        print('*',end=' ')\n",
    "    print()"
   ]
  },
  {
   "cell_type": "code",
   "execution_count": 16,
   "id": "cf9cb50c",
   "metadata": {
    "scrolled": true
   },
   "outputs": [
    {
     "name": "stdout",
     "output_type": "stream",
     "text": [
      "* \n",
      "* * \n",
      "* * * \n",
      "* * * * \n",
      "* * * * * \n"
     ]
    }
   ],
   "source": [
    "# 打印三角形\n",
    "#   *\n",
    "#   * *\n",
    "#   * * *\n",
    "#   * * * *\n",
    "#   * * * * *\n",
    "for i in range(5):\n",
    "    for b in range(i+1):\n",
    "        print('*',end=' ')\n",
    "    print()"
   ]
  },
  {
   "cell_type": "code",
   "execution_count": 38,
   "id": "92eadf46",
   "metadata": {},
   "outputs": [
    {
     "name": "stdout",
     "output_type": "stream",
     "text": [
      "          * \n",
      "        * * \n",
      "      * * * \n",
      "    * * * * \n",
      "  * * * * * \n"
     ]
    }
   ],
   "source": [
    "# 打印斜着三角形,把空格先当做一个字符来打印\n",
    "#           *\n",
    "#         * *\n",
    "#       * * *\n",
    "#     * * * *\n",
    "#   * * * * *\n",
    "for i in range(5):\n",
    "    for a in range(5-i):\n",
    "        print(' ',end=' ')\n",
    "    for b in range(i+1):\n",
    "        print('*',end=' ')\n",
    "    print()   "
   ]
  },
  {
   "cell_type": "code",
   "execution_count": 63,
   "id": "00dd1778",
   "metadata": {},
   "outputs": [
    {
     "name": "stdout",
     "output_type": "stream",
     "text": [
      "     * \n",
      "    * * \n",
      "   * * * \n",
      "  * * * * \n",
      " * * * * * \n"
     ]
    }
   ],
   "source": [
    "# 打印正三角形\n",
    "#       *\n",
    "#      * *\n",
    "#     * * *\n",
    "#    * * * *\n",
    "#   * * * * *\n",
    "for i in range(5):\n",
    "    for a in range(5-i):\n",
    "        print(' ',end='')\n",
    "    for b in range(i+1):\n",
    "        print('*',end=' ')\n",
    "    print()   "
   ]
  },
  {
   "cell_type": "code",
   "execution_count": 72,
   "id": "3f22440c",
   "metadata": {
    "scrolled": true
   },
   "outputs": [
    {
     "name": "stdout",
     "output_type": "stream",
     "text": [
      "* * * * * \n",
      "* * * * \n",
      "* * * \n",
      "* * \n",
      "* \n",
      "* \n",
      "* * \n",
      "* * * \n",
      "* * * * \n",
      "* * * * * \n"
     ]
    }
   ],
   "source": [
    "#   * * * * *\n",
    "#   * * * *\n",
    "#   * * *\n",
    "#   * *\n",
    "#   *\n",
    "#   *\n",
    "#   * *\n",
    "#   * * *\n",
    "#   * * * *\n",
    "#   * * * * *\n",
    "for i in range(5):\n",
    "    for a in range(5-i):\n",
    "        print('*',end=' ')\n",
    "    print()\n",
    "for i in range(5):\n",
    "    for a in range(i+1):\n",
    "        print('*',end=' ')\n",
    "    print()"
   ]
  },
  {
   "cell_type": "code",
   "execution_count": 77,
   "id": "050edac7",
   "metadata": {},
   "outputs": [
    {
     "name": "stdout",
     "output_type": "stream",
     "text": [
      "  * * * * * \n",
      "    * * * * \n",
      "      * * * \n",
      "        * * \n",
      "          * \n",
      "          * \n",
      "        * * \n",
      "      * * * \n",
      "    * * * * \n",
      "  * * * * * \n"
     ]
    }
   ],
   "source": [
    "#   * * * * *\n",
    "#     * * * *\n",
    "#       * * *\n",
    "#         * *\n",
    "#           *\n",
    "#           *\n",
    "#         * *\n",
    "#       * * *\n",
    "#     * * * *\n",
    "#   * * * * *\n",
    "for i in range(5):\n",
    "    for a in range(i+1):\n",
    "        print(' ',end=' ')\n",
    "    for b in range(5-i):\n",
    "        print('*',end=' ')\n",
    "    print()\n",
    "for i in range(5):\n",
    "    for b in range(5-i):\n",
    "        print(' ',end=' ')\n",
    "    for a in range(i+1):\n",
    "        print('*',end=' ')\n",
    "    print()"
   ]
  },
  {
   "cell_type": "code",
   "execution_count": 92,
   "id": "4923ab87",
   "metadata": {},
   "outputs": [
    {
     "name": "stdout",
     "output_type": "stream",
     "text": [
      "* \n",
      "* * \n",
      "* * * \n",
      "* * * * \n",
      "* * * * * \n",
      "* * * * * \n",
      "* * * * \n",
      "* * * \n",
      "* * \n",
      "* \n",
      "-------\n",
      "* \n",
      "* * \n",
      "* * * \n",
      "* * * * \n",
      "* * * * * \n",
      "* * * * * \n",
      "* * * * \n",
      "* * * \n",
      "* * \n",
      "* \n"
     ]
    }
   ],
   "source": [
    "for i in range(5):\n",
    "    for a in range(i+1):\n",
    "        print('*',end=' ')\n",
    "    print()\n",
    "for i in range(5):\n",
    "    for a in range(5-i):\n",
    "        print('*',end=' ')\n",
    "    print()\n",
    "print('-------')    \n",
    "# 一个for循环打印\n",
    "for i in range(10):\n",
    "    if i <= 4:\n",
    "        for a in range(i+1):\n",
    "            print('*',end=' ')\n",
    "        print()\n",
    "    else:\n",
    "        for a in range(10-i):\n",
    "            print('*',end=' ')\n",
    "        print()"
   ]
  }
 ],
 "metadata": {
  "kernelspec": {
   "display_name": "Python 3",
   "language": "python",
   "name": "python3"
  },
  "language_info": {
   "codemirror_mode": {
    "name": "ipython",
    "version": 3
   },
   "file_extension": ".py",
   "mimetype": "text/x-python",
   "name": "python",
   "nbconvert_exporter": "python",
   "pygments_lexer": "ipython3",
   "version": "3.8.8"
  }
 },
 "nbformat": 4,
 "nbformat_minor": 5
}
