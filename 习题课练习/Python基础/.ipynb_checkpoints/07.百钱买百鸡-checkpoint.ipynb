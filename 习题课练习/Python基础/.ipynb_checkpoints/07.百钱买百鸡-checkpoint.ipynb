{
 "cells": [
  {
   "cell_type": "markdown",
   "id": "57955a0e",
   "metadata": {},
   "source": [
    "# 百钱买百鸡问题\n",
    "- 穷举法\n",
    "- 公鸡5元一只，母鸡3元一只，小鸡五毛一只\n",
    "- 只有100元，需要刚好买一百只鸡\n",
    "- 问：一共有多少种买法"
   ]
  },
  {
   "cell_type": "code",
   "execution_count": 2,
   "id": "46de99a8",
   "metadata": {},
   "outputs": [
    {
     "name": "stdout",
     "output_type": "stream",
     "text": [
      "0 20 80\n",
      "5 11 84\n",
      "10 2 88\n"
     ]
    }
   ],
   "source": [
    "# 版本一\n",
    "for a in range(101):\n",
    "    for b in range(101):\n",
    "        for c in range(101):\n",
    "            if a + b + c == 100 and 5*a + 3*b + 0.5*c == 100:\n",
    "                print(a,b,c)"
   ]
  },
  {
   "cell_type": "code",
   "execution_count": null,
   "id": "0e53f04d",
   "metadata": {},
   "outputs": [],
   "source": [
    "# 版本二，计算量变小\n",
    "for a in range(21):\n",
    "    for b in range(34):\n",
    "        for c in range(101):\n",
    "            if a + b + c == 100 and 5*a + 3*b + 0.5*c == 100:\n",
    "                print(a,b,c)"
   ]
  },
  {
   "cell_type": "code",
   "execution_count": 4,
   "id": "a3200c15",
   "metadata": {},
   "outputs": [
    {
     "name": "stdout",
     "output_type": "stream",
     "text": [
      "0 20 80\n",
      "5 11 84\n",
      "10 2 88\n"
     ]
    }
   ],
   "source": [
    "# 版本三\n",
    "for a in range(21):\n",
    "    for b in range(34):\n",
    "        c = 100-a-b\n",
    "        if 5*a +3*b +0.5*c == 100:\n",
    "            print(a,b,c)"
   ]
  },
  {
   "cell_type": "markdown",
   "id": "0623a92e",
   "metadata": {},
   "source": [
    "# 鸡兔同笼\n",
    "- 抬脚法\n",
    "- 穷举法"
   ]
  },
  {
   "cell_type": "code",
   "execution_count": 5,
   "id": "32a33fe9",
   "metadata": {},
   "outputs": [
    {
     "name": "stdout",
     "output_type": "stream",
     "text": [
      "10 5\n"
     ]
    }
   ],
   "source": [
    "for a in range(15):\n",
    "    for b in range(15):\n",
    "        if a+b == 15 and 2*a + 4*b == 40:\n",
    "            print(a,b)"
   ]
  },
  {
   "cell_type": "code",
   "execution_count": 8,
   "id": "8bed488e",
   "metadata": {},
   "outputs": [
    {
     "name": "stdout",
     "output_type": "stream",
     "text": [
      "10 5\n"
     ]
    }
   ],
   "source": [
    "for a in range(15):\n",
    "    b = 15-a\n",
    "    if 2*a + 4*b == 40:\n",
    "        print(a,b)"
   ]
  },
  {
   "cell_type": "code",
   "execution_count": 14,
   "id": "26844ca4",
   "metadata": {},
   "outputs": [
    {
     "name": "stdout",
     "output_type": "stream",
     "text": [
      "请输入鸡和兔总共有几只：35\n",
      "请输入总共脚有几只：94\n",
      "23 12\n"
     ]
    }
   ],
   "source": [
    "# 万能公式\n",
    "a = input('请输入鸡和兔总共有几只：')\n",
    "a = int(a)\n",
    "b = input('请输入总共脚有几只：')\n",
    "b = int(b)\n",
    "for m in range(a):\n",
    "    n = a - m\n",
    "    if 2*m + 4*n == b:\n",
    "        print(m,n)"
   ]
  }
 ],
 "metadata": {
  "kernelspec": {
   "display_name": "Python 3",
   "language": "python",
   "name": "python3"
  },
  "language_info": {
   "codemirror_mode": {
    "name": "ipython",
    "version": 3
   },
   "file_extension": ".py",
   "mimetype": "text/x-python",
   "name": "python",
   "nbconvert_exporter": "python",
   "pygments_lexer": "ipython3",
   "version": "3.8.8"
  }
 },
 "nbformat": 4,
 "nbformat_minor": 5
}
