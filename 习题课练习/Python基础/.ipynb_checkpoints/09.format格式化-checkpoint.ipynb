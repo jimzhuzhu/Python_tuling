{
 "cells": [
  {
   "cell_type": "markdown",
   "id": "29f2d423",
   "metadata": {},
   "source": [
    "# format格式化\n",
    "- %， format， f"
   ]
  },
  {
   "cell_type": "code",
   "execution_count": 12,
   "id": "82a69796",
   "metadata": {},
   "outputs": [
    {
     "name": "stdout",
     "output_type": "stream",
     "text": [
      "我叫朱献福, 我今年27\n"
     ]
    }
   ],
   "source": [
    "# 前后数量一定要一致\n",
    "s = '我叫{}, 我今年{}'\n",
    "print(s.format('朱献福',27))"
   ]
  },
  {
   "cell_type": "code",
   "execution_count": 17,
   "id": "f93070e8",
   "metadata": {},
   "outputs": [
    {
     "name": "stdout",
     "output_type": "stream",
     "text": [
      "我叫zhuxianfu, 我今年27,我是凤凰机器人的zhuxianfu\n"
     ]
    }
   ],
   "source": [
    "s = '我叫{0}, 我今年{1},我是凤凰机器人的{0}'\n",
    "print(s.format('zhuxianfu',27))\n",
    "# 类似于关键字参数"
   ]
  },
  {
   "cell_type": "code",
   "execution_count": 20,
   "id": "fad88b53",
   "metadata": {},
   "outputs": [
    {
     "name": "stdout",
     "output_type": "stream",
     "text": [
      "我叫zhuxianfu, 我今年27,我是凤凰机器人的zhuxianfu\n"
     ]
    }
   ],
   "source": [
    "# 关键字参数\n",
    "s = '我叫{name}, 我今年{age},我是凤凰机器人的{name}'\n",
    "print(s.format(name= 'zhuxianfu',age=27))"
   ]
  },
  {
   "cell_type": "code",
   "execution_count": 29,
   "id": "415fc02e",
   "metadata": {},
   "outputs": [
    {
     "name": "stdout",
     "output_type": "stream",
     "text": [
      "我叫朱献福, 我今年27,我是凤凰机器人的朱献福,我最爱的人是刘雨霞\n"
     ]
    }
   ],
   "source": [
    "# 通过下标访问\n",
    "s = '我叫{0[0]}, 我今年{0[1]},我是凤凰机器人的{0[0]},我最爱的人是{1}'\n",
    "print(s.format(['朱献福','27'],'刘雨霞'))b"
   ]
  },
  {
   "cell_type": "code",
   "execution_count": 34,
   "id": "520c3f94",
   "metadata": {},
   "outputs": [
    {
     "name": "stdout",
     "output_type": "stream",
     "text": [
      "我的考试成绩是：89.8\n",
      "我的考试成绩是：89.84\n"
     ]
    }
   ],
   "source": [
    "# 格式限定符号\n",
    "# :1f 小数符号\n",
    "\n",
    "z = '我的考试成绩是：{:.1f}'.format(89.843257)\n",
    "print(z)\n",
    "z = '我的考试成绩是：{:.2f}'.format(89.843257)\n",
    "print(z)"
   ]
  },
  {
   "cell_type": "code",
   "execution_count": 40,
   "id": "d61ca3a9",
   "metadata": {},
   "outputs": [
    {
     "name": "stdout",
     "output_type": "stream",
     "text": [
      "16的二进制是：10000\n",
      "16的二进制是：10000\n",
      "16的八进制是：20\n",
      "16的十六进制是：10\n"
     ]
    }
   ],
   "source": [
    "# 进制转化符号\n",
    "# :b二进制\n",
    "# :o八进制\n",
    "# :x十六进制\n",
    "\n",
    "number = '16的二进制是：{:b}'.format(16)\n",
    "print(number)\n",
    "number = '16的二进制是：{:b}'\n",
    "print(number.format(16))\n",
    "\n",
    "number = '16的八进制是：{:o}'\n",
    "print(number.format(16))\n",
    "number = '16的十六进制是：{:x}'\n",
    "print(number.format(16))"
   ]
  },
  {
   "cell_type": "code",
   "execution_count": 43,
   "id": "3a2a21b9",
   "metadata": {},
   "outputs": [
    {
     "name": "stdout",
     "output_type": "stream",
     "text": [
      "1000000000\n",
      "我有1,000,000钱\n"
     ]
    }
   ],
   "source": [
    "# 金融格式化符号\n",
    "print(1000000000)\n",
    "n = '我有{:,}钱'.format(1000000)\n",
    "print(n)"
   ]
  },
  {
   "cell_type": "code",
   "execution_count": 54,
   "id": "0b48b742",
   "metadata": {},
   "outputs": [
    {
     "name": "stdout",
     "output_type": "stream",
     "text": [
      "我爱刘雨霞       ,哈哈\n",
      "我爱       刘雨霞,哈哈\n",
      "我爱刘雨霞       ,哈哈\n",
      "我爱   刘雨霞    ,哈哈\n"
     ]
    }
   ],
   "source": [
    "# 填充和左右对齐\n",
    "\n",
    "r = '我爱{:10},哈哈'.format('刘雨霞')\n",
    "print(r)\n",
    "# 靠右\n",
    "r = '我爱{:>10},哈哈'.format('刘雨霞')\n",
    "print(r)\n",
    "# 靠左\n",
    "r = '我爱{:<10},哈哈'.format('刘雨霞')\n",
    "print(r)\n",
    "# 居中\n",
    "r = '我爱{:^10},哈哈'.format('刘雨霞')\n",
    "print(r)"
   ]
  }
 ],
 "metadata": {
  "kernelspec": {
   "display_name": "Python 3",
   "language": "python",
   "name": "python3"
  },
  "language_info": {
   "codemirror_mode": {
    "name": "ipython",
    "version": 3
   },
   "file_extension": ".py",
   "mimetype": "text/x-python",
   "name": "python",
   "nbconvert_exporter": "python",
   "pygments_lexer": "ipython3",
   "version": "3.8.8"
  }
 },
 "nbformat": 4,
 "nbformat_minor": 5
}
