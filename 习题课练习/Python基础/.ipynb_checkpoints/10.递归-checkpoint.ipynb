{
 "cells": [
  {
   "cell_type": "markdown",
   "id": "81077306",
   "metadata": {},
   "source": [
    "# 递归函数\n",
    "- 分两个过程，递归调用+回溯"
   ]
  },
  {
   "cell_type": "code",
   "execution_count": 6,
   "id": "b071c30c",
   "metadata": {},
   "outputs": [
    {
     "name": "stdout",
     "output_type": "stream",
     "text": [
      "$5\n",
      "$4\n",
      "$3\n",
      "$2\n",
      "$1\n",
      "$0\n",
      "====================\n",
      "0\n",
      "1\n",
      "2\n",
      "3\n",
      "4\n",
      "5\n"
     ]
    }
   ],
   "source": [
    "def digui(n):\n",
    "    print('$'+str(n))\n",
    "    \n",
    "    if n > 0:\n",
    "        digui(n-1)\n",
    "    else:\n",
    "        print('='*20)\n",
    "    # 回溯 从小到大反向\n",
    "    print(n)    \n",
    "\n",
    "# 调用\n",
    "digui(5)"
   ]
  },
  {
   "cell_type": "code",
   "execution_count": 2,
   "id": "92ead705",
   "metadata": {},
   "outputs": [
    {
     "name": "stdout",
     "output_type": "stream",
     "text": [
      "20263813\n",
      "399912602\n"
     ]
    }
   ],
   "source": [
    "# 统计文件夹文件大小\n",
    "# 苹果查找路径方式\n",
    "# 一：终端 Terminal获取，将文件拖拽到命令行中\n",
    "# 二：使用访达中菜单栏中的显示，快捷键[option+command+p]\n",
    "# 三：使用终端命令行代码指令位置\n",
    "# 四：选中文件夹右键选中显示简介，快捷键[command+i]\n",
    "# 五：快捷键 option+command+c \n",
    "import os\n",
    "def getdirpath(dirpath):\n",
    "    total = 0\n",
    "    allname = os.listdir(dirpath)# 得到文件夹所有名称\n",
    "    for name in allname:\n",
    "        fullpath = os.path.join(dirpath,name)# 拼接文件和文件夹名称\n",
    "        if os.path.isfile(fullpath):# 判断是不是文件\n",
    "            total += os.path.getsize(fullpath)\n",
    "        elif os.path.isdir(fullpath):# 判断是不是文件夹\n",
    "            total += getdirpath(fullpath)\n",
    "    return total\n",
    "\n",
    "size1 = getdirpath(r'/Users/jimzhuzhu/Documents')\n",
    "size2 = getdirpath(r'/Users/jimzhuzhu/Downloads')\n",
    "print(size1)\n",
    "print(size2)"
   ]
  },
  {
   "cell_type": "code",
   "execution_count": 20,
   "id": "242be535",
   "metadata": {},
   "outputs": [
    {
     "name": "stdout",
     "output_type": "stream",
     "text": [
      "请输入汉诺塔的层数：2\n",
      "移动了1次 A --> B\n",
      "移动了2次 A --> C\n",
      "移动了3次 B --> C\n"
     ]
    }
   ],
   "source": [
    "# 汉诺塔\n",
    "\n",
    "# A,B,C\n",
    "# 所有盘子都在A\n",
    "# 从大到小罗列\n",
    "# 要求：A->C，借助B，所有过程，必须保持盘子从大到小顺序罗列\n",
    "# i:移动的次数\n",
    "i = 0    \n",
    "a = 'A'\n",
    "b = 'B'\n",
    "c = 'C'\n",
    "def move(n,a,b,c):\n",
    "    global i\n",
    "    if n == 1:\n",
    "        i += 1\n",
    "        print('移动了{}次'.format(i),a,'-->',c)\n",
    "        return\n",
    "    if n == 2:\n",
    "        i += 1\n",
    "        print('移动了{}次'.format(i),a,'-->',b)\n",
    "        i += 1\n",
    "        print('移动了{}次'.format(i),a,'-->',c)\n",
    "        i += 1\n",
    "        print('移动了{}次'.format(i),b,'-->',c)\n",
    "        return None\n",
    "    # n-1看做一个整体，然后执行第一步调整B柱和C柱的位置\n",
    "    move(n-1,a,c,b )\n",
    "    # n为一时，此为最大环移动，执行一阶汉诺塔解决步骤\n",
    "    move(1,a,b,c)\n",
    "    # n-1为一个整体，调整A和B柱的位置\n",
    "    move(n-1,b,a,c)\n",
    "n = input('请输入汉诺塔的层数：')\n",
    "n = int(n)\n",
    "move(n,a,b,c)"
   ]
  },
  {
   "cell_type": "code",
   "execution_count": 22,
   "id": "7e0ffc61",
   "metadata": {},
   "outputs": [
    {
     "name": "stdout",
     "output_type": "stream",
     "text": [
      "请输入汉诺塔的层数：3\n",
      "移动了1次 A --> C\n",
      "移动了2次 A --> B\n",
      "移动了3次 C --> B\n",
      "移动了4次 A --> C\n",
      "移动了5次 B --> A\n",
      "移动了6次 B --> C\n",
      "移动了7次 A --> C\n"
     ]
    }
   ],
   "source": [
    "i = 0    \n",
    "a = 'A'\n",
    "b = 'B'\n",
    "c = 'C'\n",
    "def move(n,a,b,c):\n",
    "    global i\n",
    "    if n == 1:\n",
    "        i += 1\n",
    "        print('移动了{}次'.format(i),a,'-->',c)\n",
    "        return\n",
    "    else:\n",
    "        # n-1看做一个整体，然后执行第一步调整B柱和C柱的位置\n",
    "        move(n-1,a,c,b )\n",
    "        # n为一时，此为最大环移动，执行一阶汉诺塔解决步骤\n",
    "        move(1,a,b,c)\n",
    "        # n-1为一个整体，调整A和B柱的位置\n",
    "        move(n-1,b,a,c)\n",
    "n = input('请输入汉诺塔的层数：')\n",
    "n = int(n)\n",
    "move(n,a,b,c)"
   ]
  }
 ],
 "metadata": {
  "kernelspec": {
   "display_name": "Python 3",
   "language": "python",
   "name": "python3"
  },
  "language_info": {
   "codemirror_mode": {
    "name": "ipython",
    "version": 3
   },
   "file_extension": ".py",
   "mimetype": "text/x-python",
   "name": "python",
   "nbconvert_exporter": "python",
   "pygments_lexer": "ipython3",
   "version": "3.8.8"
  }
 },
 "nbformat": 4,
 "nbformat_minor": 5
}
