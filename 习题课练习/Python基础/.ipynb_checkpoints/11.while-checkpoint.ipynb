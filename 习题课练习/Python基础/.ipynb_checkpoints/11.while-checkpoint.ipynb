{
 "cells": [
  {
   "cell_type": "markdown",
   "id": "d8a3b064",
   "metadata": {},
   "source": [
    "# while循环"
   ]
  },
  {
   "cell_type": "code",
   "execution_count": null,
   "id": "61fd27e9",
   "metadata": {},
   "outputs": [],
   "source": [
    "# 三位数分解：\n",
    "a = 123\n",
    "a1 = a % 10 # 取余\n",
    "a2 = a // 10 % 10\n",
    "a3 = a // 100\n",
    "print(a1,a2,a3)"
   ]
  },
  {
   "cell_type": "code",
   "execution_count": 1,
   "id": "f63273fa",
   "metadata": {},
   "outputs": [
    {
     "name": "stdout",
     "output_type": "stream",
     "text": [
      "4 3 2 1\n"
     ]
    }
   ],
   "source": [
    "# 四位数分解\n",
    "a = 1234\n",
    "a1 = a % 10\n",
    "a2 = a // 10 % 10\n",
    "a3 = a // 100 % 10\n",
    "a4 = a // 1000\n",
    "print(a1,a2,a3,a4)"
   ]
  },
  {
   "cell_type": "code",
   "execution_count": 9,
   "id": "bf1c1047",
   "metadata": {},
   "outputs": [
    {
     "name": "stdout",
     "output_type": "stream",
     "text": [
      "请输入任意数字进行分解：123\n",
      "3 2 1 "
     ]
    }
   ],
   "source": [
    "# 任意数分解，利用循环\n",
    "i = input('请输入任意数字进行分解：')\n",
    "# 将字符串转化为整型\n",
    "i = int(i)\n",
    "while i:\n",
    "    n = i % 10 # 先将输入的数字取余变成xxx0\n",
    "    i = i // 10 # 整除后减少一位数变成xxx\n",
    "    print(n,end=' ')"
   ]
  },
  {
   "cell_type": "code",
   "execution_count": 14,
   "id": "2a6b2eed",
   "metadata": {},
   "outputs": [
    {
     "name": "stdout",
     "output_type": "stream",
     "text": [
      "1387\n"
     ]
    }
   ],
   "source": [
    "# 利息计算\n",
    "# 利息万分之五，多长时间本钱翻倍\n",
    "s = 10000\n",
    "t = 0 # 天数\n",
    "while s <= 20000:\n",
    "    s += s*0.0005\n",
    "    t += 1\n",
    "print(t)"
   ]
  }
 ],
 "metadata": {
  "kernelspec": {
   "display_name": "Python 3",
   "language": "python",
   "name": "python3"
  }
 },
 "nbformat": 4,
 "nbformat_minor": 5
}
