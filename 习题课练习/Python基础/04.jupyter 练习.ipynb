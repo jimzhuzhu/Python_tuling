{
 "cells": [
  {
   "cell_type": "code",
   "execution_count": 1,
   "id": "e76e5f68",
   "metadata": {},
   "outputs": [
    {
     "name": "stdout",
     "output_type": "stream",
     "text": [
      "Hello world\n",
      "哈哈哈\n",
      "我爱刘雨霞\n"
     ]
    }
   ],
   "source": [
    "print(\"Hello world\")\n",
    "print(\"哈哈哈\")\n",
    "print(\"我爱刘雨霞\")"
   ]
  },
  {
   "cell_type": "markdown",
   "id": "4b54b0be",
   "metadata": {},
   "source": [
    "# 井号标题\n",
    "- 笔记模式可以学习makedown\n",
    "    - jupyter怎么使用啊"
   ]
  },
  {
   "cell_type": "code",
   "execution_count": null,
   "id": "cb391a3f",
   "metadata": {},
   "outputs": [],
   "source": []
  },
  {
   "cell_type": "code",
   "execution_count": null,
   "id": "c0dd7ae7",
   "metadata": {},
   "outputs": [],
   "source": []
  }
 ],
 "metadata": {
  "kernelspec": {
   "display_name": "Python 3",
   "language": "python",
   "name": "python3"
  },
  "language_info": {
   "codemirror_mode": {
    "name": "ipython",
    "version": 3
   },
   "file_extension": ".py",
   "mimetype": "text/x-python",
   "name": "python",
   "nbconvert_exporter": "python",
   "pygments_lexer": "ipython3",
   "version": "3.8.8"
  }
 },
 "nbformat": 4,
 "nbformat_minor": 5
}
