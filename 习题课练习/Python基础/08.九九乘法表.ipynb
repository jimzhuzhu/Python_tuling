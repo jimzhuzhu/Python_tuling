{
 "cells": [
  {
   "cell_type": "markdown",
   "id": "69a9aa4f",
   "metadata": {},
   "source": [
    "# 九九乘法表"
   ]
  },
  {
   "cell_type": "code",
   "execution_count": 2,
   "id": "5bd23362",
   "metadata": {
    "scrolled": true
   },
   "outputs": [
    {
     "name": "stdout",
     "output_type": "stream",
     "text": [
      "1 | \n",
      "2 | 4 | \n",
      "3 | 6 | 9 | \n",
      "4 | 8 | 12 | 16 | \n",
      "5 | 10 | 15 | 20 | 25 | \n",
      "6 | 12 | 18 | 24 | 30 | 36 | \n",
      "7 | 14 | 21 | 28 | 35 | 42 | 49 | \n",
      "8 | 16 | 24 | 32 | 40 | 48 | 56 | 64 | \n",
      "9 | 18 | 27 | 36 | 45 | 54 | 63 | 72 | 81 | \n",
      "1 \n",
      "2 4 \n",
      "3 6 9 \n",
      "4 8 12 16 \n",
      "5 10 15 20 25 \n",
      "6 12 18 24 30 36 \n",
      "7 14 21 28 35 42 49 \n",
      "8 16 24 32 40 48 56 64 \n",
      "9 18 27 36 45 54 63 72 81 \n"
     ]
    }
   ],
   "source": [
    "for i in range(1,10):\n",
    "    for o in range(1,i+1):\n",
    "        print(i*o,end=' | ')\n",
    "    print()\n",
    "for i in range(1,10):\n",
    "    for j in range(1,i+1):\n",
    "        print(i*j,end=' ')\n",
    "    print()"
   ]
  },
  {
   "cell_type": "code",
   "execution_count": 9,
   "id": "13802ab3",
   "metadata": {},
   "outputs": [
    {
     "name": "stdout",
     "output_type": "stream",
     "text": [
      "5 10 15 20 25 30 35 40 45 \n",
      "5 10 15 20 25 30 35 40 45 "
     ]
    }
   ],
   "source": [
    "# 打印乘法表的第五行\n",
    "for a in range(5,50,5):\n",
    "    print(a,end=' ')\n",
    "print()\n",
    "\n",
    "for i in range(1,10):\n",
    "    print(i*5,end=' ')\n",
    "    "
   ]
  },
  {
   "cell_type": "code",
   "execution_count": 37,
   "id": "c9796465",
   "metadata": {},
   "outputs": [
    {
     "name": "stdout",
     "output_type": "stream",
     "text": [
      " 1 | \n",
      " 2 |  4 | \n",
      " 3 |  6 |  9 | \n",
      " 4 |  8 | 12 | 16 | \n",
      " 5 | 10 | 15 | 20 | 25 | \n",
      " 6 | 12 | 18 | 24 | 30 | 36 | \n",
      " 7 | 14 | 21 | 28 | 35 | 42 | 49 | \n",
      " 8 | 16 | 24 | 32 | 40 | 48 | 56 | 64 | \n",
      " 9 | 18 | 27 | 36 | 45 | 54 | 63 | 72 | 81 | \n"
     ]
    }
   ],
   "source": [
    "for i in range(1,10):\n",
    "    for j in range(1,i+1):\n",
    "        print('{:2}'.format(i*j),end=' | ')\n",
    "    print()"
   ]
  },
  {
   "cell_type": "code",
   "execution_count": 25,
   "id": "a3716633",
   "metadata": {
    "scrolled": true
   },
   "outputs": [
    {
     "name": "stdout",
     "output_type": "stream",
     "text": [
      "                            1 \n",
      "                         2  4 \n",
      "                      3  6  9 \n",
      "                   4  8 12 16 \n",
      "                5 10 15 20 25 \n",
      "             6 12 18 24 30 36 \n",
      "          7 14 21 28 35 42 49 \n",
      "       8 16 24 32 40 48 56 64 \n",
      "    9 18 27 36 45 54 63 72 81 \n"
     ]
    }
   ],
   "source": [
    "for i in range(1,10):\n",
    "    for a in range(10-i):\n",
    "        print(' ',end='  ')\n",
    "    for j in range(1,1+i):\n",
    "        print('{:2}'.format(i*j),end=' ')\n",
    "    print()"
   ]
  },
  {
   "cell_type": "code",
   "execution_count": 44,
   "id": "e00ba65a",
   "metadata": {},
   "outputs": [
    {
     "name": "stdout",
     "output_type": "stream",
     "text": [
      "1x1=1 \n",
      "2x1=2 2x2=4 \n",
      "3x1=3 3x2=6 3x3=9 \n",
      "4x1=4 4x2=8 4x3=12 4x4=16 \n",
      "5x1=5 5x2=10 5x3=15 5x4=20 5x5=25 \n",
      "6x1=6 6x2=12 6x3=18 6x4=24 6x5=30 6x6=36 \n",
      "7x1=7 7x2=14 7x3=21 7x4=28 7x5=35 7x6=42 7x7=49 \n",
      "8x1=8 8x2=16 8x3=24 8x4=32 8x5=40 8x6=48 8x7=56 8x8=64 \n",
      "9x1=9 9x2=18 9x3=27 9x4=36 9x5=45 9x6=54 9x7=63 9x8=72 9x9=81 \n",
      "--------------\n",
      "1x1= 1 \n",
      "2x1= 2 2x2= 4 \n",
      "3x1= 3 3x2= 6 3x3= 9 \n",
      "4x1= 4 4x2= 8 4x3=12 4x4=16 \n",
      "5x1= 5 5x2=10 5x3=15 5x4=20 5x5=25 \n",
      "6x1= 6 6x2=12 6x3=18 6x4=24 6x5=30 6x6=36 \n",
      "7x1= 7 7x2=14 7x3=21 7x4=28 7x5=35 7x6=42 7x7=49 \n",
      "8x1= 8 8x2=16 8x3=24 8x4=32 8x5=40 8x6=48 8x7=56 8x8=64 \n",
      "9x1= 9 9x2=18 9x3=27 9x4=36 9x5=45 9x6=54 9x7=63 9x8=72 9x9=81 \n"
     ]
    }
   ],
   "source": [
    "# 打印 1 x 1 = 1格式，\n",
    "# 使用format格式或f—格式\n",
    "for i in range(1,10):\n",
    "    for j in range(1,i+1):\n",
    "        print(f'{i}x{j}={i*j}',end=' ')\n",
    "    print()\n",
    "print('--------------')\n",
    "for i in range(1,10,):\n",
    "    for j in range(1,i+1):\n",
    "        print('{}x{}={:2}'.format(i,j,i*j),end=' ')\n",
    "    print()"
   ]
  }
 ],
 "metadata": {
  "kernelspec": {
   "display_name": "Python 3",
   "language": "python",
   "name": "python3"
  },
  "language_info": {
   "codemirror_mode": {
    "name": "ipython",
    "version": 3
   },
   "file_extension": ".py",
   "mimetype": "text/x-python",
   "name": "python",
   "nbconvert_exporter": "python",
   "pygments_lexer": "ipython3",
   "version": "3.8.8"
  }
 },
 "nbformat": 4,
 "nbformat_minor": 5
}
