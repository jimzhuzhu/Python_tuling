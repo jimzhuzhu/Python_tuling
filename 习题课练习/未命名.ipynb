{
 "cells": [
  {
   "cell_type": "code",
   "execution_count": 10,
   "id": "25bad2fa",
   "metadata": {},
   "outputs": [
    {
     "name": "stdout",
     "output_type": "stream",
     "text": [
      "恭喜你，注册成功\n",
      "登录的用户名没有注册\n"
     ]
    }
   ],
   "source": [
    "user_pass = {}\n",
    "\n",
    "def create_user(username,password):\n",
    "    \n",
    "    usernames = user_pass.keys()\n",
    "    \n",
    "    if username in usernames:\n",
    "        print('你注册的用户名已存在')\n",
    "    else:\n",
    "        user_pass[username] = password\n",
    "        print('恭喜你，注册成功')\n",
    "        \n",
    "create_user('jimzhuzhu',123)\n",
    "\n",
    "def login_user(username,password):\n",
    "    usernames = user_pass.keys()\n",
    "    if username not in usernames:\n",
    "        print('登录的用户名没有注册')\n",
    "    elif user_pass[username] != password:\n",
    "        print('密码错误')\n",
    "    else:\n",
    "        print('登录成功，欢迎使用')\n",
    "\n",
    "login_user('jimzhuzh',123)"
   ]
  }
 ],
 "metadata": {
  "kernelspec": {
   "display_name": "Python 3",
   "language": "python",
   "name": "python3"
  },
  "language_info": {
   "codemirror_mode": {
    "name": "ipython",
    "version": 3
   },
   "file_extension": ".py",
   "mimetype": "text/x-python",
   "name": "python",
   "nbconvert_exporter": "python",
   "pygments_lexer": "ipython3",
   "version": "3.8.8"
  }
 },
 "nbformat": 4,
 "nbformat_minor": 5
}
